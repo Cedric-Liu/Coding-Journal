{
 "cells": [
  {
   "cell_type": "markdown",
   "metadata": {},
   "source": [
    "# Chapter 5 Assignment\n",
    "In this assignment, you will be implementing a basic Convolutional Neural Network in order to classify images from the publicly available [CIFAR-10](https://www.cs.toronto.edu/~kriz/cifar.html) dataset. This dataset is a subset of the larger CIFAR-100 dataset with only 10 unique image classes as opposed to 100. We encourage you to follow the hyperlink in to learn more about the dataset!\n",
    "\n",
    "First of all, let's import the necessary modules."
   ]
  },
  {
   "cell_type": "code",
   "execution_count": 1,
   "metadata": {},
   "outputs": [],
   "source": [
    "import tensorflow as tf\n",
    "from tensorflow import keras\n",
    "from tensorflow.keras import layers\n",
    "import numpy as np\n",
    "import matplotlib.pyplot as plt"
   ]
  },
  {
   "cell_type": "markdown",
   "metadata": {},
   "source": [
    "Next, we want to import all of the data. When working with data, it is commonplace to find instructions with how to use and import the data. This happens to be the case with CIFAR-10 dataset. Scroll down to the \"Dataset Layout\" section on the website linked above and refer to the instructions for Python3 to fill in this part of the assignment. "
   ]
  },
  {
   "cell_type": "code",
   "execution_count": 2,
   "metadata": {},
   "outputs": [],
   "source": [
    "# TODO: Define the unpickle function below\n",
    "# Note: Replace encoding='bytes' with encoding='latin1'\n",
    "def unpickle(file):\n",
    "    import pickle\n",
    "    with open(file, 'rb') as fo:\n",
    "        dict = pickle.load(fo, encoding = 'latin1')\n",
    "    return dict"
   ]
  },
  {
   "cell_type": "markdown",
   "metadata": {},
   "source": [
    "The website includes information about what is included in the dict that the unpickle function returns. Use that information to extract the data from the dict so that you have all of the data in numpy array format without the unnecessary meta information included in the dict. Also, since the train data is separated into batches, combine all of the batches so that you have freedom to use any number of batches later when you define the model."
   ]
  },
  {
   "cell_type": "code",
   "execution_count": 3,
   "metadata": {},
   "outputs": [],
   "source": [
    "# Location of the data files, feel free to modify if needed\n",
    "data_dir = \"./\"\n",
    "\n",
    "train_data_dirs = [data_dir+\"data_batch_{}\".format(i) for i in range(1,6)]\n",
    "\n",
    "train_data = None\n",
    "train_labels = None\n",
    "\n",
    "# TODO: Unpickle each batch and combine the data from ever batch\n",
    "# into the two numpy arrays train_data and train_labels\n",
    "train_data = unpickle(train_data_dirs[0])['data']\n",
    "train_labels = np.array(unpickle(train_data_dirs[0])['labels'])\n",
    "for i in range(1,len(train_data_dirs)):\n",
    "    train_data = np.concatenate((train_data, unpickle(train_data_dirs[i])['data']), axis = 0)\n",
    "    train_labels = np.concatenate((train_labels, np.array(unpickle(train_data_dirs[i])['labels'])),\\\n",
    "                                 axis = 0)\n",
    "train_data = train_data.astype(np.float32)\n",
    "train_labels = train_labels.astype(np.float32)\n",
    "# Do not change these. If they are failing, you should revisit \n",
    "# how you combined all of the batches into one\n",
    "assert train_data.shape == (50000, 3072)\n",
    "assert train_labels.shape == (50000,)"
   ]
  },
  {
   "cell_type": "code",
   "execution_count": 4,
   "metadata": {},
   "outputs": [],
   "source": [
    "test_data_dir = data_dir+\"test_batch\"\n",
    "\n",
    "test_data = None\n",
    "test_labels = None\n",
    "\n",
    "# TODO: Unpickle test batch and set test_data and test_labels\n",
    "# to the appropriate numpy arrays\n",
    "test_data = np.array(unpickle(test_data_dir)['data'])\n",
    "test_labels = np.array(unpickle(test_data_dir)['labels'])\n",
    "test_data = test_data.astype(np.float32)\n",
    "test_labels = test_labels.astype(np.float32)\n",
    "# Do not change these. If they are failing, you should revisit \n",
    "# how you extracted the data from the test_batch file\n",
    "assert test_data.shape == (10000, 3072)\n",
    "assert test_labels.shape == (10000,)"
   ]
  },
  {
   "cell_type": "code",
   "execution_count": 5,
   "metadata": {},
   "outputs": [],
   "source": [
    "meta_data_dir = data_dir+\"batches.meta\"\n",
    "\n",
    "label_names = None\n",
    "\n",
    "# TODO: Unpickle meta data and extract labels names \n",
    "label_names = unpickle(meta_data_dir)['label_names']\n",
    "\n",
    "assert len(label_names) == 10"
   ]
  },
  {
   "cell_type": "markdown",
   "metadata": {},
   "source": [
    "Since the values of each pixel for each color channel are in the range \\[0,255\\], this could cause problems with exploding gradients. To combat this, it would greatly help if the data were bounded in the range \\[0,1\\]. The technique you should implement for scaling down the data is called [Min Max Normalization](https://www.quora.com/What-is-the-meaning-of-min-max-normalization). Use the functions [np.min](https://docs.scipy.org/doc/numpy-1.15.0/reference/generated/numpy.minimum.html), and [np.max](https://docs.scipy.org/doc/numpy-1.15.0/reference/generated/numpy.maximum.html) to complete this section. Here is a reference image for how Min Max Normalization is computed:\n",
    "![image.png](attachment:image.png)"
   ]
  },
  {
   "cell_type": "code",
   "execution_count": 6,
   "metadata": {},
   "outputs": [],
   "source": [
    "# TODO: Fill in the min max normalization function\n",
    "def min_max_normalization(x):\n",
    "    for i in range(len(x)):\n",
    "        # For the red channel:\n",
    "        red_min = np.min(x[i][:1024])\n",
    "        red_max = np.max(x[i][:1024])\n",
    "        for j in range(1024):\n",
    "            x[i][j] = (x[i][j] - red_min) / (red_max - red_min)\n",
    "            \n",
    "        # For the green channel:\n",
    "        green_min = np.min(x[i][1024:2048])\n",
    "        green_max = np.max(x[i][1024:2048])\n",
    "        for j in range(1024,2048):\n",
    "            x[i][j] = (x[i][j] - green_min) / (green_max - green_min)\n",
    "            \n",
    "        # For the blue channel:\n",
    "        blue_min = np.min(x[i][2048:])\n",
    "        blue_max = np.max(x[i][2048:])\n",
    "        for j in range(2048,3072):\n",
    "            x[i][j] = (x[i][j] - blue_min) / (blue_max - blue_min)\n",
    "    return x\n",
    "    \n",
    "    \n",
    "train_data = min_max_normalization(train_data)\n",
    "test_data = min_max_normalization(test_data)"
   ]
  },
  {
   "cell_type": "markdown",
   "metadata": {},
   "source": [
    "We are now almost done preprocessing our data. As you can see, the the current dimensions of `train_data` and `test_data` are `(50000, 3072)` and `(10000, 3072)` respectively. This implies that every image is represented as a 1D vector of size 32\\*32\\*3 = 3072. This will not work for a CNN since the spatial relationship of the pixels is not preserved and the CNN expects an image with shape `(32, 32, 3)`. In this next part you will reshape `train_data` and `test_data` in order to reflect the more natural representation of an image.\n",
    "\n",
    "Here are some useful functions to use when completing this part: [np.reshape](https://docs.scipy.org/doc/numpy-1.15.0/reference/generated/numpy.reshape.html), [np.transpose](https://docs.scipy.org/doc/numpy-1.15.0/reference/generated/numpy.transpose.html)"
   ]
  },
  {
   "cell_type": "code",
   "execution_count": 7,
   "metadata": {
    "scrolled": true
   },
   "outputs": [
    {
     "data": {
      "text/plain": [
       "Text(0.5, 1.0, 'frog')"
      ]
     },
     "execution_count": 7,
     "metadata": {},
     "output_type": "execute_result"
    },
    {
     "data": {
      "image/png": "[encoded data removed]",
      "text/plain": [
       "<Figure size 432x288 with 1 Axes>"
      ]
     },
     "metadata": {
      "needs_background": "light"
     },
     "output_type": "display_data"
    }
   ],
   "source": [
    "# TODO: Reshape the train and test data batches\n",
    "def reshape_data(data):\n",
    "    # Hint: Read the section \"Dataset Layout\" to understand how\n",
    "    # the 1D array encodes the image to help you reshape it\n",
    "    features = data.reshape((len(data)), 3, 32, 32).transpose(0, 2, 3, 1)\n",
    "    return features\n",
    "\n",
    "reshaped_train_data = reshape_data(train_data)\n",
    "reshaped_test_data = reshape_data(test_data)\n",
    "\n",
    "\n",
    "# Change the value of 'i' and see if the pictures resemble their labels\n",
    "# Don't continue past this point if the images don't seem to resemble anything\n",
    "i = 0\n",
    "plt.imshow(reshaped_train_data[i])\n",
    "plt.title(label_names[int(train_labels[i])])"
   ]
  },
  {
   "cell_type": "markdown",
   "metadata": {},
   "source": [
    "Lastly, we want to one-hot encode the labels vector. If you are unfamiliar with one hot encoding, it essentially transforms categorical data into something more interpretable by classification models. Currently, each label for a given image is represented as a single number representing the index of the corresponding class out of the 10 possible classes. Thus, the value is categorical rather than quantitative. To fix this, we label each image with a vector of size 10 where each entry to the vector is 0 for all indices other than of the correct label. The code below demonstrates an example of that one-hot encoding would do to several examples."
   ]
  },
  {
   "cell_type": "code",
   "execution_count": 8,
   "metadata": {},
   "outputs": [],
   "source": [
    "a_label = 3\n",
    "b_label = 5\n",
    "\n",
    "a_one_hot_encoded_label = [0, 0, 0, 1, 0, 0, 0, 0, 0, 0]\n",
    "b_one_hot_encoded_label = [0, 0, 0, 0, 0, 1, 0, 0, 0, 0]"
   ]
  },
  {
   "cell_type": "markdown",
   "metadata": {},
   "source": [
    "Now we can train a model to predict the probability that an image is in a specific class for every one of the 10 classes. The true label that we would want to approach is predicting 0 for all classes except for the correct one where we want to predict 1. You can use the [keras.utils.to_categorical](https://www.tensorflow.org/api_docs/python/tf/keras/utils/to_categorical) function to encode the train and test labels."
   ]
  },
  {
   "cell_type": "code",
   "execution_count": 9,
   "metadata": {},
   "outputs": [],
   "source": [
    "# TODO: use keras.utils.to_categorical to one hot encode the train and test labels\n",
    "one_hot_train = tf.keras.utils.to_categorical(train_labels, num_classes = 10)\n",
    "one_hot_test = tf.keras.utils.to_categorical(test_labels, num_classes = 10)\n",
    "\n",
    "assert one_hot_train.shape == (50000, 10)\n",
    "assert one_hot_test.shape == (10000, 10)"
   ]
  },
  {
   "cell_type": "markdown",
   "metadata": {},
   "source": [
    "We can now finally build the model itself. Refer to the DLP Chapter 5 notebooks for guidance on how to build a CNN using Sequential(). We have also provided some links to documentation of important layers you should be using in your CNN:\n",
    "- [layers.Conv2D](https://www.tensorflow.org/api_docs/python/tf/keras/layers/Conv2D)\n",
    "- [layers.MaxPool2D](https://www.tensorflow.org/api_docs/python/tf/keras/layers/MaxPool2D)\n",
    "- [layers.Flatten](https://www.tensorflow.org/api_docs/python/tf/keras/layers/Flatten)\n",
    "- [layers.Dense](https://www.tensorflow.org/api_docs/python/tf/keras/layers/Dense)"
   ]
  },
  {
   "cell_type": "code",
   "execution_count": 10,
   "metadata": {},
   "outputs": [
    {
     "name": "stderr",
     "output_type": "stream",
     "text": [
      "WARNING: Logging before flag parsing goes to stderr.\n",
      "W0210 22:30:03.928844 140490426271552 deprecation.py:506] From /gpfs/data/data2040/tf2gpu2/lib/python3.6/site-packages/tensorflow/python/keras/layers/core.py:148: calling dropout (from tensorflow.python.ops.nn_ops) with keep_prob is deprecated and will be removed in a future version.\n",
      "Instructions for updating:\n",
      "Please use `rate` instead of `keep_prob`. Rate should be set to `rate = 1 - keep_prob`.\n"
     ]
    }
   ],
   "source": [
    "def cnn_model():\n",
    "    model = keras.models.Sequential()\n",
    "    # TODO: Build the Convolutional portion of the model\n",
    "    model.add(layers.Conv2D(64, (3, 3), input_shape=(32, 32, 3), activation='relu'))\n",
    "    model.add(layers.MaxPooling2D((2, 2)))\n",
    "    model.add(layers.Conv2D(128, (3, 3), activation='relu'))\n",
    "    model.add(layers.MaxPooling2D((2, 2)))\n",
    "    model.add(layers.Conv2D(128, (3, 3), activation='relu'))\n",
    "    model.add(layers.MaxPooling2D((2, 2)))\n",
    "    # TODO: Flatten the output of the convolutional layers and\n",
    "    # pass it to a fully connected network to predict the label vector\n",
    "    model.add(layers.Flatten())\n",
    "    model.add(layers.Dense(128, activation='relu'))\n",
    "    model.add(layers.Dropout(0.3))\n",
    "    model.add(layers.Dense(256, activation='relu'))\n",
    "    model.add(layers.Dropout(0.3))\n",
    "    model.add(layers.Dense(10, activation='softmax'))\n",
    "    # Hint: Which activation function should be used in the final layer\n",
    "    # so that the output of the model is a probability distribution?\n",
    "    return model\n",
    "\n",
    "model = cnn_model()"
   ]
  },
  {
   "cell_type": "markdown",
   "metadata": {},
   "source": [
    "Finally, compile and fit the model it using the training data. You should use the following hyperparameters to to ensure consistency with our grading:\n",
    "- __optimizer:__ \"Adam\"\n",
    "- __loss:__ \"categorical_crossentropy\"\n",
    "- __metrics:__ \\[\"accuracy\"\\]"
   ]
  },
  {
   "cell_type": "code",
   "execution_count": 11,
   "metadata": {},
   "outputs": [
    {
     "name": "stdout",
     "output_type": "stream",
     "text": [
      "Train on 50000 samples, validate on 10000 samples\n",
      "Epoch 1/8\n",
      "50000/50000==============================] - 16s 320us/sample - loss: 1.7695 - acc: 0.3401 - val_loss: 1.3360 - val_acc: 0.5133\n",
      "Epoch 2/8\n",
      "50000/50000==============================] - 4s 71us/sample - loss: 1.3030 - acc: 0.5310 - val_loss: 1.1382 - val_acc: 0.6002\n",
      "Epoch 3/8\n",
      "50000/50000==============================] - 4s 72us/sample - loss: 1.1122 - acc: 0.6068 - val_loss: 1.0368 - val_acc: 0.6317\n",
      "Epoch 4/8\n",
      "50000/50000==============================] - 4s 73us/sample - loss: 0.9869 - acc: 0.6547 - val_loss: 0.9556 - val_acc: 0.6706\n",
      "Epoch 5/8\n",
      "50000/50000==============================] - 4s 71us/sample - loss: 0.8986 - acc: 0.6857 - val_loss: 0.8550 - val_acc: 0.7036\n",
      "Epoch 6/8\n",
      "50000/50000==============================] - 4s 73us/sample - loss: 0.8360 - acc: 0.7102 - val_loss: 0.8765 - val_acc: 0.6977\n",
      "Epoch 7/8\n",
      "50000/50000==============================] - 4s 71us/sample - loss: 0.7612 - acc: 0.7352 - val_loss: 0.8396 - val_acc: 0.7103\n",
      "Epoch 8/8\n",
      "50000/50000==============================] - 4s 71us/sample - loss: 0.7196 - acc: 0.7477 - val_loss: 0.7862 - val_acc: 0.7286\n"
     ]
    }
   ],
   "source": [
    "train_x = reshaped_train_data\n",
    "train_y = one_hot_train\n",
    "\n",
    "val_x = reshaped_test_data\n",
    "val_y = one_hot_test\n",
    "\n",
    "# TODO: Compile the model\n",
    "model.compile(optimizer='Adam',\n",
    "              loss='categorical_crossentropy',\n",
    "              metrics=['accuracy'])\n",
    "# TODO: Fit the model to the train data using model.fit\n",
    "fit = model.fit(train_x, \n",
    "                train_y, \n",
    "                epochs = 8, \n",
    "                batch_size = 128,validation_data=(val_x, val_y))"
   ]
  },
  {
   "cell_type": "code",
   "execution_count": 12,
   "metadata": {},
   "outputs": [
    {
     "data": {
      "image/png": "[encoded data removed]",
      "text/plain": [
       "<Figure size 432x288 with 1 Axes>"
      ]
     },
     "metadata": {
      "needs_background": "light"
     },
     "output_type": "display_data"
    },
    {
     "data": {
      "image/png": "[encoded data removed]",
      "text/plain": [
       "<Figure size 432x288 with 1 Axes>"
      ]
     },
     "metadata": {
      "needs_background": "light"
     },
     "output_type": "display_data"
    }
   ],
   "source": [
    "# Nothing to change here, this is to visualize your loss and accuracy\n",
    "plt.plot(fit.history['acc'])\n",
    "plt.plot(fit.history['val_acc'])\n",
    "plt.title('model accuracy')\n",
    "plt.ylabel('accuracy')\n",
    "plt.xlabel('epoch')\n",
    "plt.legend(['train', 'validation'], loc='upper left')\n",
    "plt.show()\n",
    "plt.plot(fit.history['loss'])\n",
    "plt.plot(fit.history['val_loss'])\n",
    "plt.title('model loss')\n",
    "plt.ylabel('loss')\n",
    "plt.xlabel('epoch')\n",
    "plt.legend(['train', 'validation'], loc='upper left')\n",
    "plt.show()"
   ]
  },
  {
   "cell_type": "markdown",
   "metadata": {},
   "source": [
    "We will use the `accuracy` metric over the train and test sets in order to evaluate the preformance of your model. In the cell below, evaluate your accuracy on both sets and ensure that they are both above 70% and within 10% of each other. "
   ]
  },
  {
   "cell_type": "code",
   "execution_count": 13,
   "metadata": {},
   "outputs": [
    {
     "name": "stdout",
     "output_type": "stream",
     "text": [
      "50000/50000==============================] - 3s 66us/sample - loss: 0.5612 - acc: 0.8099\n",
      "10000/10000==============================] - 1s 67us/sample - loss: 0.7862 - acc: 0.7286\n",
      "Train Accuracy:  0.80986\n",
      "Test Accuracy:  0.7286\n",
      "Both above 70%:  True\n",
      "Within 10% of each other:  True\n"
     ]
    }
   ],
   "source": [
    "# TODO: Evaluate your model using model.evaluate\n",
    "train_results = model.predict(train_x)\n",
    "test_results = model.predict(val_x)\n",
    "\n",
    "train_acc = model.evaluate(train_x, train_y)[1]\n",
    "test_acc = model.evaluate(val_x, val_y)[1]\n",
    "\n",
    "print(\"Train Accuracy: \", train_acc)\n",
    "print(\"Test Accuracy: \", test_acc)\n",
    "print(\"Both above 70%: \", train_acc >= 0.7 and test_acc >= 0.7)\n",
    "print(\"Within 10% of each other: \", abs(train_acc-test_acc) <= 0.1)"
   ]
  },
  {
   "cell_type": "code",
   "execution_count": 14,
   "metadata": {},
   "outputs": [
    {
     "name": "stdout",
     "output_type": "stream",
     "text": [
      "Model: \"sequential\"\n",
      "_________________________________________________________________\n",
      "Layer (type)                 Output Shape              Param #   \n",
      "=================================================================\n",
      "conv2d (Conv2D)              (None, 30, 30, 64)        1792      \n",
      "_________________________________________________________________\n",
      "max_pooling2d (MaxPooling2D) (None, 15, 15, 64)        0         \n",
      "_________________________________________________________________\n",
      "conv2d_1 (Conv2D)            (None, 13, 13, 128)       73856     \n",
      "_________________________________________________________________\n",
      "max_pooling2d_1 (MaxPooling2 (None, 6, 6, 128)         0         \n",
      "_________________________________________________________________\n",
      "conv2d_2 (Conv2D)            (None, 4, 4, 128)         147584    \n",
      "_________________________________________________________________\n",
      "max_pooling2d_2 (MaxPooling2 (None, 2, 2, 128)         0         \n",
      "_________________________________________________________________\n",
      "flatten (Flatten)            (None, 512)               0         \n",
      "_________________________________________________________________\n",
      "dense (Dense)                (None, 128)               65664     \n",
      "_________________________________________________________________\n",
      "dropout (Dropout)            (None, 128)               0         \n",
      "_________________________________________________________________\n",
      "dense_1 (Dense)              (None, 256)               33024     \n",
      "_________________________________________________________________\n",
      "dropout_1 (Dropout)          (None, 256)               0         \n",
      "_________________________________________________________________\n",
      "dense_2 (Dense)              (None, 10)                2570      \n",
      "=================================================================\n",
      "Total params: 324,490\n",
      "Trainable params: 324,490\n",
      "Non-trainable params: 0\n",
      "_________________________________________________________________\n"
     ]
    }
   ],
   "source": [
    "# run this to print a summary of your model\n",
    "model.summary()"
   ]
  },
  {
   "cell_type": "code",
   "execution_count": 15,
   "metadata": {},
   "outputs": [],
   "source": [
    "# Once you are done, run this to save the model\n",
    "tf.keras.models.save_model(\n",
    "    model,\n",
    "    \"./cnn.h5\",\n",
    "    overwrite=True,\n",
    "    include_optimizer=True)"
   ]
  }
 ],
 "metadata": {
  "kernelspec": {
   "display_name": "Python 3",
   "language": "python",
   "name": "python3"
  },
  "language_info": {
   "codemirror_mode": {
    "name": "ipython",
    "version": 3
   },
   "file_extension": ".py",
   "mimetype": "text/x-python",
   "name": "python",
   "nbconvert_exporter": "python",
   "pygments_lexer": "ipython3",
   "version": "3.6.8"
  }
 },
 "nbformat": 4,
 "nbformat_minor": 2
}
