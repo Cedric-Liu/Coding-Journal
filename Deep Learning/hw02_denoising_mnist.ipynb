{
 "cells": [
  {
   "cell_type": "markdown",
   "metadata": {},
   "source": [
    "## Chapter 5: Autoencoders"
   ]
  },
  {
   "cell_type": "markdown",
   "metadata": {},
   "source": [
    "In this assignment, you will be working with the MNIST dataset (http://yann.lecun.com/exdb/mnist/). A cool application of autoencoders is in de-noising- let's see how they can be used to make noisy MNIST images clear."
   ]
  },
  {
   "cell_type": "code",
   "execution_count": 1,
   "metadata": {},
   "outputs": [],
   "source": [
    "import numpy as np\n",
    "import tensorflow as tf\n",
    "from tensorflow import keras\n",
    "import pandas as pd\n",
    "import matplotlib.pyplot as plt\n",
    "from sklearn.model_selection import train_test_split"
   ]
  },
  {
   "cell_type": "markdown",
   "metadata": {},
   "source": [
    "Load the mnist dataset. We just need the train and test features (images) since we are de-noising. Cast the images to floats, and normalize them. Reshape them so that they are 3-dimensional with dimensions 28x28x1. Then, split the train set into training and validation sets, using a 0.3 ratio."
   ]
  },
  {
   "cell_type": "code",
   "execution_count": 76,
   "metadata": {},
   "outputs": [],
   "source": [
    "mnist = keras.datasets.mnist\n",
    "#we don't need the labels!\n",
    "(x_train, _), (x_test, _) = mnist.load_data()\n",
    "\n",
    "#TODO: process the data. convert to float32, normalize, and\n",
    "#reshape dimensions to dimensions of a black and white picture\n",
    "x_train = x_train.astype('float32') / 255.\n",
    "x_test = x_test.astype('float32') / 255.\n",
    "x_train = np.reshape(x_train, (len(x_train), 28, 28, 1))\n",
    "x_test = np.reshape(x_test, (len(x_test), 28, 28, 1))\n",
    "\n",
    "#TODO: split x_train into training and validation sets using sklearn\n",
    "train_x, val_x= train_test_split(x_train, test_size = 0.3, random_state=1024)"
   ]
  },
  {
   "cell_type": "code",
   "execution_count": 77,
   "metadata": {},
   "outputs": [],
   "source": [
    "def create_noise(img, noise_factor):\n",
    "    img_noisy = img + noise_factor * np.random.normal(loc=0.0, scale=1.0, size=img.shape) \n",
    "    img_noisy = np.clip(img_noisy, 0., 1.)\n",
    "    return img_noisy"
   ]
  },
  {
   "cell_type": "code",
   "execution_count": 78,
   "metadata": {},
   "outputs": [],
   "source": [
    "#TODO: make the test, train, and validation sets noisy by using the above helper function.\n",
    "x_test_noisy = np.zeros_like(x_test)\n",
    "for i in range(len(x_test)):\n",
    "    x_test_noisy[i] = create_noise(x_test[i], 0.6)\n",
    "    \n",
    "x_train_noisy = np.zeros_like(train_x) \n",
    "for i in range(len(train_x)):\n",
    "    x_train_noisy[i] = create_noise(train_x[i], 0.6)\n",
    "\n",
    "x_val_noisy = np.zeros_like(val_x)   \n",
    "for i in range(len(val_x)):\n",
    "    x_val_noisy[i] = create_noise(val_x[i], 0.6)"
   ]
  },
  {
   "cell_type": "markdown",
   "metadata": {},
   "source": [
    "Run the cell below. You can see that we've thoroughly obscured the mnist images to the point that they are barely recognizable."
   ]
  },
  {
   "cell_type": "code",
   "execution_count": 79,
   "metadata": {
    "scrolled": false
   },
   "outputs": [
    {
     "data": {
      "image/png": "[encoded data removed]",
      "text/plain": [
       "<Figure size 1440x288 with 10 Axes>"
      ]
     },
     "metadata": {
      "needs_background": "light"
     },
     "output_type": "display_data"
    }
   ],
   "source": [
    "n = 10\n",
    "plt.figure(figsize=(20, 4))\n",
    "for i in range(n):\n",
    "    ax = plt.subplot(2, n, i+1)\n",
    "    plt.imshow(x_test_noisy[i].reshape(28, 28))\n",
    "    plt.gray()\n",
    "    ax.get_xaxis().set_visible(False)\n",
    "    ax.get_yaxis().set_visible(False)\n",
    "plt.show()"
   ]
  },
  {
   "cell_type": "markdown",
   "metadata": {},
   "source": [
    "We will be using the tf.keras functional API Model. Make an Input of the dimensions of the reshaped images, and use Conv2D and MaxPooling2D for the encoder, and Conv2D and UpSampling2D for the decoder."
   ]
  },
  {
   "cell_type": "code",
   "execution_count": 107,
   "metadata": {},
   "outputs": [],
   "source": [
    "#TODO: make a keras.layers.Input of the dimensions of an MNIST image\n",
    "input_img = keras.Input(shape=(28, 28, 1))  \n",
    "    \n",
    "#TODO: use keras.layers.Conv2D and keras.layers.MaxPooling2D to construct your encoder\n",
    "x = keras.layers.Conv2D(64, (3, 3), activation='relu', padding='same')(input_img)\n",
    "x = keras.layers.MaxPooling2D((2, 2), padding='same')(x)\n",
    "x = keras.layers.Conv2D(64, (3, 3), activation='relu', padding='same')(x)\n",
    "encoder = keras.layers.MaxPooling2D((2, 2), padding='same')(x)\n",
    "\n",
    "#TODO: use keras.layers.Conv2D and keras.layers.UpSampling2D to construct your decoder\n",
    "x = keras.layers.Conv2D(64, (3, 3), activation='relu', padding='same')(encoder)\n",
    "x = keras.layers.UpSampling2D((2, 2))(x)\n",
    "x = keras.layers.Conv2D(64, (3, 3), activation='relu', padding='same')(x)\n",
    "x = keras.layers.UpSampling2D((2, 2))(x)\n",
    "decoder = keras.layers.Conv2D(1, (3, 3), activation='sigmoid', padding='same')(x)\n",
    "\n",
    "#TODO: make your autoencoder using keras.models.Model, taking in your input and decoder\n",
    "autoencoder = keras.models.Model(input_img, decoder)\n",
    "\n",
    "#TODO: compile using adam optimizer and binary crossentropy loss\n",
    "autoencoder.compile(optimizer='adam', loss='binary_crossentropy')"
   ]
  },
  {
   "cell_type": "markdown",
   "metadata": {},
   "source": [
    "Fit the autoencoder on the noisy training set, and the noisy validation set. Train for 30 epochs with a batch size of 128 with shuffle=True."
   ]
  },
  {
   "cell_type": "code",
   "execution_count": 108,
   "metadata": {},
   "outputs": [
    {
     "name": "stdout",
     "output_type": "stream",
     "text": [
      "Train on 42000 samples, validate on 18000 samples\n",
      "Epoch 1/30\n",
      "42000/42000==============================] - 4s 97us/sample - loss: 0.1798 - val_loss: 0.1318\n",
      "Epoch 2/30\n",
      "42000/42000==============================] - 3s 82us/sample - loss: 0.1268 - val_loss: 0.1237\n",
      "Epoch 3/30\n",
      "42000/42000==============================] - 3s 82us/sample - loss: 0.1198 - val_loss: 0.1169\n",
      "Epoch 4/30\n",
      "42000/42000==============================] - 3s 82us/sample - loss: 0.1158 - val_loss: 0.1146\n",
      "Epoch 5/30\n",
      "42000/42000==============================] - 3s 82us/sample - loss: 0.1135 - val_loss: 0.1127\n",
      "Epoch 6/30\n",
      "42000/42000==============================] - 3s 82us/sample - loss: 0.1119 - val_loss: 0.1117\n",
      "Epoch 7/30\n",
      "42000/42000==============================] - 3s 82us/sample - loss: 0.1107 - val_loss: 0.1100\n",
      "Epoch 8/30\n",
      "42000/42000==============================] - 3s 82us/sample - loss: 0.1096 - val_loss: 0.1105\n",
      "Epoch 9/30\n",
      "42000/42000==============================] - 3s 82us/sample - loss: 0.1089 - val_loss: 0.1093\n",
      "Epoch 10/30\n",
      "42000/42000==============================] - 3s 82us/sample - loss: 0.1082 - val_loss: 0.1103\n",
      "Epoch 11/30\n",
      "42000/42000==============================] - 3s 82us/sample - loss: 0.1076 - val_loss: 0.1085\n",
      "Epoch 12/30\n",
      "42000/42000==============================] - 3s 82us/sample - loss: 0.1072 - val_loss: 0.1076\n",
      "Epoch 13/30\n",
      "42000/42000==============================] - 3s 83us/sample - loss: 0.1066 - val_loss: 0.1093\n",
      "Epoch 14/30\n",
      "42000/42000==============================] - 3s 82us/sample - loss: 0.1063 - val_loss: 0.1070\n",
      "Epoch 15/30\n",
      "42000/42000==============================] - 3s 82us/sample - loss: 0.1058 - val_loss: 0.1065\n",
      "Epoch 16/30\n",
      "42000/42000==============================] - 3s 82us/sample - loss: 0.1055 - val_loss: 0.1070\n",
      "Epoch 17/30\n",
      "42000/42000==============================] - 3s 82us/sample - loss: 0.1052 - val_loss: 0.1065\n",
      "Epoch 18/30\n",
      "42000/42000==============================] - 3s 82us/sample - loss: 0.1049 - val_loss: 0.1058\n",
      "Epoch 19/30\n",
      "42000/42000==============================] - 3s 82us/sample - loss: 0.1047 - val_loss: 0.1056\n",
      "Epoch 20/30\n",
      "42000/42000==============================] - 3s 82us/sample - loss: 0.1045 - val_loss: 0.1061\n",
      "Epoch 21/30\n",
      "42000/42000==============================] - 3s 82us/sample - loss: 0.1042 - val_loss: 0.1057\n",
      "Epoch 22/30\n",
      "42000/42000==============================] - 3s 82us/sample - loss: 0.1039 - val_loss: 0.1051\n",
      "Epoch 23/30\n",
      "42000/42000==============================] - 3s 82us/sample - loss: 0.1038 - val_loss: 0.1055\n",
      "Epoch 24/30\n",
      "42000/42000==============================] - 3s 82us/sample - loss: 0.1037 - val_loss: 0.1056\n",
      "Epoch 25/30\n",
      "42000/42000==============================] - 3s 82us/sample - loss: 0.1034 - val_loss: 0.1048\n",
      "Epoch 26/30\n",
      "42000/42000==============================] - 3s 82us/sample - loss: 0.1033 - val_loss: 0.1050\n",
      "Epoch 27/30\n",
      "42000/42000==============================] - 3s 82us/sample - loss: 0.1031 - val_loss: 0.1054\n",
      "Epoch 28/30\n",
      "42000/42000==============================] - 3s 82us/sample - loss: 0.1030 - val_loss: 0.1047\n",
      "Epoch 29/30\n",
      "42000/42000==============================] - 3s 82us/sample - loss: 0.1029 - val_loss: 0.1047\n",
      "Epoch 30/30\n",
      "42000/42000==============================] - 3s 82us/sample - loss: 0.1028 - val_loss: 0.1049\n"
     ]
    },
    {
     "data": {
      "text/plain": [
       "<tensorflow.python.keras.callbacks.History at 0x7faca856f1d0>"
      ]
     },
     "execution_count": 108,
     "metadata": {},
     "output_type": "execute_result"
    }
   ],
   "source": [
    "#TODO: fit your autoencoder!\n",
    "autoencoder.fit(x_train_noisy, train_x,\n",
    "                epochs=30,\n",
    "                batch_size=128,\n",
    "                shuffle=True,\n",
    "                validation_data=(x_val_noisy, val_x))"
   ]
  },
  {
   "cell_type": "markdown",
   "metadata": {},
   "source": [
    "Call predict on your autoencoder on the noisy test."
   ]
  },
  {
   "cell_type": "code",
   "execution_count": 109,
   "metadata": {},
   "outputs": [],
   "source": [
    "#TODO: call predict on your autoencoder\n",
    "decoded_imgs = autoencoder.predict(x_test_noisy)"
   ]
  },
  {
   "cell_type": "markdown",
   "metadata": {},
   "source": [
    "See your de-noised mnist images below. Good job!"
   ]
  },
  {
   "cell_type": "code",
   "execution_count": 110,
   "metadata": {},
   "outputs": [
    {
     "data": {
      "image/png": "[encoded data removed]",
      "text/plain": [
       "<Figure size 1440x288 with 10 Axes>"
      ]
     },
     "metadata": {
      "needs_background": "light"
     },
     "output_type": "display_data"
    }
   ],
   "source": [
    "n = 10\n",
    "plt.figure(figsize=(20, 4))\n",
    "for i in range(n):\n",
    "    ax = plt.subplot(2, n, i+1)\n",
    "    plt.imshow(decoded_imgs[i].reshape(28, 28))\n",
    "    plt.gray()\n",
    "    ax.get_xaxis().set_visible(False)\n",
    "    ax.get_yaxis().set_visible(False)\n",
    "plt.show()"
   ]
  },
  {
   "cell_type": "markdown",
   "metadata": {},
   "source": [
    "Run the cells below to calculate the Structural Similarity Index (ssim) and evaluate your autoencoder!"
   ]
  },
  {
   "cell_type": "code",
   "execution_count": 111,
   "metadata": {},
   "outputs": [
    {
     "data": {
      "text/plain": [
       "0.828329861164093"
      ]
     },
     "execution_count": 111,
     "metadata": {},
     "output_type": "execute_result"
    }
   ],
   "source": [
    "im1 = tf.image.convert_image_dtype(decoded_imgs, tf.float32)\n",
    "im2 = tf.image.convert_image_dtype(x_test, tf.float32)\n",
    "ssim = tf.image.ssim(im1, im2, max_val=1.0)\n",
    "float(tf.reduce_mean(ssim))"
   ]
  },
  {
   "cell_type": "code",
   "execution_count": 112,
   "metadata": {},
   "outputs": [],
   "source": [
    "#run this to save your model\n",
    "tf.keras.models.save_model(\n",
    "    autoencoder,\n",
    "    \"./autoencoder.h5\",\n",
    "    overwrite=True,\n",
    "    include_optimizer=True\n",
    ")"
   ]
  }
 ],
 "metadata": {
  "kernelspec": {
   "display_name": "Python 3",
   "language": "python",
   "name": "python3"
  },
  "language_info": {
   "codemirror_mode": {
    "name": "ipython",
    "version": 3
   },
   "file_extension": ".py",
   "mimetype": "text/x-python",
   "name": "python",
   "nbconvert_exporter": "python",
   "pygments_lexer": "ipython3",
   "version": "3.6.5"
  }
 },
 "nbformat": 4,
 "nbformat_minor": 2
}
