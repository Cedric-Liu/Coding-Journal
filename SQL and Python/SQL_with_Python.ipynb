{
 "cells": [
  {
   "cell_type": "markdown",
   "metadata": {},
   "source": [
    "# DATA1030 \n",
    "## Homework 3: Data modeling and SQL for IMDB data\n",
    "## Due December 9, 11:59 pm\n",
    "You may work on this HW solo or with one partner.  If you work with a partner, be sure to include both your names below.\n",
    "\n",
    "### Student #1: HANGYU LIU\n",
    "### Student #2: JIAHENG WEI\n",
    "***"
   ]
  },
  {
   "cell_type": "markdown",
   "metadata": {},
   "source": [
    "## Overview\n",
    "\n",
    "A company named MOVIE GEN Corp. needs your help to create and access a movie database. You are interested in helping them create this database. In this assignment, you will load the IMDB data into a database and run queries on it to retrieve records. \n",
    "\n",
    "** OBJECTIVE **\n",
    "\n",
    "In this assignment, you will first examine some flat data and develop an appropriate schema to efficiently represent that data in a SQL database.  You will then create that database, use Python to read and reformat the data and then use SQL commands to populate that database in an appropriate manner. Finally, you will query the database using different approaches and optimizations.\n",
    "\n",
    "**Skills**\n",
    "\n",
    "1. Model data using star schema\n",
    "2. Use SQL to create and update a database \n",
    "3. Run SQL to retrieve records for your customers and present them visually\n",
    "4. Learn about improving performance via temporary tables and indexes"
   ]
  },
  {
   "cell_type": "markdown",
   "metadata": {},
   "source": [
    "## Part 1: Data modeling"
   ]
  },
  {
   "cell_type": "markdown",
   "metadata": {},
   "source": [
    "Build a **[star schema](https://en.wikipedia.org/wiki/Star_schema)** for the data contained in `all_data.csv`.\n",
    "\n",
    "Let's first read the csv file and examine its contents.  The strings in `all_data.csv` use the `encoding=\"latin1\"` character encoding option when you read in this file using `pandas`.\n",
    "\n",
    "**Task 0**\n",
    "Read in the data and use the panda's head method to display the first 5 rows."
   ]
  },
  {
   "cell_type": "code",
   "execution_count": 1,
   "metadata": {},
   "outputs": [
    {
     "data": {
      "text/html": [
       "<div>\n",
       "<style scoped>\n",
       "    .dataframe tbody tr th:only-of-type {\n",
       "        vertical-align: middle;\n",
       "    }\n",
       "\n",
       "    .dataframe tbody tr th {\n",
       "        vertical-align: top;\n",
       "    }\n",
       "\n",
       "    .dataframe thead th {\n",
       "        text-align: right;\n",
       "    }\n",
       "</style>\n",
       "<table border=\"1\" class=\"dataframe\">\n",
       "  <thead>\n",
       "    <tr style=\"text-align: right;\">\n",
       "      <th></th>\n",
       "      <th>director_name</th>\n",
       "      <th>num_critic_for_reviews</th>\n",
       "      <th>duration</th>\n",
       "      <th>director_facebook_likes</th>\n",
       "      <th>actor_3_facebook_likes</th>\n",
       "      <th>actor_2_name</th>\n",
       "      <th>actor_1_facebook_likes</th>\n",
       "      <th>gross</th>\n",
       "      <th>genres</th>\n",
       "      <th>actor_1_name</th>\n",
       "      <th>...</th>\n",
       "      <th>num_user_for_reviews</th>\n",
       "      <th>language</th>\n",
       "      <th>country</th>\n",
       "      <th>content_rating</th>\n",
       "      <th>budget</th>\n",
       "      <th>title_year</th>\n",
       "      <th>actor_2_facebook_likes</th>\n",
       "      <th>imdb_score</th>\n",
       "      <th>aspect_ratio</th>\n",
       "      <th>movie_facebook_likes</th>\n",
       "    </tr>\n",
       "  </thead>\n",
       "  <tbody>\n",
       "    <tr>\n",
       "      <th>0</th>\n",
       "      <td>Gore Verbinski</td>\n",
       "      <td>302.0</td>\n",
       "      <td>169.0</td>\n",
       "      <td>563</td>\n",
       "      <td>1000</td>\n",
       "      <td>Orlando Bloom</td>\n",
       "      <td>40000</td>\n",
       "      <td>309404152.0</td>\n",
       "      <td>Action</td>\n",
       "      <td>Johnny Depp</td>\n",
       "      <td>...</td>\n",
       "      <td>1238.0</td>\n",
       "      <td>English</td>\n",
       "      <td>USA</td>\n",
       "      <td>PG-13</td>\n",
       "      <td>300000000.0</td>\n",
       "      <td>2007.0</td>\n",
       "      <td>5000</td>\n",
       "      <td>7.1</td>\n",
       "      <td>2.35</td>\n",
       "      <td>0</td>\n",
       "    </tr>\n",
       "    <tr>\n",
       "      <th>1</th>\n",
       "      <td>Christopher Nolan</td>\n",
       "      <td>813.0</td>\n",
       "      <td>164.0</td>\n",
       "      <td>22000</td>\n",
       "      <td>23000</td>\n",
       "      <td>Christian Bale</td>\n",
       "      <td>27000</td>\n",
       "      <td>448130642.0</td>\n",
       "      <td>Action</td>\n",
       "      <td>Tom Hardy</td>\n",
       "      <td>...</td>\n",
       "      <td>2701.0</td>\n",
       "      <td>English</td>\n",
       "      <td>USA</td>\n",
       "      <td>PG-13</td>\n",
       "      <td>250000000.0</td>\n",
       "      <td>2012.0</td>\n",
       "      <td>23000</td>\n",
       "      <td>8.5</td>\n",
       "      <td>2.35</td>\n",
       "      <td>164000</td>\n",
       "    </tr>\n",
       "    <tr>\n",
       "      <th>2</th>\n",
       "      <td>Andrew Stanton</td>\n",
       "      <td>462.0</td>\n",
       "      <td>132.0</td>\n",
       "      <td>475</td>\n",
       "      <td>530</td>\n",
       "      <td>Samantha Morton</td>\n",
       "      <td>640</td>\n",
       "      <td>73058679.0</td>\n",
       "      <td>Action</td>\n",
       "      <td>Daryl Sabara</td>\n",
       "      <td>...</td>\n",
       "      <td>738.0</td>\n",
       "      <td>English</td>\n",
       "      <td>USA</td>\n",
       "      <td>PG-13</td>\n",
       "      <td>263700000.0</td>\n",
       "      <td>2012.0</td>\n",
       "      <td>632</td>\n",
       "      <td>6.6</td>\n",
       "      <td>2.35</td>\n",
       "      <td>24000</td>\n",
       "    </tr>\n",
       "    <tr>\n",
       "      <th>3</th>\n",
       "      <td>Nathan Greno</td>\n",
       "      <td>324.0</td>\n",
       "      <td>100.0</td>\n",
       "      <td>15</td>\n",
       "      <td>284</td>\n",
       "      <td>Donna Murphy</td>\n",
       "      <td>799</td>\n",
       "      <td>200807262.0</td>\n",
       "      <td>Adventure</td>\n",
       "      <td>Brad Garrett</td>\n",
       "      <td>...</td>\n",
       "      <td>387.0</td>\n",
       "      <td>English</td>\n",
       "      <td>USA</td>\n",
       "      <td>PG</td>\n",
       "      <td>260000000.0</td>\n",
       "      <td>2010.0</td>\n",
       "      <td>553</td>\n",
       "      <td>7.8</td>\n",
       "      <td>1.85</td>\n",
       "      <td>29000</td>\n",
       "    </tr>\n",
       "    <tr>\n",
       "      <th>4</th>\n",
       "      <td>David Yates</td>\n",
       "      <td>375.0</td>\n",
       "      <td>153.0</td>\n",
       "      <td>282</td>\n",
       "      <td>10000</td>\n",
       "      <td>Daniel Radcliffe</td>\n",
       "      <td>25000</td>\n",
       "      <td>301956980.0</td>\n",
       "      <td>Adventure</td>\n",
       "      <td>Alan Rickman</td>\n",
       "      <td>...</td>\n",
       "      <td>973.0</td>\n",
       "      <td>English</td>\n",
       "      <td>UK</td>\n",
       "      <td>PG</td>\n",
       "      <td>250000000.0</td>\n",
       "      <td>2009.0</td>\n",
       "      <td>11000</td>\n",
       "      <td>7.5</td>\n",
       "      <td>2.35</td>\n",
       "      <td>10000</td>\n",
       "    </tr>\n",
       "  </tbody>\n",
       "</table>\n",
       "<p>5 rows × 25 columns</p>\n",
       "</div>"
      ],
      "text/plain": [
       "       director_name  num_critic_for_reviews  duration  \\\n",
       "0     Gore Verbinski                   302.0     169.0   \n",
       "1  Christopher Nolan                   813.0     164.0   \n",
       "2     Andrew Stanton                   462.0     132.0   \n",
       "3       Nathan Greno                   324.0     100.0   \n",
       "4        David Yates                   375.0     153.0   \n",
       "\n",
       "   director_facebook_likes  actor_3_facebook_likes      actor_2_name  \\\n",
       "0                      563                    1000     Orlando Bloom   \n",
       "1                    22000                   23000    Christian Bale   \n",
       "2                      475                     530   Samantha Morton   \n",
       "3                       15                     284      Donna Murphy   \n",
       "4                      282                   10000  Daniel Radcliffe   \n",
       "\n",
       "   actor_1_facebook_likes        gross     genres  actor_1_name  \\\n",
       "0                   40000  309404152.0     Action   Johnny Depp   \n",
       "1                   27000  448130642.0     Action     Tom Hardy   \n",
       "2                     640   73058679.0     Action  Daryl Sabara   \n",
       "3                     799  200807262.0  Adventure  Brad Garrett   \n",
       "4                   25000  301956980.0  Adventure  Alan Rickman   \n",
       "\n",
       "           ...          num_user_for_reviews  language  country  \\\n",
       "0          ...                        1238.0   English      USA   \n",
       "1          ...                        2701.0   English      USA   \n",
       "2          ...                         738.0   English      USA   \n",
       "3          ...                         387.0   English      USA   \n",
       "4          ...                         973.0   English       UK   \n",
       "\n",
       "  content_rating       budget  title_year actor_2_facebook_likes imdb_score  \\\n",
       "0          PG-13  300000000.0      2007.0                   5000        7.1   \n",
       "1          PG-13  250000000.0      2012.0                  23000        8.5   \n",
       "2          PG-13  263700000.0      2012.0                    632        6.6   \n",
       "3             PG  260000000.0      2010.0                    553        7.8   \n",
       "4             PG  250000000.0      2009.0                  11000        7.5   \n",
       "\n",
       "  aspect_ratio  movie_facebook_likes  \n",
       "0         2.35                     0  \n",
       "1         2.35                164000  \n",
       "2         2.35                 24000  \n",
       "3         1.85                 29000  \n",
       "4         2.35                 10000  \n",
       "\n",
       "[5 rows x 25 columns]"
      ]
     },
     "execution_count": 1,
     "metadata": {},
     "output_type": "execute_result"
    }
   ],
   "source": [
    "#BEGIN_SOLUTION\n",
    "import pandas as pd\n",
    "IMDB_data = pd.read_csv('all_data.csv', encoding=\"latin1\")\n",
    "IMDB_data.head(5)\n",
    "#END_SOLUTION"
   ]
  },
  {
   "cell_type": "code",
   "execution_count": 2,
   "metadata": {},
   "outputs": [
    {
     "name": "stdout",
     "output_type": "stream",
     "text": [
      "<class 'pandas.core.frame.DataFrame'>\n",
      "RangeIndex: 3023 entries, 0 to 3022\n",
      "Data columns (total 25 columns):\n",
      "director_name                3023 non-null object\n",
      "num_critic_for_reviews       3023 non-null float64\n",
      "duration                     3023 non-null float64\n",
      "director_facebook_likes      3023 non-null int64\n",
      "actor_3_facebook_likes       3023 non-null int64\n",
      "actor_2_name                 3023 non-null object\n",
      "actor_1_facebook_likes       3023 non-null int64\n",
      "gross                        3023 non-null float64\n",
      "genres                       3023 non-null object\n",
      "actor_1_name                 3023 non-null object\n",
      "movie_title                  3023 non-null object\n",
      "num_voted_users              3023 non-null int64\n",
      "cast_total_facebook_likes    3023 non-null int64\n",
      "actor_3_name                 3023 non-null object\n",
      "facenumber_in_poster         3023 non-null float64\n",
      "num_user_for_reviews         3023 non-null float64\n",
      "language                     3023 non-null object\n",
      "country                      3023 non-null object\n",
      "content_rating               3023 non-null object\n",
      "budget                       3023 non-null float64\n",
      "title_year                   3023 non-null float64\n",
      "actor_2_facebook_likes       3023 non-null int64\n",
      "imdb_score                   3023 non-null float64\n",
      "aspect_ratio                 3023 non-null float64\n",
      "movie_facebook_likes         3023 non-null int64\n",
      "dtypes: float64(9), int64(7), object(9)\n",
      "memory usage: 590.5+ KB\n"
     ]
    }
   ],
   "source": [
    "IMDB_data.info()"
   ]
  },
  {
   "cell_type": "markdown",
   "metadata": {},
   "source": [
    "There are 25 columns in the csv file.  \n",
    "\n",
    "**TASK 1:** Draw a **[star schema](https://en.wikipedia.org/wiki/Star_schema)** for this dataset, save your drawing as an image and attach it to the cell below.  \n",
    "\n",
    "\n",
    "Note: We recommended using Google Drawings. Google Drawings is an online image creator that can be used to draw the Schema, and is what the TAs used to create the Schema in the solution.\n",
    "\n",
    "Hints:\n",
    "1. Your star schema should be composed of one fact table and three dimension tables. \n",
    "1. For each table, underline primary key.\n",
    "1. Specify data types for each item.\n",
    "1. Draw 1:N, N:1, N:N or 1:1 on each connecting line to indicate the [cardinality](https://en.wikipedia.org/wiki/One-to-many_(data_model)) of the relationship.\n",
    "1. Your fact table should only contain references to the other tables.\n",
    "1. Including image in markdown is easy, see [here](https://stackoverflow.com/questions/255170/markdown-and-image-alignment)."
   ]
  },
  {
   "cell_type": "markdown",
   "metadata": {},
   "source": [
    "### BEGIN SOLUTION\n",
    "<img style=\"float: right;\" src=\"star scheme.png\">\n",
    "### END SOLUTION"
   ]
  },
  {
   "cell_type": "markdown",
   "metadata": {},
   "source": [
    "## Part 2: Database creation\n",
    " \n",
    "In this part, we will create a [SQLite3 database](https://docs.python.org/3/library/sqlite3.html). This part is really similar to what we saw in lab and lecture.\n",
    "\n",
    "The first thing you'll need to do when interacting with a SQLite database (and generally any SQL databases) is to open up a connection (see below). If the database doesn't exist, the SQLite3 module will create one."
   ]
  },
  {
   "cell_type": "code",
   "execution_count": 3,
   "metadata": {},
   "outputs": [],
   "source": [
    "import sqlite3\n",
    "import csv\n",
    "conn = sqlite3.connect('movie.db')\n",
    "c = conn.cursor()"
   ]
  },
  {
   "cell_type": "markdown",
   "metadata": {},
   "source": [
    "**TASK 2:** Fill in function `create_movie_database` with the following sections.\n",
    "\n",
    "- [Drop all existing tables](http://www.sqlitetutorial.net/sqlite-drop-table/) in the database. Doing this will allow us to simply re-run the script if we want to try a new schema.\n",
    "- [Create the tables](http://www.sqlitetutorial.net/sqlite-create-table) according to your star schema. \n",
    "- Your dimension tables should not contain any duplicate rows.\n",
    "- Use the SQL `UNIQUE` (http://www.sqlitetutorial.net/sqlite-unique-constraint/) column constraint to enforce this fact.\n",
    "\n",
    "**Note:** \n",
    "\n",
    "- To execute queries, simply run the `cursor.execute()` with your SQL statement as the argument.\n",
    "- Remember to to run 'conn.commit()' in order to commit (i.e. save) your changes.\n",
    "- Remember to define PRIMARY KEYs and FOREIGN KEYs in your table, refer to [here](http://www.sqlitetutorial.net/sqlite-primary-key/).\n",
    "- Remember to commit the connection to save changes."
   ]
  },
  {
   "cell_type": "code",
   "execution_count": 4,
   "metadata": {},
   "outputs": [],
   "source": [
    "def create_movie_database(conn):\n",
    "    \"\"\"\n",
    "    Using the database connection conn, create tables appropriate for \n",
    "    storing and using IMDB data.  Drops any pre-exsiting tables that would be re-defined by this procedure.\n",
    "    \"\"\"\n",
    "    c = conn.cursor()\n",
    "    \n",
    "    ### BEGIN SOLUTION\n",
    "    # Drop tables if they exist\n",
    "    c.execute(\"DROP TABLE IF EXISTS facts\")\n",
    "    c.execute(\"DROP TABLE IF EXISTS movies\")\n",
    "    c.execute(\"DROP TABLE IF EXISTS directors\")\n",
    "    c.execute(\"DROP TABLE IF EXISTS actors\")\n",
    "    # Enable foreign key check\n",
    "    c.execute(\"PRAGMA foreign_keys=1\")\n",
    "    # Create database tables\n",
    "    c.execute('''CREATE TABLE facts (\n",
    "               movie_id INTEGER NOT NULL, \n",
    "               director_id INTEGER NOT NULL, \n",
    "               actor_1_id INTEGER NOT NULL, \n",
    "               actor_2_id INTEGER NOT NULL, \n",
    "               actor_3_id INTEGER NOT NULL,\n",
    "               PRIMARY KEY(movie_id, director_id, actor_1_id, actor_2_id, actor_3_id),\n",
    "               FOREIGN KEY(movie_id) REFERENCES movies(movie_id),\n",
    "               FOREIGN KEY(director_id) REFERENCES directors(director_id),\n",
    "               FOREIGN KEY(actor_1_id) REFERENCES actors(actor_id),\n",
    "               FOREIGN KEY(actor_2_id) REFERENCES actors(actor_id),\n",
    "               FOREIGN KEY(actor_3_id) REFERENCES actors(actor_id)\n",
    "               )''')\n",
    "    c.execute('''CREATE TABLE movies (\n",
    "               movie_id INTEGER PRIMARY KEY NOT NULL, \n",
    "               movie_title TEXT, \n",
    "               duration REAL, \n",
    "               gross REAL, \n",
    "               genres TEXT,\n",
    "               num_voted_users INTEGER,\n",
    "               num_critic_for_reviews INTEGER,\n",
    "               cast_total_facebook_likes INTEGER,\n",
    "               facenumber_in_poster INTEGER,\n",
    "               num_user_for_reviews INTEGER,\n",
    "               language TEXT,\n",
    "               country TEXT,\n",
    "               content_rating TEXT,\n",
    "               budget REAL,\n",
    "               title_year INTEGER,\n",
    "               imdb_score REAL,\n",
    "               aspect_ratio REAL,\n",
    "               movie_facebook_likes INTEGER\n",
    "               )''')\n",
    "    c.execute('''CREATE TABLE directors (\n",
    "               director_id INTEGER PRIMARY KEY NOT NULL, \n",
    "               director_name TEXT, \n",
    "               director_facebook_likes INTEGER)''')\n",
    "    c.execute('''CREATE TABLE actors (\n",
    "               actor_id INTEGER PRIMARY KEY NOT NULL, \n",
    "               actor_name TEXT, \n",
    "               actor_facebook_likes INTEGER)''')\n",
    "    # Commit changes\n",
    "    conn.commit()\n",
    "    ### END SOLUTION\n",
    "\n",
    "create_movie_database(conn)"
   ]
  },
  {
   "cell_type": "markdown",
   "metadata": {},
   "source": [
    "Now, you should be able to view the sqlite3 database which you had created in your assignment directory. Play around with the database! \n",
    "\n",
    "You can connect to a sqlite3 database via terminal with the following command:\n",
    "\n",
    "~~~~\n",
    "sqlite3 movie.db\n",
    "~~~~\n",
    "\n",
    "To see the schema of your table, you can run the following command:\n",
    "\n",
    "~~~~\n",
    ".schema\n",
    "~~~~\n",
    "\n",
    "You can execute arbitrary SQL commands from the `sqlite>` prompt.\n",
    "More info on your other options can be found here.\n",
    "\n",
    "~~~~\n",
    ".help\n",
    "~~~~\n",
    "\n",
    "Finally, to exit from a sqlite3 database use the following command:\n",
    "\n",
    "~~~~\n",
    ".exit\n",
    "~~~~"
   ]
  },
  {
   "cell_type": "markdown",
   "metadata": {},
   "source": [
    "## Part 3: Database update\n",
    "\n",
    "In **lab** and **lecture** we provided you with two different csv files, one for each table. However, this isn't how real world data is typically structured when you first receive it. \n",
    "\n",
    "Often, you will receive a single data \"dump\" file. As a data scientist, you need to figure out how to split it into different tables, and insert the information into a database. \n",
    "\n",
    "**Task 3:** Fill in function `update_database` to insert the csv file contents into the movie database. The idea here is to write update_database in such a way that it can be used to append additional data to a pre-exisiting database.  Use the code skeleton below to populate your database dimension and fact table one row at a time using c.execute.  **Do not use Pandas.to_sql** or do any preprocessing in pandas.\n",
    "\n",
    "Hints: \n",
    "1. Populate the dimension tables first.\n",
    "2. When SQLite throws an error, for example, sqlite3.IntegrityError, you can catch the error with `try except` statement.  The statement below ignores sqlite3.IntegrityError errors.\n",
    "\n",
    "```            \n",
    "            try:\n",
    "                c.execute(sql_string)\n",
    "            except sqlite3.IntegrityError:\n",
    "                pass\n",
    "```\n",
    "\n",
    "2. In order to populate the fact table you will need to query them in order to retrieve the each dimension row id. Here is some SQL code that does this that you are welcome to use.\n",
    "\n",
    "```\n",
    "INSERT INTO facts \n",
    "                SELECT m.movie_id, d.director_id, a1.actor_id, a2.actor_id, a3.actor_id\n",
    "                FROM movies m, directors d, actors a1, actors a2, actors a3\n",
    "                WHERE m.movie_title = ? AND d.director_name = ? AND a1.actor_name = ? \n",
    "                AND a2.actor_name = ? AND a3.actor_name = ?\n",
    "```\n",
    "\n",
    "Below is a listing of column definitions that you might find helpful."
   ]
  },
  {
   "cell_type": "markdown",
   "metadata": {},
   "source": [
    "~~~~\n",
    "0 director_name\n",
    "1 num_critic_for_reviews\n",
    "2 duration\n",
    "3 director_facebook_likes\n",
    "4 actor_3_facebook_likes\n",
    "5 actor_2_name\n",
    "6 actor_1_facebook_likes\n",
    "7 gross\n",
    "8 genres\n",
    "9 actor_1_name\n",
    "10 movie_title\n",
    "11 num_voted_users\n",
    "12 cast_total_facebook_likes\n",
    "13 actor_3_name\n",
    "14 facenumber_in_poster\n",
    "15 num_user_for_reviews\n",
    "16 language\n",
    "17 country\n",
    "18 content_rating\n",
    "19 budget\n",
    "20 title_year\n",
    "21 actor_2_facebook_likes\n",
    "22 imdb_score\n",
    "23 aspect_ratio\n",
    "24 movie_facebook_likes\n",
    "~~~~"
   ]
  },
  {
   "cell_type": "code",
   "execution_count": 5,
   "metadata": {
    "scrolled": true
   },
   "outputs": [],
   "source": [
    "def update_database(csv_file, conn):\n",
    "    '''update movie database using contents of csv_file and database connection conn.'''\n",
    "    \n",
    "    reader = csv.reader(open(csv_file, encoding='latin1'))\n",
    "    next(reader, None)\n",
    "    c = conn.cursor()\n",
    "    i = 1\n",
    "    j = 1\n",
    "    k = 1\n",
    "    for row in reader:\n",
    "        row = [item.lower() for item in row]\n",
    "        \n",
    "        #\n",
    "        # insert into dimension tables\n",
    "        #\n",
    " \n",
    "        ### BEGIN SOLUTION\n",
    "        # insert directors table\n",
    "        sql_dir_check = '''SELECT * FROM directors WHERE director_name = ?'''\n",
    "        if  not c.execute(sql_dir_check,[row[0]]).fetchall():\n",
    "            c.execute('''INSERT INTO directors (director_id, director_name, director_facebook_likes)\n",
    "               VALUES (?, ?, ?)''',\n",
    "               (i,row[0],row[3]))\n",
    "            i += 1\n",
    "        \n",
    "        # insert movies table\n",
    "        if True:\n",
    "            c.execute('''INSERT INTO movies VALUES (?, ?, ?,?, ?, ?,?, ?, ?,?, ?, ?,?, ?, ?,?, ?, ?)''',\n",
    "                  (j,row[10],row[2],row[7],row[8],row[11],row[1],row[12],row[14],row[15],row[16],row[17],row[18],row[19],row[20],\n",
    "                  row[22],row[23],row[24]))\n",
    "            j += 1\n",
    "        \n",
    "        # insert actors table\n",
    "        sql_act_check = '''SELECT * FROM actors WHERE actor_name = ?'''\n",
    "        if  not c.execute(sql_act_check,[row[9]]).fetchall():\n",
    "            c.execute('''INSERT INTO actors (actor_id, actor_name, actor_facebook_likes)\n",
    "               VALUES (?, ?, ?)''',\n",
    "               (k,row[9],row[6]))\n",
    "            k += 1\n",
    "        if  not c.execute(sql_act_check,[row[5]]).fetchall():\n",
    "            c.execute('''INSERT INTO actors (actor_id, actor_name, actor_facebook_likes)\n",
    "               VALUES (?, ?, ?)''',\n",
    "               (k,row[5],row[21]))\n",
    "            k += 1\n",
    "        if  not c.execute(sql_act_check,[row[13]]).fetchall():\n",
    "            c.execute('''INSERT INTO actors (actor_id, actor_name, actor_facebook_likes)\n",
    "               VALUES (?, ?, ?)''',\n",
    "               (k,row[13],row[4]))\n",
    "            k += 1\n",
    "        ### END SOLUTION\n",
    "        \n",
    "        #\n",
    "        # insert into facts table\n",
    "        #\n",
    "        \n",
    "        ### BEGIN SOLUTION\n",
    "        sql_facts = '''INSERT INTO facts \n",
    "                SELECT m.movie_id, d.director_id, a1.actor_id, a2.actor_id, a3.actor_id\n",
    "                FROM movies m, directors d, actors a1, actors a2, actors a3\n",
    "                WHERE m.movie_title = ? AND d.director_name = ? AND a1.actor_name = ? \n",
    "                AND a2.actor_name = ? AND a3.actor_name = ? '''\n",
    "        c.execute(sql_facts,[row[10],row[0],row[9],row[5],row[13]])\n",
    "        ### END SOLUTION\n",
    "\n",
    "        conn.commit()\n",
    "        \n",
    "update_database('all_data.csv', conn)"
   ]
  },
  {
   "cell_type": "markdown",
   "metadata": {},
   "source": [
    "***\n",
    "## Part 4: Running Queries"
   ]
  },
  {
   "cell_type": "markdown",
   "metadata": {},
   "source": [
    "Now that you have created a database with the IMDB data. Your customer needs records that satisfy their requirements based on several constraints in order to improve their business revenue. \n",
    "In this part, you will create several SQL statements to extract them. \n",
    "\n",
    "IPython has a built-in module called [sql](https://pypi.python.org/pypi/ipython-sql) which allows us to easily interface with a database. if you don't have it already, run\n",
    "\n",
    "```!conda install ipython-sql```\n",
    "\n",
    "The following two lines load this SQL extension and connect to your IMDB database:"
   ]
  },
  {
   "cell_type": "code",
   "execution_count": 6,
   "metadata": {
    "scrolled": false
   },
   "outputs": [
    {
     "data": {
      "text/plain": [
       "'Connected: @movie.db'"
      ]
     },
     "execution_count": 6,
     "metadata": {},
     "output_type": "execute_result"
    }
   ],
   "source": [
    "%reload_ext sql\n",
    "%sql sqlite:///movie.db"
   ]
  },
  {
   "cell_type": "code",
   "execution_count": 7,
   "metadata": {},
   "outputs": [
    {
     "name": "stdout",
     "output_type": "stream",
     "text": [
      " * sqlite:///movie.db\n",
      "Done.\n"
     ]
    },
    {
     "data": {
      "text/html": [
       "<table>\n",
       "    <tr>\n",
       "        <th>movie_id</th>\n",
       "        <th>director_id</th>\n",
       "        <th>actor_1_id</th>\n",
       "        <th>actor_2_id</th>\n",
       "        <th>actor_3_id</th>\n",
       "    </tr>\n",
       "    <tr>\n",
       "        <td>1</td>\n",
       "        <td>1</td>\n",
       "        <td>1</td>\n",
       "        <td>2</td>\n",
       "        <td>3</td>\n",
       "    </tr>\n",
       "    <tr>\n",
       "        <td>2</td>\n",
       "        <td>2</td>\n",
       "        <td>4</td>\n",
       "        <td>5</td>\n",
       "        <td>6</td>\n",
       "    </tr>\n",
       "    <tr>\n",
       "        <td>3</td>\n",
       "        <td>3</td>\n",
       "        <td>7</td>\n",
       "        <td>8</td>\n",
       "        <td>9</td>\n",
       "    </tr>\n",
       "    <tr>\n",
       "        <td>4</td>\n",
       "        <td>4</td>\n",
       "        <td>10</td>\n",
       "        <td>11</td>\n",
       "        <td>12</td>\n",
       "    </tr>\n",
       "    <tr>\n",
       "        <td>5</td>\n",
       "        <td>5</td>\n",
       "        <td>13</td>\n",
       "        <td>14</td>\n",
       "        <td>15</td>\n",
       "    </tr>\n",
       "</table>"
      ],
      "text/plain": [
       "[(1, 1, 1, 2, 3),\n",
       " (2, 2, 4, 5, 6),\n",
       " (3, 3, 7, 8, 9),\n",
       " (4, 4, 10, 11, 12),\n",
       " (5, 5, 13, 14, 15)]"
      ]
     },
     "execution_count": 7,
     "metadata": {},
     "output_type": "execute_result"
    }
   ],
   "source": [
    "%%sql\n",
    "select * from facts limit 5"
   ]
  },
  {
   "cell_type": "markdown",
   "metadata": {},
   "source": [
    "**Task 4**\n",
    "Your task is to write 10 queries that fetch certain records for your customers. To run SQL queries, first call <font color = \"red\">%%sql</font> magic and then write your SQL queries."
   ]
  },
  {
   "cell_type": "markdown",
   "metadata": {},
   "source": [
    "**Query 4.1: Find the number of directors in the directors table.**"
   ]
  },
  {
   "cell_type": "code",
   "execution_count": 8,
   "metadata": {},
   "outputs": [
    {
     "name": "stdout",
     "output_type": "stream",
     "text": [
      " * sqlite:///movie.db\n",
      "Done.\n"
     ]
    },
    {
     "data": {
      "text/html": [
       "<table>\n",
       "    <tr>\n",
       "        <th>COUNT(*)</th>\n",
       "    </tr>\n",
       "    <tr>\n",
       "        <td>1453</td>\n",
       "    </tr>\n",
       "</table>"
      ],
      "text/plain": [
       "[(1453,)]"
      ]
     },
     "execution_count": 8,
     "metadata": {},
     "output_type": "execute_result"
    }
   ],
   "source": [
    "%%sql\n",
    "SELECT COUNT(*) FROM directors"
   ]
  },
  {
   "cell_type": "markdown",
   "metadata": {},
   "source": [
    "\n",
    "**Query 4.2: Find the number of actors in the actors table.**\n"
   ]
  },
  {
   "cell_type": "code",
   "execution_count": 9,
   "metadata": {},
   "outputs": [
    {
     "name": "stdout",
     "output_type": "stream",
     "text": [
      " * sqlite:///movie.db\n",
      "Done.\n"
     ]
    },
    {
     "data": {
      "text/html": [
       "<table>\n",
       "    <tr>\n",
       "        <th>COUNT(*)</th>\n",
       "    </tr>\n",
       "    <tr>\n",
       "        <td>3872</td>\n",
       "    </tr>\n",
       "</table>"
      ],
      "text/plain": [
       "[(3872,)]"
      ]
     },
     "execution_count": 9,
     "metadata": {},
     "output_type": "execute_result"
    }
   ],
   "source": [
    "%%sql\n",
    "SELECT COUNT(*) FROM actors"
   ]
  },
  {
   "cell_type": "markdown",
   "metadata": {},
   "source": [
    "\n",
    "**Query 4.3: Find the number of movies in the movies table.**\n"
   ]
  },
  {
   "cell_type": "code",
   "execution_count": 10,
   "metadata": {},
   "outputs": [
    {
     "name": "stdout",
     "output_type": "stream",
     "text": [
      " * sqlite:///movie.db\n",
      "Done.\n"
     ]
    },
    {
     "data": {
      "text/html": [
       "<table>\n",
       "    <tr>\n",
       "        <th>COUNT(*)</th>\n",
       "    </tr>\n",
       "    <tr>\n",
       "        <td>3023</td>\n",
       "    </tr>\n",
       "</table>"
      ],
      "text/plain": [
       "[(3023,)]"
      ]
     },
     "execution_count": 10,
     "metadata": {},
     "output_type": "execute_result"
    }
   ],
   "source": [
    "%%sql\n",
    "SELECT COUNT(*) FROM movies"
   ]
  },
  {
   "cell_type": "markdown",
   "metadata": {},
   "source": [
    "\n",
    "There should be 1453 directors, 3872 actors, 3023 movies. Please make sure you get the same results before running the following queries.\n",
    "\n",
    "Now, we can have some fun querying the database!\n",
    "\n",
    "**Query 4.4: Find years that have more than 100 movies and arrange them in ascending order.**\n"
   ]
  },
  {
   "cell_type": "code",
   "execution_count": 11,
   "metadata": {
    "scrolled": true
   },
   "outputs": [
    {
     "name": "stdout",
     "output_type": "stream",
     "text": [
      " * sqlite:///movie.db\n",
      "Done.\n"
     ]
    },
    {
     "data": {
      "text/html": [
       "<table>\n",
       "    <tr>\n",
       "        <th>title_year</th>\n",
       "    </tr>\n",
       "    <tr>\n",
       "        <td>2003</td>\n",
       "    </tr>\n",
       "    <tr>\n",
       "        <td>2014</td>\n",
       "    </tr>\n",
       "    <tr>\n",
       "        <td>2007</td>\n",
       "    </tr>\n",
       "    <tr>\n",
       "        <td>2000</td>\n",
       "    </tr>\n",
       "    <tr>\n",
       "        <td>1999</td>\n",
       "    </tr>\n",
       "    <tr>\n",
       "        <td>2013</td>\n",
       "    </tr>\n",
       "    <tr>\n",
       "        <td>2012</td>\n",
       "    </tr>\n",
       "    <tr>\n",
       "        <td>2009</td>\n",
       "    </tr>\n",
       "    <tr>\n",
       "        <td>2010</td>\n",
       "    </tr>\n",
       "    <tr>\n",
       "        <td>2004</td>\n",
       "    </tr>\n",
       "    <tr>\n",
       "        <td>2001</td>\n",
       "    </tr>\n",
       "    <tr>\n",
       "        <td>2011</td>\n",
       "    </tr>\n",
       "    <tr>\n",
       "        <td>2005</td>\n",
       "    </tr>\n",
       "    <tr>\n",
       "        <td>2008</td>\n",
       "    </tr>\n",
       "    <tr>\n",
       "        <td>2006</td>\n",
       "    </tr>\n",
       "    <tr>\n",
       "        <td>2002</td>\n",
       "    </tr>\n",
       "</table>"
      ],
      "text/plain": [
       "[(2003,),\n",
       " (2014,),\n",
       " (2007,),\n",
       " (2000,),\n",
       " (1999,),\n",
       " (2013,),\n",
       " (2012,),\n",
       " (2009,),\n",
       " (2010,),\n",
       " (2004,),\n",
       " (2001,),\n",
       " (2011,),\n",
       " (2005,),\n",
       " (2008,),\n",
       " (2006,),\n",
       " (2002,)]"
      ]
     },
     "execution_count": 11,
     "metadata": {},
     "output_type": "execute_result"
    }
   ],
   "source": [
    "%%sql\n",
    "SELECT title_year FROM movies GROUP BY title_year HAVING COUNT(*) > 100 ORDER BY COUNT(*)"
   ]
  },
  {
   "cell_type": "markdown",
   "metadata": {},
   "source": [
    "\n",
    "**Query 4.5: Order director name from most Facebook likes to fewest Facebook likes and only show top 10 directors.**\n"
   ]
  },
  {
   "cell_type": "code",
   "execution_count": 12,
   "metadata": {
    "scrolled": false
   },
   "outputs": [
    {
     "name": "stdout",
     "output_type": "stream",
     "text": [
      " * sqlite:///movie.db\n",
      "Done.\n"
     ]
    },
    {
     "data": {
      "text/html": [
       "<table>\n",
       "    <tr>\n",
       "        <th>director_name</th>\n",
       "    </tr>\n",
       "    <tr>\n",
       "        <td>joseph gordon-levitt</td>\n",
       "    </tr>\n",
       "    <tr>\n",
       "        <td>christopher nolan</td>\n",
       "    </tr>\n",
       "    <tr>\n",
       "        <td>david fincher</td>\n",
       "    </tr>\n",
       "    <tr>\n",
       "        <td>kevin spacey</td>\n",
       "    </tr>\n",
       "    <tr>\n",
       "        <td>denzel washington</td>\n",
       "    </tr>\n",
       "    <tr>\n",
       "        <td>martin scorsese</td>\n",
       "    </tr>\n",
       "    <tr>\n",
       "        <td>quentin tarantino</td>\n",
       "    </tr>\n",
       "    <tr>\n",
       "        <td>clint eastwood</td>\n",
       "    </tr>\n",
       "    <tr>\n",
       "        <td>tom hanks</td>\n",
       "    </tr>\n",
       "    <tr>\n",
       "        <td>j.j. abrams</td>\n",
       "    </tr>\n",
       "</table>"
      ],
      "text/plain": [
       "[('joseph gordon-levitt',),\n",
       " ('christopher nolan',),\n",
       " ('david fincher',),\n",
       " ('kevin spacey',),\n",
       " ('denzel washington',),\n",
       " ('martin scorsese',),\n",
       " ('quentin tarantino',),\n",
       " ('clint eastwood',),\n",
       " ('tom hanks',),\n",
       " ('j.j. abrams',)]"
      ]
     },
     "execution_count": 12,
     "metadata": {},
     "output_type": "execute_result"
    }
   ],
   "source": [
    "%%sql\n",
    "SELECT director_name FROM directors ORDER BY director_facebook_likes DESC LIMIT 10"
   ]
  },
  {
   "cell_type": "markdown",
   "metadata": {},
   "source": [
    "\n",
    "**Query 4.6: Find the titles of movies that are directed by Christopher Nolan and order them by movie title.**\n"
   ]
  },
  {
   "cell_type": "code",
   "execution_count": 13,
   "metadata": {
    "scrolled": false
   },
   "outputs": [
    {
     "name": "stdout",
     "output_type": "stream",
     "text": [
      " * sqlite:///movie.db\n",
      "Done.\n"
     ]
    },
    {
     "data": {
      "text/html": [
       "<table>\n",
       "    <tr>\n",
       "        <th>movie_title</th>\n",
       "    </tr>\n",
       "    <tr>\n",
       "        <td>batman begins</td>\n",
       "    </tr>\n",
       "    <tr>\n",
       "        <td>inception</td>\n",
       "    </tr>\n",
       "    <tr>\n",
       "        <td>insomnia</td>\n",
       "    </tr>\n",
       "    <tr>\n",
       "        <td>interstellar</td>\n",
       "    </tr>\n",
       "    <tr>\n",
       "        <td>memento</td>\n",
       "    </tr>\n",
       "    <tr>\n",
       "        <td>the dark knight</td>\n",
       "    </tr>\n",
       "    <tr>\n",
       "        <td>the dark knight rises</td>\n",
       "    </tr>\n",
       "    <tr>\n",
       "        <td>the prestige</td>\n",
       "    </tr>\n",
       "</table>"
      ],
      "text/plain": [
       "[('batman begins',),\n",
       " ('inception',),\n",
       " ('insomnia',),\n",
       " ('interstellar',),\n",
       " ('memento',),\n",
       " ('the dark knight',),\n",
       " ('the dark knight rises',),\n",
       " ('the prestige',)]"
      ]
     },
     "execution_count": 13,
     "metadata": {},
     "output_type": "execute_result"
    }
   ],
   "source": [
    "%%sql\n",
    "SELECT m.movie_title FROM movies m INNER JOIN facts f ON m.movie_id = f.movie_id LEFT JOIN directors d ON f.director_id = d.director_id WHERE d.director_name = 'christopher nolan' ORDER BY m.movie_title"
   ]
  },
  {
   "cell_type": "markdown",
   "metadata": {},
   "source": [
    "\n",
    "**Query 4.7: Find all the directors who directed at least 5 movies since 2007 (included) sorted by the number of movies in descending order.**\n"
   ]
  },
  {
   "cell_type": "code",
   "execution_count": 14,
   "metadata": {
    "scrolled": true
   },
   "outputs": [
    {
     "name": "stdout",
     "output_type": "stream",
     "text": [
      " * sqlite:///movie.db\n",
      "Done.\n"
     ]
    },
    {
     "data": {
      "text/html": [
       "<table>\n",
       "    <tr>\n",
       "        <th>director_name</th>\n",
       "    </tr>\n",
       "    <tr>\n",
       "        <td>clint eastwood</td>\n",
       "    </tr>\n",
       "    <tr>\n",
       "        <td>ethan coen</td>\n",
       "    </tr>\n",
       "    <tr>\n",
       "        <td>shawn levy</td>\n",
       "    </tr>\n",
       "    <tr>\n",
       "        <td>steven spielberg</td>\n",
       "    </tr>\n",
       "    <tr>\n",
       "        <td>woody allen</td>\n",
       "    </tr>\n",
       "    <tr>\n",
       "        <td>andy fickman</td>\n",
       "    </tr>\n",
       "    <tr>\n",
       "        <td>antoine fuqua</td>\n",
       "    </tr>\n",
       "    <tr>\n",
       "        <td>david ayer</td>\n",
       "    </tr>\n",
       "    <tr>\n",
       "        <td>david fincher</td>\n",
       "    </tr>\n",
       "    <tr>\n",
       "        <td>dennis dugan</td>\n",
       "    </tr>\n",
       "    <tr>\n",
       "        <td>francis lawrence</td>\n",
       "    </tr>\n",
       "    <tr>\n",
       "        <td>jon m. chu</td>\n",
       "    </tr>\n",
       "    <tr>\n",
       "        <td>paul w.s. anderson</td>\n",
       "    </tr>\n",
       "    <tr>\n",
       "        <td>robert schwentke</td>\n",
       "    </tr>\n",
       "    <tr>\n",
       "        <td>roland emmerich</td>\n",
       "    </tr>\n",
       "    <tr>\n",
       "        <td>ron howard</td>\n",
       "    </tr>\n",
       "    <tr>\n",
       "        <td>tim story</td>\n",
       "    </tr>\n",
       "</table>"
      ],
      "text/plain": [
       "[('clint eastwood',),\n",
       " ('ethan coen',),\n",
       " ('shawn levy',),\n",
       " ('steven spielberg',),\n",
       " ('woody allen',),\n",
       " ('andy fickman',),\n",
       " ('antoine fuqua',),\n",
       " ('david ayer',),\n",
       " ('david fincher',),\n",
       " ('dennis dugan',),\n",
       " ('francis lawrence',),\n",
       " ('jon m. chu',),\n",
       " ('paul w.s. anderson',),\n",
       " ('robert schwentke',),\n",
       " ('roland emmerich',),\n",
       " ('ron howard',),\n",
       " ('tim story',)]"
      ]
     },
     "execution_count": 14,
     "metadata": {},
     "output_type": "execute_result"
    }
   ],
   "source": [
    "%%sql\n",
    "SELECT d.director_name FROM movies m INNER JOIN facts f ON m.movie_id = f.movie_id LEFT JOIN directors d ON f.director_id = d.director_id WHERE m.title_year >= 2007 GROUP BY d.director_name HAVING COUNT(*) >= 5 ORDER BY  COUNT(*) DESC"
   ]
  },
  {
   "cell_type": "markdown",
   "metadata": {},
   "source": [
    "\n",
    "**Query 4.8: Find the top five most productive actors since 2010 (included).**\n"
   ]
  },
  {
   "cell_type": "code",
   "execution_count": 15,
   "metadata": {
    "scrolled": true
   },
   "outputs": [
    {
     "name": "stdout",
     "output_type": "stream",
     "text": [
      " * sqlite:///movie.db\n",
      "Done.\n"
     ]
    },
    {
     "data": {
      "text/html": [
       "<table>\n",
       "    <tr>\n",
       "        <th>actor_name</th>\n",
       "    </tr>\n",
       "    <tr>\n",
       "        <td>liam neeson</td>\n",
       "    </tr>\n",
       "    <tr>\n",
       "        <td>steve carell</td>\n",
       "    </tr>\n",
       "    <tr>\n",
       "        <td>bradley cooper</td>\n",
       "    </tr>\n",
       "    <tr>\n",
       "        <td>channing tatum</td>\n",
       "    </tr>\n",
       "    <tr>\n",
       "        <td>jennifer lawrence</td>\n",
       "    </tr>\n",
       "</table>"
      ],
      "text/plain": [
       "[('liam neeson',),\n",
       " ('steve carell',),\n",
       " ('bradley cooper',),\n",
       " ('channing tatum',),\n",
       " ('jennifer lawrence',)]"
      ]
     },
     "execution_count": 15,
     "metadata": {},
     "output_type": "execute_result"
    }
   ],
   "source": [
    "%%sql\n",
    "SELECT a.actor_name FROM actors a LEFT JOIN facts f ON a.actor_id = f.actor_1_id OR  a.actor_id = f.actor_2_id OR a.actor_id = f.actor_3_id INNER JOIN movies m ON m.movie_id = f.movie_id WHERE m.title_year >= 2010 GROUP BY a.actor_name ORDER BY COUNT(*) DESC LIMIT 5  "
   ]
  },
  {
   "cell_type": "markdown",
   "metadata": {},
   "source": [
    "### END SOLUTION\n",
    "\n",
    "## Part 5: Database Visualization\n",
    "\n",
    "Since your customer isn't very good with databases, SQL or tabular data,  they want your help visualizing some of database. With the help of SQL, you can easily retrieve data from the database, and then use the plotting package of your choice (or a mix of packages) to create the requested visualizations.   We suggest you choose https://plot.ly/python/ as your plotting package.\n",
    "\n",
    "Here you are also encouraged to use **pandas.read_sql**."
   ]
  },
  {
   "cell_type": "markdown",
   "metadata": {},
   "source": [
    "**Example**:\n",
    "The customer wants a a bar chart of the top 10 actors(based on facebook likes), sorted in descending order. "
   ]
  },
  {
   "cell_type": "code",
   "execution_count": 16,
   "metadata": {
    "scrolled": false
   },
   "outputs": [
    {
     "data": {
      "text/html": [
       "<script type=\"text/javascript\">window.PlotlyConfig = {MathJaxConfig: 'local'};</script><script type=\"text/javascript\">if (window.MathJax) {MathJax.Hub.Config({SVG: {font: \"STIX-Web\"}});}</script><script>requirejs.config({paths: { 'plotly': ['https://cdn.plot.ly/plotly-latest.min']},});if(!window._Plotly) {require(['plotly'],function(plotly) {window._Plotly=plotly;});}</script>"
      ]
     },
     "metadata": {},
     "output_type": "execute_result"
    }
   ],
   "source": [
    "import pandas as pd\n",
    "import plotly.offline as py\n",
    "from plotly.offline import init_notebook_mode  # Work locally (i.e. offline)\n",
    "init_notebook_mode(connected=True)\n",
    "import plotly.graph_objs as go"
   ]
  },
  {
   "cell_type": "code",
   "execution_count": 17,
   "metadata": {
    "scrolled": false
   },
   "outputs": [
    {
     "data": {
      "text/plain": [
       "FigureWidget({\n",
       "    'data': [{'type': 'bar',\n",
       "              'uid': 'a37df83c-8a40-4623-b977-faacd6e7b34d',\n",
       "     …"
      ]
     },
     "metadata": {},
     "output_type": "display_data"
    }
   ],
   "source": [
    "df = pd.read_sql('''\n",
    "        SELECT actor_name, actor_facebook_likes\n",
    "        FROM actors\n",
    "        ORDER BY actor_facebook_likes DESC\n",
    "        LIMIT 10''',conn)\n",
    "\n",
    "columns = ['actor_name', 'actor_fcebook_likes']\n",
    "\n",
    "fig = go.FigureWidget(data=[go.Bar(x=df['actor_name'],y=df['actor_facebook_likes'])])\n",
    "fig.layout.title = 'Top 10 Actors by Facebook Likes'\n",
    "fig.layout.yaxis.title = 'Likes'\n",
    "fig.layout.xaxis.title = 'Actor'\n",
    "fig"
   ]
  },
  {
   "cell_type": "markdown",
   "metadata": {},
   "source": [
    "**Task 5.1**: Create horizontal box plots of movie duration, imdb_score and num_critic_for_reviews.  Hint: Create each in its own plot, otherwise the x-axis will not be informative."
   ]
  },
  {
   "cell_type": "code",
   "execution_count": 18,
   "metadata": {},
   "outputs": [
    {
     "data": {
      "text/html": [
       "<div id=\"4151be4c-40e0-44de-9ae7-b7c1a338fc6d\" style=\"height: 525px; width: 100%;\" class=\"plotly-graph-div\"></div><script type=\"text/javascript\">require([\"plotly\"], function(Plotly) { window.PLOTLYENV=window.PLOTLYENV || {};window.PLOTLYENV.BASE_URL=\"https://plot.ly\";Plotly.newPlot(\"4151be4c-40e0-44de-9ae7-b7c1a338fc6d\", [{\"name\": \"duration\", \"x\": [169.0, 164.0, 132.0, 100.0, 153.0, 106.0, 151.0, 150.0, 150.0, 136.0, 106.0, 153.0, 113.0, 147.0, 131.0, 124.0, 195.0, 108.0, 104.0, 104.0, 142.0, 125.0, 106.0, 123.0, 103.0, 118.0, 123.0, 132.0, 143.0, 116.0, 122.0, 93.0, 122.0, 98.0, 91.0, 158.0, 110.0, 150.0, 152.0, 94.0, 126.0, 126.0, 106.0, 112.0, 123.0, 96.0, 113.0, 176.0, 118.0, 106.0, 124.0, 132.0, 97.0, 130.0, 128.0, 136.0, 93.0, 130.0, 102.0, 101.0, 120.0, 98.0, 109.0, 121.0, 169.0, 148.0, 106.0, 166.0, 132.0, 137.0, 109.0, 98.0, 113.0, 93.0, 126.0, 113.0, 138.0, 157.0, 102.0, 104.0, 115.0, 111.0, 128.0, 89.0, 105.0, 119.0, 102.0, 112.0, 120.0, 146.0, 96.0, 88.0, 99.0, 113.0, 131.0, 119.0, 91.0, 90.0, 124.0, 131.0, 88.0, 85.0, 111.0, 92.0, 196.0, 93.0, 133.0, 116.0, 88.0, 95.0, 133.0, 97.0, 90.0, 154.0, 127.0, 102.0, 126.0, 121.0, 127.0, 122.0, 124.0, 106.0, 124.0, 128.0, 138.0, 115.0, 100.0, 135.0, 117.0, 96.0, 107.0, 92.0, 115.0, 92.0, 117.0, 146.0, 94.0, 116.0, 90.0, 101.0, 107.0, 165.0, 98.0, 95.0, 96.0, 143.0, 123.0, 174.0, 101.0, 132.0, 106.0, 113.0, 102.0, 135.0, 125.0, 110.0, 124.0, 123.0, 130.0, 92.0, 123.0, 123.0, 107.0, 77.0, 109.0, 134.0, 117.0, 121.0, 117.0, 124.0, 138.0, 98.0, 153.0, 120.0, 101.0, 108.0, 100.0, 108.0, 114.0, 119.0, 142.0, 126.0, 119.0, 170.0, 85.0, 119.0, 102.0, 103.0, 76.0, 120.0, 127.0, 105.0, 121.0, 114.0, 129.0, 120.0, 82.0, 115.0, 84.0, 97.0, 104.0, 127.0, 145.0, 144.0, 119.0, 106.0, 98.0, 116.0, 115.0, 165.0, 91.0, 78.0, 103.0, 131.0, 104.0, 102.0, 103.0, 143.0, 240.0, 121.0, 129.0, 172.0, 87.0, 101.0, 95.0, 102.0, 131.0, 114.0, 94.0, 122.0, 95.0, 115.0, 88.0, 110.0, 130.0, 216.0, 146.0, 85.0, 85.0, 146.0, 89.0, 88.0, 100.0, 102.0, 100.0, 92.0, 105.0, 107.0, 101.0, 137.0, 115.0, 124.0, 98.0, 82.0, 98.0, 90.0, 90.0, 94.0, 94.0, 151.0, 88.0, 158.0, 128.0, 95.0, 92.0, 113.0, 146.0, 88.0, 119.0, 128.0, 106.0, 117.0, 129.0, 116.0, 114.0, 96.0, 104.0, 111.0, 129.0, 144.0, 110.0, 140.0, 113.0, 108.0, 108.0, 124.0, 110.0, 91.0, 107.0, 115.0, 100.0, 104.0, 138.0, 140.0, 120.0, 83.0, 139.0, 131.0, 104.0, 130.0, 145.0, 104.0, 97.0, 178.0, 108.0, 106.0, 112.0, 135.0, 109.0, 86.0, 95.0, 107.0, 82.0, 88.0, 162.0, 123.0, 101.0, 113.0, 142.0, 102.0, 126.0, 83.0, 85.0, 120.0, 116.0, 113.0, 87.0, 101.0, 110.0, 128.0, 138.0, 88.0, 91.0, 138.0, 99.0, 117.0, 123.0, 118.0, 154.0, 118.0, 90.0, 113.0, 88.0, 93.0, 104.0, 135.0, 134.0, 98.0, 80.0, 83.0, 102.0, 130.0, 129.0, 89.0, 74.0, 96.0, 114.0, 99.0, 129.0, 113.0, 90.0, 106.0, 89.0, 145.0, 114.0, 87.0, 119.0, 91.0, 118.0, 116.0, 97.0, 106.0, 104.0, 105.0, 135.0, 73.0, 94.0, 95.0, 124.0, 136.0, 91.0, 107.0, 108.0, 99.0, 92.0, 87.0, 110.0, 98.0, 154.0, 129.0, 86.0, 110.0, 115.0, 99.0, 117.0, 125.0, 110.0, 125.0, 102.0, 128.0, 100.0, 124.0, 90.0, 130.0, 118.0, 163.0, 142.0, 100.0, 131.0, 91.0, 123.0, 134.0, 148.0, 110.0, 113.0, 94.0, 116.0, 99.0, 93.0, 113.0, 91.0, 134.0, 97.0, 112.0, 110.0, 122.0, 87.0, 87.0, 116.0, 109.0, 85.0, 93.0, 117.0, 132.0, 92.0, 139.0, 153.0, 142.0, 124.0, 117.0, 141.0, 109.0, 88.0, 124.0, 119.0, 103.0, 116.0, 125.0, 146.0, 92.0, 116.0, 127.0, 136.0, 111.0, 116.0, 113.0, 97.0, 88.0, 136.0, 125.0, 116.0, 98.0, 91.0, 97.0, 95.0, 106.0, 116.0, 115.0, 99.0, 124.0, 124.0, 87.0, 105.0, 125.0, 141.0, 121.0, 111.0, 105.0, 113.0, 121.0, 102.0, 169.0, 132.0, 127.0, 103.0, 136.0, 150.0, 140.0, 104.0, 106.0, 136.0, 95.0, 137.0, 130.0, 124.0, 108.0, 104.0, 117.0, 99.0, 118.0, 105.0, 103.0, 122.0, 96.0, 111.0, 121.0, 135.0, 101.0, 151.0, 131.0, 100.0, 92.0, 130.0, 100.0, 102.0, 133.0, 121.0, 147.0, 94.0, 94.0, 127.0, 212.0, 141.0, 103.0, 98.0, 116.0, 87.0, 125.0, 187.0, 93.0, 95.0, 106.0, 115.0, 81.0, 149.0, 119.0, 130.0, 116.0, 103.0, 99.0, 92.0, 109.0, 87.0, 111.0, 101.0, 83.0, 107.0, 94.0, 132.0, 140.0, 125.0, 111.0, 100.0, 115.0, 130.0, 105.0, 111.0, 89.0, 100.0, 146.0, 98.0, 101.0, 94.0, 115.0, 92.0, 124.0, 119.0, 124.0, 93.0, 98.0, 92.0, 124.0, 99.0, 124.0, 96.0, 104.0, 100.0, 115.0, 101.0, 113.0, 100.0, 134.0, 125.0, 94.0, 107.0, 91.0, 116.0, 117.0, 96.0, 101.0, 111.0, 117.0, 152.0, 101.0, 87.0, 130.0, 104.0, 140.0, 131.0, 91.0, 118.0, 130.0, 90.0, 103.0, 122.0, 106.0, 103.0, 107.0, 156.0, 127.0, 132.0, 108.0, 114.0, 133.0, 103.0, 95.0, 90.0, 87.0, 103.0, 125.0, 97.0, 125.0, 136.0, 116.0, 103.0, 97.0, 96.0, 131.0, 95.0, 86.0, 92.0, 108.0, 84.0, 188.0, 95.0, 118.0, 92.0, 74.0, 134.0, 101.0, 100.0, 132.0, 105.0, 123.0, 117.0, 98.0, 128.0, 114.0, 111.0, 137.0, 97.0, 110.0, 133.0, 94.0, 104.0, 91.0, 145.0, 135.0, 122.0, 110.0, 95.0, 102.0, 94.0, 126.0, 118.0, 99.0, 88.0, 141.0, 107.0, 116.0, 143.0, 114.0, 93.0, 280.0, 107.0, 119.0, 95.0, 119.0, 123.0, 92.0, 123.0, 110.0, 116.0, 121.0, 128.0, 99.0, 94.0, 127.0, 89.0, 123.0, 135.0, 118.0, 172.0, 124.0, 141.0, 106.0, 108.0, 107.0, 118.0, 118.0, 178.0, 92.0, 104.0, 116.0, 90.0, 130.0, 90.0, 106.0, 155.0, 139.0, 112.0, 139.0, 115.0, 143.0, 96.0, 112.0, 116.0, 112.0, 123.0, 104.0, 107.0, 96.0, 125.0, 90.0, 109.0, 121.0, 95.0, 118.0, 80.0, 99.0, 133.0, 127.0, 106.0, 98.0, 132.0, 114.0, 78.0, 101.0, 113.0, 98.0, 124.0, 109.0, 128.0, 95.0, 105.0, 121.0, 129.0, 132.0, 118.0, 113.0, 140.0, 89.0, 104.0, 106.0, 141.0, 124.0, 98.0, 108.0, 114.0, 99.0, 117.0, 87.0, 129.0, 115.0, 132.0, 131.0, 125.0, 98.0, 110.0, 118.0, 90.0, 139.0, 130.0, 100.0, 114.0, 110.0, 102.0, 84.0, 115.0, 99.0, 135.0, 108.0, 127.0, 107.0, 95.0, 124.0, 88.0, 104.0, 96.0, 85.0, 104.0, 127.0, 120.0, 118.0, 112.0, 114.0, 137.0, 112.0, 120.0, 123.0, 93.0, 122.0, 115.0, 105.0, 113.0, 132.0, 108.0, 105.0, 102.0, 118.0, 111.0, 81.0, 116.0, 86.0, 127.0, 91.0, 98.0, 84.0, 109.0, 93.0, 141.0, 119.0, 117.0, 101.0, 153.0, 122.0, 102.0, 83.0, 103.0, 110.0, 136.0, 91.0, 89.0, 107.0, 129.0, 95.0, 122.0, 110.0, 135.0, 95.0, 109.0, 93.0, 94.0, 117.0, 112.0, 111.0, 94.0, 87.0, 88.0, 133.0, 102.0, 101.0, 91.0, 117.0, 86.0, 134.0, 100.0, 128.0, 106.0, 114.0, 99.0, 74.0, 139.0, 103.0, 101.0, 130.0, 110.0, 147.0, 96.0, 118.0, 88.0, 325.0, 102.0, 110.0, 136.0, 103.0, 103.0, 90.0, 154.0, 99.0, 93.0, 109.0, 124.0, 84.0, 90.0, 117.0, 123.0, 251.0, 105.0, 115.0, 119.0, 81.0, 133.0, 100.0, 120.0, 104.0, 122.0, 80.0, 91.0, 112.0, 100.0, 110.0, 144.0, 108.0, 102.0, 100.0, 126.0, 138.0, 108.0, 105.0, 129.0, 149.0, 94.0, 121.0, 128.0, 120.0, 129.0, 89.0, 107.0, 128.0, 139.0, 109.0, 120.0, 121.0, 102.0, 178.0, 147.0, 90.0, 105.0, 114.0, 99.0, 123.0, 102.0, 109.0, 82.0, 142.0, 106.0, 106.0, 108.0, 98.0, 131.0, 118.0, 113.0, 130.0, 116.0, 89.0, 130.0, 107.0, 116.0, 96.0, 99.0, 104.0, 105.0, 101.0, 134.0, 98.0, 155.0, 102.0, 95.0, 103.0, 109.0, 95.0, 123.0, 94.0, 92.0, 102.0, 123.0, 104.0, 102.0, 136.0, 93.0, 129.0, 107.0, 117.0, 116.0, 107.0, 90.0, 99.0, 115.0, 119.0, 99.0, 112.0, 128.0, 112.0, 86.0, 108.0, 128.0, 84.0, 111.0, 131.0, 101.0, 102.0, 114.0, 107.0, 103.0, 91.0, 103.0, 107.0, 106.0, 101.0, 109.0, 119.0, 83.0, 108.0, 102.0, 93.0, 84.0, 91.0, 115.0, 93.0, 105.0, 107.0, 101.0, 113.0, 112.0, 126.0, 98.0, 107.0, 87.0, 110.0, 125.0, 113.0, 150.0, 108.0, 96.0, 93.0, 118.0, 120.0, 146.0, 115.0, 123.0, 94.0, 102.0, 98.0, 133.0, 118.0, 105.0, 109.0, 127.0, 118.0, 110.0, 90.0, 130.0, 112.0, 110.0, 96.0, 96.0, 123.0, 110.0, 113.0, 122.0, 116.0, 93.0, 118.0, 93.0, 121.0, 101.0, 107.0, 124.0, 109.0, 105.0, 127.0, 114.0, 106.0, 95.0, 81.0, 108.0, 105.0, 95.0, 126.0, 102.0, 121.0, 129.0, 106.0, 110.0, 109.0, 143.0, 120.0, 128.0, 123.0, 105.0, 162.0, 138.0, 100.0, 108.0, 109.0, 132.0, 123.0, 87.0, 109.0, 109.0, 92.0, 125.0, 88.0, 92.0, 91.0, 75.0, 98.0, 147.0, 100.0, 120.0, 104.0, 103.0, 109.0, 104.0, 112.0, 95.0, 102.0, 150.0, 101.0, 108.0, 137.0, 112.0, 101.0, 103.0, 101.0, 112.0, 101.0, 155.0, 109.0, 108.0, 96.0, 123.0, 106.0, 76.0, 107.0, 82.0, 109.0, 91.0, 87.0, 125.0, 118.0, 98.0, 92.0, 115.0, 120.0, 111.0, 94.0, 100.0, 101.0, 91.0, 109.0, 102.0, 103.0, 83.0, 101.0, 114.0, 330.0, 121.0, 113.0, 91.0, 139.0, 102.0, 96.0, 101.0, 128.0, 109.0, 114.0, 105.0, 141.0, 101.0, 99.0, 89.0, 99.0, 105.0, 97.0, 140.0, 118.0, 94.0, 124.0, 134.0, 113.0, 124.0, 97.0, 123.0, 99.0, 101.0, 92.0, 131.0, 107.0, 103.0, 129.0, 107.0, 89.0, 113.0, 120.0, 98.0, 98.0, 87.0, 90.0, 121.0, 119.0, 107.0, 110.0, 100.0, 75.0, 102.0, 143.0, 113.0, 161.0, 126.0, 101.0, 103.0, 118.0, 105.0, 113.0, 93.0, 108.0, 74.0, 116.0, 104.0, 106.0, 120.0, 135.0, 132.0, 92.0, 99.0, 90.0, 103.0, 127.0, 112.0, 87.0, 138.0, 132.0, 103.0, 123.0, 111.0, 102.0, 133.0, 108.0, 125.0, 98.0, 87.0, 91.0, 100.0, 118.0, 109.0, 99.0, 89.0, 95.0, 98.0, 94.0, 85.0, 124.0, 131.0, 99.0, 83.0, 131.0, 85.0, 126.0, 123.0, 105.0, 77.0, 121.0, 124.0, 112.0, 111.0, 107.0, 104.0, 113.0, 113.0, 95.0, 86.0, 126.0, 101.0, 111.0, 95.0, 98.0, 100.0, 118.0, 125.0, 94.0, 79.0, 63.0, 85.0, 108.0, 139.0, 127.0, 106.0, 95.0, 118.0, 108.0, 105.0, 131.0, 104.0, 133.0, 94.0, 109.0, 96.0, 105.0, 99.0, 112.0, 108.0, 126.0, 98.0, 104.0, 110.0, 130.0, 93.0, 114.0, 106.0, 100.0, 100.0, 100.0, 107.0, 102.0, 101.0, 86.0, 108.0, 88.0, 109.0, 122.0, 118.0, 131.0, 109.0, 88.0, 103.0, 87.0, 160.0, 129.0, 153.0, 89.0, 122.0, 99.0, 99.0, 112.0, 88.0, 94.0, 90.0, 167.0, 118.0, 83.0, 104.0, 131.0, 101.0, 130.0, 135.0, 103.0, 91.0, 105.0, 127.0, 82.0, 115.0, 96.0, 104.0, 117.0, 83.0, 99.0, 81.0, 135.0, 139.0, 123.0, 117.0, 97.0, 103.0, 119.0, 94.0, 89.0, 107.0, 108.0, 110.0, 103.0, 100.0, 131.0, 109.0, 114.0, 164.0, 92.0, 122.0, 110.0, 116.0, 115.0, 148.0, 118.0, 101.0, 82.0, 110.0, 193.0, 130.0, 111.0, 110.0, 109.0, 99.0, 106.0, 93.0, 112.0, 101.0, 104.0, 120.0, 91.0, 97.0, 123.0, 114.0, 111.0, 117.0, 121.0, 115.0, 90.0, 100.0, 109.0, 94.0, 133.0, 105.0, 100.0, 118.0, 110.0, 110.0, 99.0, 101.0, 103.0, 117.0, 129.0, 133.0, 116.0, 93.0, 118.0, 129.0, 185.0, 146.0, 128.0, 93.0, 97.0, 82.0, 85.0, 88.0, 122.0, 99.0, 97.0, 121.0, 105.0, 108.0, 134.0, 115.0, 86.0, 101.0, 96.0, 101.0, 117.0, 101.0, 98.0, 146.0, 102.0, 97.0, 98.0, 219.0, 109.0, 97.0, 86.0, 119.0, 98.0, 97.0, 124.0, 97.0, 105.0, 104.0, 101.0, 101.0, 114.0, 105.0, 90.0, 97.0, 114.0, 124.0, 89.0, 160.0, 93.0, 88.0, 92.0, 117.0, 111.0, 121.0, 107.0, 106.0, 97.0, 97.0, 99.0, 103.0, 93.0, 98.0, 90.0, 107.0, 90.0, 115.0, 93.0, 99.0, 110.0, 101.0, 85.0, 132.0, 90.0, 145.0, 110.0, 107.0, 127.0, 140.0, 133.0, 271.0, 112.0, 99.0, 100.0, 92.0, 105.0, 110.0, 116.0, 88.0, 111.0, 95.0, 95.0, 127.0, 104.0, 95.0, 121.0, 92.0, 107.0, 117.0, 131.0, 117.0, 119.0, 137.0, 119.0, 139.0, 98.0, 106.0, 98.0, 107.0, 88.0, 100.0, 115.0, 110.0, 94.0, 88.0, 127.0, 95.0, 87.0, 107.0, 124.0, 89.0, 88.0, 118.0, 80.0, 120.0, 98.0, 119.0, 88.0, 90.0, 127.0, 85.0, 98.0, 112.0, 97.0, 97.0, 100.0, 114.0, 88.0, 92.0, 98.0, 94.0, 102.0, 98.0, 111.0, 100.0, 141.0, 114.0, 127.0, 107.0, 97.0, 127.0, 110.0, 135.0, 84.0, 122.0, 114.0, 132.0, 170.0, 133.0, 112.0, 83.0, 105.0, 96.0, 94.0, 106.0, 106.0, 98.0, 100.0, 95.0, 107.0, 104.0, 104.0, 143.0, 77.0, 96.0, 145.0, 116.0, 100.0, 104.0, 92.0, 105.0, 120.0, 116.0, 119.0, 101.0, 117.0, 112.0, 136.0, 81.0, 96.0, 106.0, 122.0, 123.0, 92.0, 110.0, 104.0, 112.0, 127.0, 102.0, 114.0, 115.0, 135.0, 90.0, 100.0, 105.0, 138.0, 94.0, 101.0, 131.0, 91.0, 95.0, 100.0, 101.0, 109.0, 115.0, 117.0, 107.0, 118.0, 105.0, 110.0, 85.0, 72.0, 128.0, 89.0, 96.0, 77.0, 111.0, 93.0, 128.0, 110.0, 137.0, 124.0, 93.0, 115.0, 105.0, 127.0, 82.0, 103.0, 104.0, 98.0, 92.0, 123.0, 88.0, 128.0, 107.0, 91.0, 90.0, 115.0, 113.0, 113.0, 87.0, 101.0, 111.0, 108.0, 105.0, 109.0, 109.0, 99.0, 98.0, 104.0, 109.0, 75.0, 119.0, 97.0, 106.0, 108.0, 112.0, 104.0, 98.0, 114.0, 124.0, 108.0, 95.0, 128.0, 84.0, 101.0, 98.0, 225.0, 88.0, 88.0, 94.0, 117.0, 95.0, 99.0, 96.0, 98.0, 123.0, 101.0, 102.0, 94.0, 102.0, 108.0, 116.0, 93.0, 102.0, 103.0, 115.0, 96.0, 98.0, 101.0, 106.0, 101.0, 99.0, 88.0, 83.0, 91.0, 108.0, 77.0, 110.0, 83.0, 100.0, 87.0, 154.0, 106.0, 116.0, 94.0, 111.0, 100.0, 125.0, 119.0, 135.0, 93.0, 134.0, 114.0, 124.0, 104.0, 118.0, 80.0, 107.0, 125.0, 115.0, 122.0, 103.0, 101.0, 107.0, 107.0, 100.0, 110.0, 125.0, 184.0, 97.0, 113.0, 95.0, 91.0, 93.0, 101.0, 95.0, 109.0, 85.0, 101.0, 125.0, 132.0, 131.0, 129.0, 100.0, 97.0, 116.0, 90.0, 97.0, 114.0, 130.0, 82.0, 96.0, 105.0, 122.0, 88.0, 110.0, 103.0, 106.0, 98.0, 68.0, 94.0, 99.0, 107.0, 180.0, 89.0, 97.0, 113.0, 131.0, 98.0, 111.0, 94.0, 81.0, 106.0, 86.0, 103.0, 121.0, 109.0, 109.0, 123.0, 94.0, 115.0, 107.0, 91.0, 125.0, 90.0, 98.0, 109.0, 90.0, 105.0, 104.0, 112.0, 108.0, 112.0, 127.0, 111.0, 126.0, 99.0, 112.0, 108.0, 116.0, 93.0, 103.0, 105.0, 119.0, 98.0, 80.0, 121.0, 94.0, 93.0, 101.0, 170.0, 99.0, 104.0, 126.0, 110.0, 87.0, 123.0, 109.0, 90.0, 96.0, 82.0, 86.0, 108.0, 98.0, 129.0, 112.0, 108.0, 89.0, 73.0, 132.0, 96.0, 98.0, 107.0, 134.0, 122.0, 97.0, 110.0, 102.0, 98.0, 160.0, 83.0, 102.0, 122.0, 120.0, 108.0, 126.0, 128.0, 113.0, 94.0, 106.0, 100.0, 89.0, 83.0, 111.0, 80.0, 94.0, 130.0, 91.0, 91.0, 110.0, 121.0, 114.0, 96.0, 94.0, 109.0, 107.0, 96.0, 88.0, 113.0, 101.0, 105.0, 125.0, 100.0, 112.0, 112.0, 95.0, 110.0, 118.0, 97.0, 120.0, 135.0, 92.0, 92.0, 161.0, 92.0, 91.0, 93.0, 94.0, 95.0, 105.0, 102.0, 116.0, 110.0, 107.0, 102.0, 154.0, 114.0, 109.0, 94.0, 100.0, 98.0, 102.0, 94.0, 92.0, 115.0, 95.0, 87.0, 88.0, 97.0, 94.0, 112.0, 98.0, 120.0, 99.0, 109.0, 106.0, 123.0, 86.0, 120.0, 227.0, 115.0, 114.0, 90.0, 94.0, 126.0, 89.0, 111.0, 100.0, 115.0, 106.0, 124.0, 107.0, 99.0, 90.0, 101.0, 119.0, 103.0, 134.0, 94.0, 95.0, 89.0, 97.0, 90.0, 92.0, 100.0, 117.0, 84.0, 140.0, 108.0, 109.0, 114.0, 97.0, 122.0, 87.0, 85.0, 101.0, 121.0, 107.0, 97.0, 97.0, 125.0, 124.0, 76.0, 107.0, 91.0, 96.0, 103.0, 116.0, 118.0, 108.0, 94.0, 97.0, 97.0, 91.0, 107.0, 95.0, 102.0, 88.0, 106.0, 92.0, 105.0, 103.0, 92.0, 98.0, 103.0, 111.0, 98.0, 145.0, 84.0, 115.0, 105.0, 98.0, 103.0, 90.0, 105.0, 93.0, 101.0, 115.0, 120.0, 111.0, 131.0, 139.0, 119.0, 108.0, 98.0, 101.0, 109.0, 123.0, 99.0, 107.0, 81.0, 105.0, 82.0, 109.0, 95.0, 91.0, 90.0, 108.0, 103.0, 117.0, 93.0, 85.0, 86.0, 86.0, 137.0, 90.0, 107.0, 98.0, 84.0, 139.0, 127.0, 150.0, 132.0, 115.0, 186.0, 97.0, 107.0, 99.0, 124.0, 110.0, 178.0, 125.0, 121.0, 100.0, 115.0, 112.0, 99.0, 109.0, 83.0, 107.0, 102.0, 100.0, 97.0, 92.0, 86.0, 120.0, 89.0, 117.0, 97.0, 91.0, 100.0, 72.0, 84.0, 108.0, 90.0, 91.0, 135.0, 141.0, 104.0, 118.0, 82.0, 94.0, 99.0, 121.0, 84.0, 93.0, 93.0, 120.0, 112.0, 107.0, 112.0, 96.0, 91.0, 102.0, 87.0, 118.0, 115.0, 91.0, 88.0, 127.0, 94.0, 102.0, 117.0, 109.0, 121.0, 100.0, 109.0, 101.0, 106.0, 94.0, 140.0, 132.0, 99.0, 90.0, 105.0, 108.0, 69.0, 148.0, 118.0, 132.0, 130.0, 95.0, 80.0, 94.0, 122.0, 102.0, 116.0, 78.0, 114.0, 112.0, 110.0, 104.0, 81.0, 154.0, 102.0, 89.0, 93.0, 93.0, 96.0, 89.0, 97.0, 93.0, 89.0, 123.0, 93.0, 133.0, 121.0, 99.0, 98.0, 118.0, 104.0, 109.0, 115.0, 92.0, 91.0, 94.0, 93.0, 100.0, 293.0, 93.0, 123.0, 119.0, 107.0, 106.0, 109.0, 81.0, 95.0, 86.0, 113.0, 122.0, 90.0, 113.0, 110.0, 109.0, 101.0, 97.0, 172.0, 91.0, 100.0, 111.0, 86.0, 90.0, 120.0, 110.0, 132.0, 113.0, 103.0, 106.0, 109.0, 200.0, 112.0, 116.0, 120.0, 107.0, 107.0, 81.0, 101.0, 97.0, 92.0, 110.0, 86.0, 100.0, 111.0, 89.0, 84.0, 95.0, 109.0, 118.0, 86.0, 118.0, 125.0, 125.0, 94.0, 113.0, 104.0, 95.0, 102.0, 104.0, 95.0, 118.0, 193.0, 97.0, 98.0, 103.0, 120.0, 97.0, 126.0, 121.0, 117.0, 98.0, 109.0, 95.0, 96.0, 101.0, 119.0, 100.0, 98.0, 92.0, 90.0, 90.0, 153.0, 124.0, 82.0, 107.0, 97.0, 80.0, 85.0, 97.0, 109.0, 140.0, 90.0, 98.0, 101.0, 114.0, 100.0, 85.0, 103.0, 100.0, 97.0, 116.0, 96.0, 98.0, 105.0, 123.0, 97.0, 122.0, 101.0, 100.0, 81.0, 96.0, 84.0, 110.0, 130.0, 84.0, 106.0, 76.0, 99.0, 96.0, 104.0, 108.0, 87.0, 89.0, 97.0, 106.0, 100.0, 89.0, 95.0, 97.0, 95.0, 101.0, 101.0, 82.0, 130.0, 96.0, 121.0, 85.0, 83.0, 120.0, 111.0, 100.0, 115.0, 135.0, 92.0, 120.0, 97.0, 93.0, 118.0, 97.0, 98.0, 101.0, 132.0, 106.0, 98.0, 96.0, 104.0, 103.0, 111.0, 86.0, 90.0, 82.0, 83.0, 86.0, 91.0, 90.0, 93.0, 104.0, 135.0, 98.0, 117.0, 98.0, 197.0, 104.0, 130.0, 176.0, 88.0, 106.0, 181.0, 130.0, 123.0, 120.0, 87.0, 123.0, 103.0, 88.0, 126.0, 120.0, 94.0, 119.0, 99.0, 79.0, 95.0, 103.0, 92.0, 84.0, 300.0, 120.0, 121.0, 97.0, 86.0, 45.0, 93.0, 84.0, 96.0, 112.0, 125.0, 96.0, 103.0, 101.0, 104.0, 119.0, 128.0, 126.0, 150.0, 178.0, 117.0, 119.0, 174.0, 111.0, 101.0, 95.0, 112.0, 109.0, 100.0, 90.0, 94.0, 142.0, 91.0, 82.0, 97.0, 102.0, 93.0, 138.0, 93.0, 92.0, 92.0, 104.0, 89.0, 92.0, 129.0, 111.0, 79.0, 104.0, 101.0, 113.0, 92.0, 106.0, 75.0, 104.0, 108.0, 99.0, 109.0, 93.0, 99.0, 98.0, 95.0, 107.0, 102.0, 97.0, 124.0, 90.0, 90.0, 99.0, 115.0, 89.0, 92.0, 100.0, 109.0, 105.0, 102.0, 97.0, 92.0, 93.0, 113.0, 89.0, 97.0, 96.0, 120.0, 95.0, 95.0, 121.0, 96.0, 121.0, 95.0, 112.0, 110.0, 119.0, 125.0, 96.0, 100.0, 89.0, 92.0, 103.0, 95.0, 106.0, 100.0, 103.0, 99.0, 164.0, 96.0, 122.0, 94.0, 93.0, 96.0, 113.0, 99.0, 91.0, 105.0, 99.0, 112.0, 99.0, 125.0, 107.0, 107.0, 95.0, 106.0, 96.0, 103.0, 108.0, 97.0, 115.0, 108.0, 101.0, 139.0, 125.0, 115.0, 99.0, 88.0, 112.0, 108.0, 108.0, 102.0, 88.0, 91.0, 141.0, 105.0, 116.0, 97.0, 105.0, 122.0, 121.0, 110.0, 122.0, 110.0, 139.0, 152.0, 98.0, 106.0, 106.0, 89.0, 94.0, 144.0, 90.0, 104.0, 99.0, 98.0, 121.0, 96.0, 101.0, 102.0, 84.0, 104.0, 96.0, 90.0, 96.0, 95.0, 99.0, 99.0, 95.0, 99.0, 90.0, 96.0, 104.0, 97.0, 107.0, 95.0, 111.0, 103.0, 111.0, 112.0, 141.0, 95.0, 85.0, 129.0, 125.0, 105.0, 90.0, 111.0, 91.0, 97.0, 92.0, 104.0, 99.0, 93.0, 99.0, 96.0, 96.0, 100.0, 98.0, 95.0, 104.0, 87.0, 81.0, 94.0, 89.0, 88.0, 115.0, 96.0, 135.0, 93.0, 109.0, 101.0, 117.0, 83.0, 113.0, 104.0, 110.0, 103.0, 134.0, 90.0, 93.0, 106.0, 109.0, 101.0, 100.0, 95.0, 94.0, 93.0, 99.0, 82.0, 135.0, 88.0, 89.0, 110.0, 107.0, 86.0, 91.0, 103.0, 99.0, 82.0, 92.0, 112.0, 90.0, 150.0, 91.0, 95.0, 112.0, 122.0, 110.0, 121.0, 97.0, 116.0, 94.0, 103.0, 112.0, 91.0, 98.0, 95.0, 97.0, 90.0, 90.0, 103.0, 113.0, 94.0, 121.0, 118.0, 101.0, 100.0, 97.0, 96.0, 117.0, 115.0, 133.0, 122.0, 106.0, 110.0, 133.0, 112.0, 101.0, 104.0, 112.0, 94.0, 93.0, 152.0, 112.0, 95.0, 111.0, 91.0, 106.0, 93.0, 96.0, 93.0, 82.0, 101.0, 81.0, 105.0, 86.0, 110.0, 110.0, 104.0, 84.0, 94.0, 93.0, 96.0, 101.0, 87.0, 99.0, 106.0, 117.0, 99.0, 102.0, 86.0, 120.0, 103.0, 112.0, 113.0, 98.0, 92.0, 106.0, 93.0, 226.0, 104.0, 152.0, 107.0, 95.0, 102.0, 99.0, 109.0, 91.0, 88.0, 97.0, 97.0, 85.0, 92.0, 105.0, 129.0, 106.0, 103.0, 98.0, 91.0, 105.0, 80.0, 107.0, 107.0, 135.0, 99.0, 115.0, 91.0, 101.0, 105.0, 109.0, 110.0, 98.0, 91.0, 120.0, 87.0, 117.0, 85.0, 110.0, 113.0, 98.0, 86.0, 161.0, 100.0, 91.0, 100.0, 84.0, 99.0, 95.0, 97.0, 90.0, 96.0, 109.0, 98.0, 95.0, 104.0, 87.0, 108.0, 94.0, 89.0, 110.0, 86.0, 87.0, 93.0, 98.0, 88.0, 97.0, 122.0, 113.0, 105.0, 89.0, 116.0, 88.0, 102.0, 113.0, 97.0, 140.0, 66.0, 86.0, 87.0, 149.0, 98.0, 75.0, 104.0, 107.0, 89.0, 106.0, 95.0, 112.0, 106.0, 103.0, 90.0, 96.0, 101.0, 101.0, 105.0, 91.0, 92.0, 117.0, 172.0, 89.0, 125.0, 115.0, 96.0, 100.0, 87.0, 102.0, 118.0, 86.0, 137.0, 129.0, 89.0, 100.0, 100.0, 91.0, 96.0, 116.0, 97.0, 98.0, 101.0, 102.0, 100.0, 89.0, 86.0, 129.0, 92.0, 96.0, 119.0, 106.0, 99.0, 103.0, 95.0, 89.0, 87.0, 118.0, 93.0, 109.0, 81.0, 93.0, 138.0, 105.0, 98.0, 86.0, 104.0, 100.0, 111.0, 108.0, 92.0, 88.0, 103.0, 110.0, 114.0, 112.0, 104.0, 99.0, 98.0, 100.0, 80.0, 91.0, 90.0, 95.0, 90.0, 106.0, 94.0, 105.0, 95.0, 135.0, 105.0, 87.0, 87.0, 80.0, 100.0, 114.0, 111.0, 85.0, 113.0, 99.0, 112.0, 108.0, 91.0, 94.0, 92.0, 110.0, 102.0, 145.0, 83.0, 91.0, 110.0, 86.0, 86.0, 120.0, 90.0, 99.0, 112.0, 103.0, 83.0, 109.0, 95.0, 104.0, 97.0, 91.0, 84.0, 86.0, 92.0, 94.0, 100.0, 119.0, 92.0, 108.0, 97.0, 88.0, 88.0, 79.0, 53.0, 97.0, 91.0, 112.0, 95.0, 93.0, 88.0, 82.0, 97.0, 88.0, 96.0, 108.0, 100.0, 113.0, 91.0, 101.0, 107.0, 88.0, 95.0, 88.0, 114.0, 88.0, 104.0, 91.0, 86.0, 86.0, 95.0, 101.0, 88.0, 99.0, 170.0, 97.0, 106.0, 81.0, 81.0, 215.0, 106.0, 90.0, 87.0, 122.0, 86.0, 79.0, 97.0, 89.0, 120.0, 108.0, 86.0, 111.0, 90.0, 86.0, 98.0, 91.0, 91.0, 84.0, 82.0, 100.0, 112.0, 94.0, 87.0, 91.0, 107.0, 84.0, 103.0, 89.0, 98.0, 92.0, 90.0, 84.0, 90.0, 92.0, 82.0, 101.0, 100.0, 89.0, 90.0, 102.0, 98.0, 91.0, 80.0, 76.0, 80.0, 109.0, 90.0, 91.0, 98.0, 94.0, 96.0, 90.0, 78.0, 90.0, 99.0, 80.0, 96.0, 97.0, 89.0, 97.0, 92.0, 97.0, 78.0, 85.0, 91.0, 111.0, 81.0, 81.0, 90.0, 88.0, 82.0, 82.0, 98.0, 90.0, 90.0, 78.0, 97.0, 110.0], \"type\": \"box\", \"uid\": \"3019ef6d-7a4b-4935-a4a3-c595ca25a80c\"}], {}, {\"showLink\": true, \"linkText\": \"Export to plot.ly\", \"plotlyServerURL\": \"https://plot.ly\"})});</script><script type=\"text/javascript\">window.addEventListener(\"resize\", function(){window._Plotly.Plots.resize(document.getElementById(\"4151be4c-40e0-44de-9ae7-b7c1a338fc6d\"));});</script>"
      ]
     },
     "metadata": {},
     "output_type": "execute_result"
    },
    {
     "data": {
      "text/html": [
       "<div id=\"3c6130fa-483b-4e3c-b4ea-9be86622e609\" style=\"height: 525px; width: 100%;\" class=\"plotly-graph-div\"></div><script type=\"text/javascript\">require([\"plotly\"], function(Plotly) { window.PLOTLYENV=window.PLOTLYENV || {};window.PLOTLYENV.BASE_URL=\"https://plot.ly\";Plotly.newPlot(\"3c6130fa-483b-4e3c-b4ea-9be86622e609\", [{\"name\": \"imdb_score\", \"x\": [7.1, 8.5, 6.6, 7.8, 7.5, 6.7, 7.3, 6.5, 6.6, 6.7, 6.8, 7.0, 6.1, 8.2, 5.9, 7.0, 7.2, 6.5, 6.8, 7.3, 6.7, 6.8, 6.3, 5.6, 8.3, 6.6, 7.0, 7.8, 7.3, 6.6, 6.2, 7.2, 7.5, 8.4, 6.2, 5.8, 6.6, 6.9, 9.0, 6.5, 7.9, 7.5, 4.8, 5.2, 6.9, 5.4, 7.9, 6.1, 5.8, 7.8, 7.0, 6.1, 7.0, 7.6, 6.3, 7.8, 6.4, 6.5, 7.9, 7.8, 5.5, 8.2, 6.4, 8.1, 8.6, 8.8, 6.7, 7.8, 7.8, 6.6, 6.1, 5.6, 6.4, 6.1, 6.6, 6.3, 7.5, 7.6, 6.4, 7.2, 6.7, 8.0, 8.3, 6.7, 5.9, 6.7, 7.6, 7.1, 8.1, 6.7, 6.9, 5.1, 5.8, 6.2, 7.4, 5.8, 6.2, 7.3, 6.9, 6.4, 5.4, 6.7, 5.8, 6.9, 7.2, 6.9, 6.1, 5.5, 6.1, 7.2, 7.4, 7.3, 6.1, 7.7, 8.0, 7.9, 5.5, 5.0, 6.6, 5.8, 6.0, 6.4, 6.9, 6.4, 7.4, 5.5, 5.9, 6.8, 6.8, 6.5, 7.2, 6.7, 8.1, 7.6, 7.4, 7.6, 6.7, 6.5, 6.7, 6.4, 7.4, 6.6, 6.2, 7.3, 5.6, 8.1, 6.7, 6.6, 6.4, 7.3, 5.8, 7.5, 6.6, 6.7, 3.7, 6.0, 6.4, 6.1, 6.4, 5.6, 5.2, 7.1, 4.8, 5.4, 6.6, 6.7, 6.2, 5.3, 6.3, 7.0, 6.7, 7.3, 6.0, 6.1, 5.9, 5.8, 4.3, 6.4, 6.1, 6.5, 7.1, 6.5, 6.3, 7.5, 4.9, 5.8, 6.2, 5.5, 5.4, 5.8, 7.1, 5.4, 3.7, 6.7, 7.2, 5.8, 3.8, 7.1, 5.9, 7.1, 4.4, 6.5, 7.7, 8.0, 5.7, 6.4, 5.5, 6.7, 6.1, 8.5, 6.9, 7.3, 6.7, 6.9, 5.1, 6.7, 6.0, 8.0, 8.2, 5.4, 7.2, 7.5, 3.3, 6.0, 7.1, 5.4, 6.1, 5.3, 2.2, 7.0, 3.8, 6.9, 7.2, 7.3, 6.3, 7.5, 7.6, 6.8, 6.2, 4.3, 6.9, 6.6, 8.2, 5.5, 5.7, 5.9, 7.6, 6.6, 5.3, 6.0, 8.0, 5.6, 7.3, 7.9, 6.8, 6.6, 7.0, 7.0, 5.5, 8.5, 7.5, 7.8, 7.6, 6.8, 5.0, 5.5, 7.1, 4.9, 5.7, 6.4, 5.9, 5.5, 6.9, 6.2, 7.0, 7.0, 5.4, 6.1, 6.9, 8.0, 4.4, 7.3, 6.3, 6.5, 7.8, 6.4, 5.8, 7.1, 7.1, 6.8, 4.8, 6.2, 6.9, 7.3, 6.6, 6.2, 6.7, 7.6, 6.7, 6.2, 7.3, 6.0, 7.1, 7.1, 5.5, 5.6, 7.5, 5.4, 4.3, 4.9, 7.1, 6.4, 4.3, 6.1, 7.7, 5.9, 6.7, 6.5, 7.3, 6.5, 7.0, 6.8, 7.2, 6.1, 6.7, 6.4, 4.4, 5.4, 6.5, 6.7, 8.1, 5.6, 6.3, 7.3, 6.1, 6.4, 6.8, 6.6, 7.2, 6.9, 5.2, 4.9, 6.3, 5.6, 5.5, 6.7, 7.6, 5.7, 4.6, 7.0, 5.2, 5.1, 6.6, 6.7, 7.3, 5.9, 5.6, 6.5, 5.9, 7.0, 5.3, 6.3, 6.3, 7.3, 5.8, 5.2, 2.4, 5.7, 5.8, 5.6, 5.8, 6.0, 7.8, 5.6, 8.2, 8.5, 5.8, 6.5, 7.2, 6.7, 3.4, 5.9, 7.8, 5.9, 4.1, 6.8, 5.8, 7.5, 6.9, 6.5, 6.9, 6.7, 6.9, 6.8, 6.7, 5.1, 4.1, 7.3, 6.0, 7.3, 5.4, 5.9, 6.0, 6.5, 5.7, 7.6, 6.6, 5.4, 6.5, 6.6, 6.6, 5.9, 6.7, 6.1, 6.6, 6.6, 5.3, 6.0, 4.7, 6.1, 6.4, 6.0, 6.3, 5.6, 7.1, 6.6, 4.6, 7.4, 4.5, 7.1, 5.3, 7.2, 7.2, 5.8, 6.0, 6.6, 8.3, 6.7, 7.1, 6.0, 6.9, 5.6, 4.5, 7.1, 6.5, 6.4, 5.8, 8.0, 7.2, 6.3, 6.3, 7.7, 7.0, 5.3, 5.6, 5.2, 5.4, 6.4, 5.9, 6.3, 6.5, 3.0, 3.6, 5.8, 6.2, 6.1, 4.2, 6.7, 4.2, 6.4, 4.9, 7.7, 5.6, 6.4, 7.2, 6.0, 5.9, 5.9, 6.2, 7.0, 5.4, 8.6, 6.5, 6.4, 7.6, 5.5, 7.4, 7.6, 5.5, 6.9, 6.7, 6.6, 7.2, 6.4, 6.4, 6.0, 6.1, 6.4, 6.4, 5.2, 6.6, 6.3, 5.9, 5.4, 6.4, 6.7, 6.2, 6.1, 8.8, 7.1, 5.7, 5.1, 6.9, 4.8, 6.5, 5.1, 7.1, 7.5, 6.2, 6.3, 8.1, 6.6, 6.9, 6.1, 4.3, 6.6, 3.8, 5.9, 7.9, 6.3, 5.5, 6.3, 7.1, 5.8, 8.1, 7.9, 7.2, 6.3, 8.1, 7.0, 5.5, 6.7, 5.2, 7.0, 6.1, 6.6, 5.9, 5.4, 6.4, 5.7, 6.7, 7.1, 5.5, 6.5, 7.0, 5.8, 7.3, 4.4, 7.7, 7.7, 4.4, 6.1, 5.4, 6.5, 7.0, 6.3, 6.3, 6.1, 6.1, 5.3, 5.4, 6.6, 5.9, 7.2, 6.8, 6.1, 7.8, 5.0, 6.2, 6.7, 4.9, 7.4, 6.2, 4.9, 6.1, 6.1, 6.4, 6.6, 5.9, 6.0, 6.1, 6.7, 7.9, 4.3, 5.7, 6.7, 6.1, 6.6, 6.9, 4.8, 6.2, 6.0, 4.9, 5.6, 6.1, 6.1, 4.8, 5.5, 3.8, 6.5, 6.7, 8.1, 4.9, 7.3, 6.4, 6.7, 3.6, 5.7, 4.7, 6.3, 5.9, 5.9, 7.5, 5.6, 6.4, 6.3, 4.3, 5.9, 5.5, 6.2, 5.2, 7.0, 6.6, 7.3, 5.6, 6.6, 5.4, 6.3, 7.9, 6.3, 6.0, 7.2, 5.1, 7.3, 8.0, 6.2, 6.0, 6.7, 8.1, 8.0, 6.3, 6.6, 6.4, 6.0, 6.6, 5.9, 6.4, 6.3, 7.3, 6.8, 7.2, 5.7, 6.0, 6.5, 5.8, 5.8, 6.7, 7.8, 5.6, 5.8, 7.4, 6.9, 5.5, 6.3, 5.6, 6.4, 4.2, 6.4, 7.7, 5.7, 6.4, 5.6, 6.8, 2.4, 6.2, 5.9, 7.1, 7.6, 5.5, 7.0, 7.1, 7.4, 5.9, 5.9, 8.0, 5.8, 6.3, 5.1, 6.4, 7.4, 8.2, 6.5, 5.5, 6.5, 5.6, 4.6, 7.9, 7.1, 6.9, 7.3, 7.0, 7.7, 6.7, 6.3, 5.8, 7.1, 6.4, 7.1, 7.6, 6.8, 6.6, 6.1, 6.0, 7.1, 5.0, 6.2, 5.6, 7.4, 5.0, 5.2, 7.6, 6.6, 7.0, 5.7, 8.2, 6.2, 6.6, 4.7, 6.3, 6.1, 6.7, 6.1, 7.0, 7.3, 5.8, 6.7, 7.8, 6.6, 6.5, 6.7, 7.3, 5.8, 5.5, 6.3, 7.4, 5.9, 6.2, 5.9, 6.5, 6.4, 4.3, 4.2, 6.5, 6.1, 6.3, 6.2, 5.9, 6.5, 6.4, 6.5, 8.0, 6.7, 7.5, 5.4, 6.6, 5.8, 5.6, 6.0, 6.2, 5.9, 5.1, 6.8, 6.0, 5.1, 5.8, 6.2, 4.9, 5.5, 3.7, 5.9, 6.3, 8.3, 6.9, 6.7, 6.8, 7.1, 6.4, 6.4, 7.4, 6.4, 6.0, 7.8, 6.0, 6.1, 6.8, 6.4, 5.8, 6.3, 5.7, 7.2, 7.6, 4.7, 6.6, 6.8, 7.3, 4.8, 6.3, 5.5, 6.2, 5.8, 6.5, 6.7, 6.9, 5.5, 8.1, 7.7, 7.3, 5.2, 7.1, 7.1, 7.2, 6.5, 4.6, 5.6, 7.7, 7.2, 6.8, 5.4, 6.3, 5.6, 6.8, 4.3, 6.3, 6.5, 6.4, 6.3, 6.5, 6.1, 5.9, 7.4, 6.6, 5.6, 5.3, 6.0, 5.4, 6.4, 4.9, 7.2, 6.0, 7.0, 5.4, 6.5, 6.4, 4.9, 6.3, 7.8, 5.5, 7.5, 6.4, 5.6, 7.5, 6.8, 6.8, 6.0, 7.3, 6.0, 7.0, 5.1, 6.8, 6.5, 6.6, 7.2, 7.0, 7.0, 5.9, 5.4, 6.6, 7.0, 6.5, 6.3, 6.5, 5.8, 6.6, 5.4, 6.1, 4.0, 7.6, 7.9, 5.3, 6.6, 6.3, 7.0, 6.9, 5.2, 6.6, 6.2, 7.2, 7.3, 6.7, 6.4, 4.1, 7.4, 5.8, 7.6, 7.2, 7.7, 6.4, 5.1, 6.0, 7.5, 7.3, 5.7, 7.3, 7.2, 5.9, 7.7, 8.1, 6.6, 7.1, 5.9, 4.6, 6.1, 6.4, 6.0, 5.2, 7.6, 6.4, 6.1, 6.1, 5.2, 7.7, 7.3, 6.9, 8.5, 6.3, 5.9, 6.7, 6.4, 5.9, 6.6, 6.8, 6.5, 6.6, 5.8, 6.9, 5.8, 7.2, 4.7, 5.2, 5.5, 7.0, 5.8, 6.5, 5.1, 5.9, 5.8, 7.2, 6.2, 5.7, 6.1, 6.0, 6.9, 6.5, 5.0, 5.7, 5.1, 5.3, 4.4, 6.7, 6.7, 5.7, 7.4, 6.1, 6.4, 6.2, 6.2, 5.9, 4.0, 6.2, 4.6, 5.9, 5.1, 7.6, 4.2, 5.8, 4.8, 6.2, 6.5, 6.3, 3.3, 5.9, 4.7, 4.1, 6.8, 6.2, 4.5, 5.8, 5.9, 5.8, 5.1, 6.9, 6.2, 6.9, 7.1, 6.0, 7.0, 7.6, 7.1, 7.0, 5.3, 4.9, 6.4, 7.4, 6.1, 6.5, 5.7, 6.6, 6.9, 7.6, 5.6, 6.2, 4.4, 5.6, 5.5, 6.7, 6.1, 6.2, 7.3, 6.4, 6.4, 5.2, 6.5, 7.3, 5.2, 5.7, 7.0, 6.0, 8.1, 6.1, 6.9, 5.2, 7.0, 6.3, 7.0, 6.9, 6.2, 6.4, 6.4, 5.7, 6.1, 5.4, 6.8, 6.0, 7.8, 5.3, 4.5, 7.8, 7.2, 6.6, 7.6, 5.9, 6.7, 7.7, 6.9, 7.7, 6.8, 6.4, 5.7, 7.3, 6.8, 5.9, 7.4, 8.3, 6.2, 5.8, 6.3, 6.4, 7.2, 6.3, 6.9, 6.6, 6.0, 7.5, 5.4, 6.6, 5.3, 5.6, 5.9, 7.8, 6.7, 7.4, 6.2, 5.4, 6.7, 5.3, 5.9, 4.8, 3.8, 8.5, 6.8, 5.3, 6.6, 6.2, 5.2, 6.2, 6.2, 6.6, 5.1, 6.6, 6.1, 5.9, 6.3, 7.1, 5.0, 5.6, 7.4, 4.5, 6.2, 6.5, 5.1, 6.5, 6.2, 6.3, 3.8, 5.7, 6.7, 6.8, 6.0, 7.3, 5.5, 4.8, 5.7, 5.1, 6.0, 4.2, 4.6, 6.9, 8.0, 6.4, 6.8, 5.4, 7.2, 5.2, 5.5, 7.7, 7.1, 5.3, 5.6, 5.7, 7.1, 5.5, 5.1, 4.9, 6.5, 5.6, 5.3, 6.5, 6.8, 6.5, 6.0, 8.4, 6.0, 7.6, 6.9, 6.4, 5.1, 7.0, 5.7, 6.8, 6.7, 6.2, 7.2, 6.2, 5.6, 4.4, 7.1, 6.4, 6.9, 6.3, 5.9, 6.8, 6.3, 3.6, 5.3, 5.9, 6.9, 6.3, 7.3, 6.3, 7.2, 6.3, 6.9, 6.3, 7.3, 6.9, 7.2, 6.4, 6.4, 8.3, 7.2, 6.8, 6.5, 7.8, 7.6, 7.2, 6.7, 6.8, 6.3, 6.2, 8.6, 8.0, 7.0, 8.0, 8.1, 6.7, 7.9, 6.1, 4.2, 7.5, 7.4, 7.2, 6.9, 5.4, 6.8, 6.3, 7.2, 6.9, 6.0, 5.4, 5.9, 6.1, 7.7, 5.8, 7.6, 6.1, 5.1, 6.4, 6.3, 7.5, 7.1, 7.8, 6.5, 7.4, 7.6, 7.5, 7.2, 7.6, 6.2, 5.6, 7.6, 6.6, 7.0, 2.7, 7.6, 6.6, 6.8, 3.7, 6.1, 5.9, 6.7, 6.9, 5.5, 7.1, 7.3, 3.4, 6.8, 6.9, 7.0, 5.5, 5.1, 6.2, 5.9, 5.2, 6.2, 5.5, 7.4, 4.4, 6.3, 6.1, 5.3, 5.4, 6.7, 5.9, 7.3, 5.5, 5.8, 4.6, 6.7, 5.1, 7.0, 6.4, 4.1, 5.5, 2.7, 6.4, 4.8, 6.1, 4.8, 7.0, 5.6, 6.1, 7.9, 6.5, 7.1, 6.6, 7.0, 5.6, 4.8, 7.5, 6.8, 7.9, 5.8, 7.7, 5.3, 5.3, 6.9, 4.9, 7.1, 8.0, 7.9, 7.6, 5.9, 6.3, 8.2, 6.9, 7.8, 7.5, 5.2, 7.3, 6.6, 6.8, 6.9, 6.7, 6.7, 6.3, 7.7, 6.1, 4.9, 6.2, 7.8, 6.9, 6.2, 6.9, 4.8, 5.3, 6.7, 5.4, 5.4, 6.1, 5.8, 6.5, 6.6, 5.7, 6.6, 7.4, 5.3, 7.4, 7.4, 6.8, 7.2, 6.0, 6.6, 7.9, 5.7, 7.1, 5.6, 7.8, 7.9, 6.9, 7.7, 6.9, 6.2, 5.9, 6.8, 6.3, 6.4, 6.4, 5.7, 6.2, 5.2, 6.1, 7.2, 6.5, 6.0, 7.0, 7.0, 6.6, 6.2, 5.2, 6.5, 5.2, 7.2, 7.1, 4.5, 6.0, 6.4, 5.2, 4.3, 6.1, 6.8, 6.5, 7.5, 8.0, 8.2, 7.9, 6.7, 6.1, 8.9, 8.1, 6.2, 4.9, 5.8, 6.0, 7.0, 6.0, 8.1, 6.2, 6.7, 7.3, 6.1, 6.2, 7.8, 6.1, 5.8, 6.5, 7.2, 7.8, 6.8, 5.9, 7.2, 8.7, 5.0, 6.6, 6.7, 7.8, 6.5, 6.1, 5.8, 6.6, 6.6, 5.5, 7.0, 6.5, 5.8, 5.6, 5.6, 5.8, 7.6, 6.4, 6.3, 4.6, 7.5, 7.5, 5.3, 7.5, 3.3, 3.5, 4.8, 6.9, 6.0, 7.3, 6.6, 7.5, 6.8, 6.4, 5.6, 6.3, 6.6, 4.6, 5.1, 5.6, 5.3, 5.6, 5.9, 4.7, 6.8, 5.4, 5.1, 7.0, 4.0, 7.3, 6.8, 7.1, 6.9, 8.2, 7.1, 7.7, 6.5, 4.9, 6.4, 5.9, 6.2, 5.8, 6.7, 5.9, 7.3, 4.1, 4.9, 7.9, 5.2, 4.1, 6.6, 2.9, 6.5, 7.2, 7.8, 5.7, 7.7, 6.1, 7.3, 7.2, 5.8, 5.7, 6.7, 6.5, 7.2, 4.6, 6.9, 6.3, 6.2, 5.3, 7.3, 5.6, 6.2, 5.3, 5.4, 4.9, 5.5, 6.7, 7.2, 5.1, 6.5, 8.2, 7.7, 6.1, 8.8, 6.8, 6.7, 7.1, 6.1, 6.6, 5.4, 6.1, 5.6, 2.8, 6.7, 5.1, 7.2, 6.0, 6.7, 6.2, 6.2, 6.8, 7.0, 7.1, 6.4, 7.0, 6.2, 7.5, 4.8, 7.3, 5.8, 7.6, 5.6, 7.0, 6.6, 4.6, 6.4, 5.9, 6.4, 5.8, 6.4, 5.3, 6.5, 5.7, 6.7, 3.9, 4.1, 6.2, 3.8, 5.1, 7.8, 7.8, 6.1, 5.8, 6.3, 5.4, 7.3, 6.8, 7.3, 6.5, 7.2, 6.3, 5.9, 7.8, 4.8, 6.3, 7.8, 7.5, 6.8, 6.6, 4.6, 6.7, 7.1, 5.8, 5.8, 8.5, 7.7, 4.7, 6.4, 5.5, 8.6, 7.0, 7.1, 5.7, 3.7, 4.6, 4.9, 5.8, 5.4, 7.3, 7.1, 5.8, 5.7, 7.9, 7.6, 2.7, 5.8, 7.5, 4.1, 5.9, 6.3, 6.8, 2.3, 8.1, 6.1, 5.0, 5.5, 6.2, 6.2, 6.3, 6.7, 3.5, 6.6, 7.5, 7.2, 4.8, 6.6, 3.5, 7.6, 6.3, 5.5, 6.3, 6.5, 6.9, 7.6, 3.9, 6.1, 7.3, 8.3, 5.8, 6.8, 7.0, 5.9, 6.5, 6.4, 5.8, 5.1, 6.8, 5.3, 6.8, 8.5, 5.9, 6.3, 5.4, 6.9, 7.5, 5.9, 5.0, 7.6, 5.8, 5.6, 5.3, 6.6, 1.9, 5.7, 6.6, 6.0, 6.1, 4.8, 6.2, 7.5, 6.3, 7.1, 6.6, 6.1, 6.7, 5.6, 7.2, 4.3, 6.4, 7.1, 6.3, 7.4, 6.1, 6.6, 6.0, 6.8, 7.2, 1.9, 5.5, 4.5, 6.3, 2.8, 5.0, 4.3, 6.2, 5.3, 7.4, 7.4, 7.2, 2.3, 6.4, 6.1, 7.0, 7.0, 7.0, 4.9, 8.4, 6.9, 4.5, 7.4, 7.0, 2.8, 7.5, 7.1, 6.4, 5.3, 6.9, 6.2, 6.4, 5.1, 5.5, 5.4, 7.5, 7.4, 5.7, 6.8, 5.9, 5.5, 5.6, 6.1, 5.4, 7.1, 3.6, 6.5, 8.6, 7.0, 7.6, 6.5, 6.4, 6.3, 6.3, 6.0, 6.4, 6.9, 7.3, 7.3, 6.2, 6.6, 6.7, 5.7, 3.1, 6.3, 5.7, 7.1, 7.0, 6.1, 6.6, 7.8, 8.3, 3.9, 7.0, 6.7, 7.3, 7.3, 7.6, 5.3, 5.3, 7.1, 5.8, 5.8, 8.3, 5.6, 6.8, 5.0, 6.7, 6.7, 5.7, 5.2, 7.5, 6.5, 5.0, 6.1, 4.4, 5.5, 7.1, 5.9, 6.7, 7.0, 7.9, 6.9, 7.3, 3.5, 6.7, 6.4, 7.1, 5.9, 7.2, 6.7, 7.6, 6.2, 6.5, 8.1, 6.3, 4.4, 7.6, 7.9, 5.6, 6.5, 7.5, 6.3, 5.1, 6.7, 6.7, 5.6, 5.6, 6.2, 5.6, 6.4, 5.6, 7.4, 7.2, 4.9, 4.8, 5.8, 6.7, 6.5, 5.9, 5.5, 3.6, 7.4, 3.0, 7.6, 6.4, 6.9, 5.5, 4.1, 6.8, 6.5, 7.1, 6.3, 7.6, 8.0, 7.3, 6.5, 6.4, 8.0, 4.8, 5.9, 5.4, 3.3, 5.4, 6.4, 4.8, 5.9, 5.5, 7.9, 4.9, 7.2, 5.3, 7.2, 5.1, 5.6, 7.6, 7.2, 5.7, 5.2, 7.7, 7.0, 6.0, 6.6, 6.8, 7.2, 7.2, 2.8, 6.6, 6.7, 4.4, 6.2, 7.3, 5.1, 4.5, 5.9, 6.6, 6.5, 7.3, 5.9, 7.4, 6.9, 6.0, 6.8, 7.8, 8.1, 6.1, 6.2, 6.2, 7.4, 6.6, 7.3, 7.5, 7.3, 6.4, 5.0, 5.4, 7.1, 5.3, 6.5, 6.2, 6.9, 5.7, 7.7, 5.6, 7.7, 5.1, 6.8, 8.4, 7.1, 6.6, 6.1, 4.1, 7.6, 4.6, 6.0, 7.0, 6.7, 6.4, 7.2, 7.4, 4.8, 4.0, 6.2, 7.7, 6.7, 7.9, 5.5, 6.2, 5.1, 4.1, 6.7, 4.7, 6.4, 6.3, 5.5, 7.3, 6.3, 4.9, 6.0, 6.2, 6.8, 4.5, 5.7, 4.6, 6.2, 7.0, 6.7, 5.6, 6.6, 6.4, 2.8, 5.4, 5.0, 5.1, 5.9, 7.0, 6.6, 6.7, 5.5, 4.9, 6.9, 5.6, 8.0, 5.3, 6.2, 5.3, 6.6, 7.2, 4.6, 7.6, 6.2, 6.3, 7.2, 6.7, 5.3, 8.3, 7.2, 6.8, 6.4, 6.9, 6.1, 5.1, 4.5, 5.9, 8.1, 5.7, 6.8, 7.5, 8.3, 7.4, 6.9, 5.5, 6.9, 5.5, 5.2, 7.1, 5.5, 6.7, 5.0, 6.4, 6.6, 5.9, 5.7, 5.0, 4.6, 6.5, 4.9, 6.9, 5.7, 4.4, 5.4, 5.4, 7.6, 5.9, 6.6, 6.7, 3.9, 5.7, 6.5, 6.8, 7.3, 7.0, 6.5, 6.8, 7.4, 5.1, 7.4, 7.2, 8.3, 8.1, 7.3, 3.6, 1.6, 6.1, 5.7, 6.8, 5.5, 6.8, 7.3, 6.1, 7.2, 5.9, 6.8, 7.7, 4.9, 6.1, 2.5, 6.1, 5.9, 5.7, 5.6, 7.7, 6.1, 5.8, 6.5, 7.9, 6.3, 8.3, 6.4, 6.1, 6.0, 5.8, 5.6, 6.1, 5.9, 7.3, 6.8, 5.7, 7.3, 6.3, 5.9, 8.0, 5.1, 7.1, 6.5, 4.5, 6.6, 4.3, 6.7, 6.6, 7.3, 6.9, 8.0, 7.8, 6.1, 5.1, 7.4, 7.8, 8.0, 6.7, 6.6, 6.4, 6.7, 6.2, 7.3, 8.1, 7.0, 8.0, 8.0, 7.0, 7.9, 5.9, 6.6, 6.3, 7.7, 6.9, 7.1, 7.4, 6.5, 6.5, 6.8, 7.5, 6.6, 7.1, 3.3, 6.7, 6.8, 6.0, 4.3, 6.2, 7.7, 7.4, 5.9, 7.8, 7.4, 7.0, 7.6, 6.9, 5.3, 6.4, 7.8, 6.7, 5.3, 6.3, 7.0, 6.6, 8.4, 5.4, 7.8, 7.6, 6.6, 6.4, 7.0, 5.7, 5.9, 6.3, 6.3, 6.2, 2.1, 5.3, 7.1, 7.0, 7.1, 7.0, 7.7, 6.3, 7.3, 6.8, 6.4, 6.4, 7.5, 4.6, 7.7, 5.6, 6.6, 7.2, 6.0, 8.0, 4.5, 7.9, 7.5, 6.8, 7.2, 7.1, 7.4, 6.9, 6.0, 7.3, 4.6, 5.5, 7.5, 6.3, 5.1, 5.3, 7.3, 7.1, 5.3, 7.8, 7.7, 7.7, 5.4, 6.2, 7.4, 6.2, 5.1, 6.8, 5.8, 6.4, 6.0, 6.9, 5.5, 5.4, 7.9, 6.5, 8.3, 6.2, 6.9, 5.9, 6.1, 5.8, 5.9, 5.5, 7.0, 6.4, 5.9, 7.0, 6.1, 6.9, 7.5, 7.3, 6.5, 6.2, 6.0, 6.3, 5.8, 6.1, 6.9, 5.4, 6.7, 5.6, 6.5, 6.5, 5.8, 5.0, 5.5, 6.5, 5.2, 5.7, 4.7, 5.9, 6.8, 5.9, 4.4, 6.6, 6.7, 5.5, 6.2, 7.1, 6.1, 6.0, 7.4, 5.9, 4.1, 5.9, 7.0, 6.8, 7.4, 7.0, 5.8, 7.8, 6.5, 7.0, 6.3, 5.3, 5.5, 7.4, 5.2, 6.7, 8.6, 6.1, 7.7, 5.6, 6.6, 4.1, 6.5, 7.0, 5.5, 6.6, 7.9, 7.1, 5.6, 7.3, 3.3, 4.8, 5.2, 6.3, 7.2, 5.7, 7.2, 6.9, 6.7, 6.5, 7.2, 6.6, 7.3, 6.2, 6.6, 6.3, 3.3, 3.5, 5.5, 4.7, 3.9, 6.1, 7.3, 6.1, 6.9, 4.5, 7.6, 7.5, 7.1, 6.9, 7.5, 6.6, 8.0, 7.0, 6.8, 6.7, 6.5, 8.0, 6.5, 7.1, 7.0, 7.0, 4.5, 6.7, 7.0, 6.5, 6.2, 5.7, 6.4, 5.4, 6.6, 6.1, 7.6, 6.2, 6.6, 7.3, 6.5, 6.5, 5.7, 7.3, 6.9, 5.0, 7.3, 6.5, 2.1, 7.0, 8.0, 7.1, 6.7, 8.9, 7.9, 5.6, 8.0, 6.2, 7.9, 3.5, 7.6, 6.5, 7.7, 5.2, 6.1, 6.8, 5.7, 6.7, 5.6, 7.6, 6.5, 6.3, 7.1, 7.1, 6.9, 5.4, 5.1, 5.3, 7.3, 7.1, 6.0, 6.6, 7.2, 7.2, 6.9, 6.8, 7.7, 7.4, 6.5, 6.4, 5.6, 6.8, 5.5, 6.9, 6.0, 6.4, 6.6, 5.3, 8.1, 6.9, 6.5, 7.4, 6.9, 6.7, 7.6, 7.3, 6.0, 7.2, 6.0, 3.1, 6.2, 6.3, 6.7, 8.0, 7.2, 7.5, 6.7, 6.1, 7.7, 7.6, 4.9, 6.8, 7.0, 5.7, 7.4, 6.8, 6.8, 5.2, 7.2, 4.0, 6.8, 7.3, 6.1, 7.0, 7.1, 6.2, 7.6, 7.6, 6.4, 6.2, 7.5, 2.0, 6.2, 6.5, 6.8, 6.3, 6.6, 6.4, 7.5, 6.5, 7.2, 6.3, 7.0, 2.3, 7.1, 6.7, 6.5, 5.9, 6.9, 7.3, 7.0, 5.6, 8.2, 6.5, 8.1, 5.4, 6.3, 7.8, 6.8, 6.2, 7.3, 5.9, 3.6, 7.7, 7.4, 6.9, 6.8, 7.2, 7.7, 7.7, 7.2, 7.5, 8.1, 7.8, 7.6, 7.4, 6.3, 6.9, 5.1, 6.4, 6.9, 7.5, 6.2, 6.8, 6.1, 7.7, 5.2, 5.9, 7.1, 5.5, 7.4, 7.3, 5.1, 5.3, 7.8, 6.7, 7.2, 5.8, 7.0, 5.7, 6.7, 6.1, 6.2, 6.2, 6.3, 7.3, 7.1, 7.1, 6.7, 6.9, 2.1, 6.6, 8.3, 7.2, 7.7, 6.6, 7.4, 7.1, 7.9, 6.7, 6.6, 4.9, 7.2, 6.1, 5.3, 5.0, 7.6, 7.6, 6.6, 7.3, 6.6, 6.9, 5.8, 4.4, 6.6, 7.6, 4.6, 6.8, 4.9, 7.3, 5.0, 8.0, 5.2, 8.5, 6.5, 7.7, 7.4, 7.2, 6.4, 6.1, 5.2, 7.3, 7.5, 4.5, 6.6, 5.3, 4.9, 8.0, 3.8, 7.6, 5.9, 6.2, 7.2, 6.3, 5.2, 6.9, 6.8, 6.1, 5.9, 6.9, 7.7, 5.3, 7.0, 6.6, 6.4, 7.7, 7.2, 6.8, 4.6, 6.4, 7.0, 7.7, 6.8, 7.0, 7.0, 6.3, 7.1, 6.1, 7.3, 6.2, 3.3, 7.4, 6.8, 7.4, 6.7, 5.5, 7.2, 5.9, 6.7, 7.1, 7.2, 8.1, 7.8, 6.8, 7.3, 8.7, 6.1, 7.6, 6.5, 7.3, 6.2, 8.1, 6.7, 7.1, 5.6, 7.6, 4.6, 7.1, 4.0, 6.7, 4.6, 4.0, 7.0, 5.9, 7.5, 4.7, 6.7, 6.7, 7.1, 7.6, 5.8, 6.5, 6.6, 6.9, 4.8, 7.0, 5.4, 6.9, 6.6, 5.9, 6.3, 7.7, 6.3, 6.2, 7.7, 6.5, 5.8, 6.1, 5.2, 8.2, 6.0, 6.8, 7.0, 6.8, 7.1, 6.9, 6.9, 7.2, 7.8, 7.3, 7.5, 6.0, 6.8, 7.5, 8.2, 6.8, 7.0, 6.4, 5.3, 4.7, 7.6, 7.1, 8.5, 8.7, 7.1, 8.3, 7.4, 7.5, 7.2, 7.6, 7.8, 5.7, 7.4, 8.0, 5.4, 7.4, 5.7, 6.8, 5.4, 5.1, 5.9, 8.2, 5.3, 4.3, 7.2, 5.9, 3.0, 3.2, 6.5, 7.0, 6.9, 6.0, 5.3, 5.3, 7.1, 5.4, 6.9, 7.3, 6.6, 6.3, 6.1, 5.3, 5.3, 7.4, 4.1, 6.7, 5.8, 8.0, 6.5, 6.8, 7.4, 5.3, 8.1, 7.1, 5.9, 7.8, 7.2, 5.1, 5.1, 6.9, 4.6, 6.7, 7.1, 7.0, 7.1, 7.6, 7.1, 7.6, 6.2, 6.1, 5.9, 6.8, 5.1, 7.7, 3.9, 5.7, 4.7, 5.9, 8.1, 7.6, 7.2, 7.5, 5.1, 6.9, 7.6, 7.6, 7.6, 5.3, 8.5, 7.0, 7.2, 6.8, 7.2, 7.4, 6.1, 7.0, 5.3, 5.7, 6.5, 6.9, 8.1, 6.8, 4.6, 4.5, 6.6, 6.6, 7.8, 5.7, 7.1, 6.4, 7.0, 7.2, 5.6, 6.8, 7.3, 7.3, 7.8, 6.7, 7.5, 6.3, 6.3, 6.8, 7.8, 6.9, 5.4, 7.1, 6.8, 7.4, 7.2, 7.5, 7.9, 6.7, 5.8, 6.5, 7.2, 6.5, 6.2, 6.5, 4.3, 6.7, 6.7, 6.7, 6.6, 8.1, 7.2, 7.4, 6.5, 6.2, 6.1, 5.7, 7.1, 7.4, 7.7, 6.6, 6.0, 8.4, 7.9, 6.0, 6.2, 6.8, 5.9, 6.1, 7.6, 8.1, 5.7, 6.6, 7.3, 5.0, 7.0, 3.4, 5.9, 6.0, 7.4, 7.4, 4.2, 6.2, 7.2, 6.7, 7.2, 7.4, 5.6, 6.8, 7.7, 7.0, 7.2, 7.2, 6.2, 6.9, 7.0, 6.7, 7.4, 6.1, 7.7, 7.3, 7.6, 5.6, 6.4, 6.8, 6.1, 6.0, 5.5, 4.1, 5.4, 8.2, 5.7, 7.9, 6.4, 6.4, 7.2, 6.0, 5.6, 7.5, 7.2, 7.2, 6.5, 6.4, 6.9, 7.0, 6.3, 5.5, 6.6, 5.2, 8.3, 7.2, 7.2, 7.8, 6.4, 8.1, 5.6, 6.6, 7.7, 6.5, 6.1, 5.7, 5.9, 7.7, 7.1, 7.6, 6.5, 7.3, 7.3, 6.5, 6.0, 5.3, 6.6, 6.2, 5.8, 5.7, 6.1, 6.4, 4.6, 5.9, 7.7, 7.1, 6.2, 7.7, 7.5, 6.9, 7.1, 6.3, 7.1, 5.1, 6.9, 6.1, 6.3, 6.1, 4.7, 6.7, 6.6, 6.9, 7.1, 6.7, 7.1, 6.6, 6.4, 6.9, 7.2, 6.5, 6.6, 7.3, 5.5, 6.7, 3.9, 6.7, 7.4, 6.5, 8.5, 7.7, 7.0, 5.5, 6.3, 7.9, 7.5, 6.7, 4.2, 7.0, 7.0, 6.8, 5.6, 5.6, 6.3, 7.5, 7.6, 4.1, 7.3, 6.9], \"type\": \"box\", \"uid\": \"9bc2b794-224c-49e4-ade0-624bfc21cee6\"}], {}, {\"showLink\": true, \"linkText\": \"Export to plot.ly\", \"plotlyServerURL\": \"https://plot.ly\"})});</script><script type=\"text/javascript\">window.addEventListener(\"resize\", function(){window._Plotly.Plots.resize(document.getElementById(\"3c6130fa-483b-4e3c-b4ea-9be86622e609\"));});</script>"
      ]
     },
     "metadata": {},
     "output_type": "execute_result"
    },
    {
     "data": {
      "text/html": [
       "<div id=\"1583c95f-29dc-4b93-9f28-748f3f09cb03\" style=\"height: 525px; width: 100%;\" class=\"plotly-graph-div\"></div><script type=\"text/javascript\">require([\"plotly\"], function(Plotly) { window.PLOTLYENV=window.PLOTLYENV || {};window.PLOTLYENV.BASE_URL=\"https://plot.ly\";Plotly.newPlot(\"1583c95f-29dc-4b93-9f28-748f3f09cb03\", [{\"name\": \"num_critic_for_reviews\", \"x\": [302, 813, 462, 324, 375, 403, 313, 450, 258, 448, 451, 599, 251, 516, 377, 644, 608, 451, 334, 376, 495, 469, 304, 436, 453, 422, 654, 590, 490, 306, 470, 488, 322, 421, 162, 367, 248, 284, 645, 219, 486, 682, 85, 264, 418, 186, 585, 91, 250, 370, 453, 416, 401, 521, 218, 576, 226, 443, 384, 377, 286, 288, 280, 653, 712, 642, 187, 362, 500, 389, 235, 231, 218, 227, 474, 228, 329, 295, 318, 323, 276, 318, 478, 167, 185, 350, 406, 486, 739, 298, 225, 145, 310, 526, 465, 357, 194, 284, 310, 339, 132, 135, 256, 196, 220, 211, 264, 464, 208, 210, 432, 256, 135, 190, 518, 292, 184, 145, 141, 351, 163, 166, 510, 197, 244, 322, 156, 354, 252, 166, 362, 153, 329, 266, 517, 502, 165, 401, 246, 330, 440, 245, 154, 233, 208, 271, 403, 294, 159, 342, 344, 196, 85, 436, 183, 175, 239, 237, 231, 262, 276, 267, 102, 71, 476, 207, 492, 168, 283, 539, 440, 257, 152, 231, 348, 93, 369, 179, 358, 160, 192, 233, 263, 267, 184, 447, 366, 172, 104, 181, 327, 125, 79, 326, 354, 188, 109, 225, 101, 228, 62, 175, 252, 400, 230, 267, 180, 265, 81, 765, 80, 141, 383, 193, 170, 203, 321, 166, 606, 144, 192, 511, 212, 245, 127, 167, 320, 163, 78, 289, 66, 266, 208, 97, 202, 233, 136, 154, 255, 221, 82, 233, 301, 175, 199, 198, 529, 198, 412, 106, 283, 61, 175, 191, 316, 127, 191, 188, 181, 352, 143, 517, 148, 146, 70, 198, 281, 122, 180, 227, 183, 157, 196, 64, 142, 240, 84, 66, 166, 201, 47, 175, 114, 206, 239, 142, 228, 256, 222, 298, 84, 236, 157, 81, 187, 107, 459, 187, 151, 80, 229, 158, 190, 98, 135, 382, 393, 149, 94, 138, 432, 173, 91, 238, 377, 170, 191, 424, 673, 383, 153, 166, 180, 125, 234, 134, 91, 139, 265, 145, 490, 141, 163, 155, 144, 204, 139, 215, 198, 325, 53, 167, 46, 147, 276, 80, 406, 97, 143, 106, 178, 102, 209, 152, 129, 124, 35, 166, 137, 121, 87, 132, 258, 162, 61, 113, 174, 101, 205, 123, 61, 202, 113, 272, 205, 186, 178, 169, 210, 140, 156, 150, 119, 232, 49, 165, 202, 306, 185, 177, 181, 316, 164, 147, 219, 167, 70, 384, 179, 151, 107, 134, 143, 241, 161, 298, 89, 140, 124, 190, 132, 53, 91, 284, 152, 131, 132, 67, 74, 114, 308, 108, 141, 176, 234, 164, 91, 299, 109, 88, 73, 205, 256, 191, 147, 79, 486, 75, 142, 144, 153, 247, 107, 141, 358, 160, 355, 235, 388, 261, 120, 228, 76, 185, 128, 237, 105, 242, 360, 112, 189, 151, 92, 79, 81, 197, 159, 286, 156, 176, 293, 304, 40, 280, 180, 125, 237, 393, 138, 142, 90, 219, 327, 149, 193, 175, 538, 159, 80, 173, 156, 307, 322, 169, 74, 72, 86, 141, 313, 176, 279, 241, 185, 239, 230, 94, 134, 136, 315, 96, 60, 308, 127, 196, 339, 96, 361, 226, 194, 138, 308, 40, 42, 68, 78, 178, 150, 113, 596, 191, 156, 141, 180, 161, 568, 249, 137, 113, 213, 120, 81, 265, 105, 155, 118, 131, 60, 77, 249, 213, 121, 315, 167, 125, 387, 199, 136, 73, 310, 171, 76, 173, 81, 110, 328, 83, 196, 34, 118, 81, 47, 315, 225, 198, 219, 92, 435, 111, 138, 415, 170, 306, 211, 49, 161, 156, 172, 258, 105, 198, 79, 210, 149, 77, 225, 172, 117, 123, 110, 100, 189, 212, 127, 196, 115, 161, 223, 181, 140, 54, 81, 579, 56, 490, 218, 142, 57, 84, 133, 246, 253, 144, 117, 157, 60, 117, 287, 96, 125, 117, 131, 150, 92, 169, 57, 171, 53, 153, 491, 247, 26, 292, 114, 82, 201, 231, 55, 110, 354, 304, 45, 146, 60, 189, 206, 118, 210, 76, 149, 62, 224, 265, 135, 100, 123, 164, 238, 264, 47, 50, 153, 202, 178, 84, 93, 277, 76, 197, 202, 279, 190, 136, 121, 131, 127, 160, 78, 209, 98, 391, 279, 216, 78, 106, 194, 183, 238, 144, 215, 140, 133, 203, 127, 155, 98, 299, 212, 413, 67, 109, 457, 156, 55, 272, 117, 539, 140, 330, 120, 190, 177, 145, 321, 143, 55, 279, 143, 310, 116, 105, 419, 64, 359, 166, 525, 165, 87, 117, 113, 349, 152, 288, 358, 156, 171, 76, 157, 267, 118, 291, 68, 228, 36, 105, 276, 93, 191, 143, 124, 235, 51, 98, 315, 136, 61, 209, 298, 131, 146, 245, 162, 79, 141, 59, 236, 120, 208, 174, 59, 22, 34, 214, 186, 50, 180, 231, 75, 296, 103, 98, 48, 149, 371, 75, 233, 150, 172, 103, 140, 125, 125, 295, 222, 72, 152, 89, 46, 84, 142, 185, 143, 178, 65, 73, 72, 35, 358, 151, 140, 201, 43, 39, 47, 132, 454, 109, 213, 127, 398, 184, 127, 167, 119, 155, 218, 117, 208, 38, 48, 94, 276, 59, 216, 173, 99, 42, 127, 122, 105, 156, 199, 164, 39, 43, 82, 168, 60, 343, 106, 189, 125, 87, 115, 24, 152, 119, 161, 73, 96, 28, 105, 102, 206, 159, 137, 116, 177, 99, 56, 117, 252, 375, 150, 187, 108, 21, 270, 72, 154, 114, 166, 288, 117, 291, 151, 36, 168, 283, 127, 293, 95, 119, 167, 98, 258, 108, 81, 538, 224, 129, 362, 71, 104, 319, 41, 556, 161, 151, 173, 216, 203, 218, 118, 241, 119, 209, 374, 235, 215, 109, 65, 125, 191, 191, 221, 459, 131, 118, 100, 70, 138, 274, 349, 341, 196, 83, 105, 351, 16, 195, 175, 193, 169, 128, 249, 207, 77, 211, 19, 101, 342, 147, 138, 201, 277, 90, 157, 124, 146, 303, 70, 283, 212, 98, 110, 100, 62, 70, 169, 94, 190, 112, 12, 201, 34, 104, 55, 86, 50, 181, 40, 102, 371, 49, 86, 70, 135, 125, 54, 104, 157, 32, 75, 219, 83, 53, 61, 70, 224, 66, 253, 79, 94, 106, 30, 488, 118, 214, 370, 76, 95, 211, 160, 97, 174, 23, 98, 279, 65, 98, 116, 76, 106, 55, 172, 47, 107, 323, 302, 38, 31, 118, 86, 194, 170, 341, 139, 393, 148, 131, 350, 129, 40, 289, 72, 89, 265, 54, 126, 110, 138, 95, 267, 175, 63, 85, 334, 78, 199, 186, 77, 68, 261, 340, 493, 208, 134, 275, 120, 144, 104, 116, 177, 127, 97, 225, 83, 160, 191, 74, 238, 177, 405, 124, 164, 120, 90, 120, 117, 226, 223, 193, 228, 360, 148, 128, 46, 63, 193, 122, 228, 392, 208, 137, 119, 195, 95, 211, 91, 97, 270, 89, 219, 180, 93, 173, 121, 298, 248, 155, 105, 224, 129, 101, 13, 171, 119, 44, 188, 166, 67, 233, 112, 151, 63, 24, 10, 12, 50, 297, 90, 56, 68, 98, 256, 117, 107, 52, 135, 211, 107, 100, 195, 121, 285, 103, 192, 90, 258, 56, 197, 254, 299, 152, 53, 67, 88, 163, 371, 418, 131, 98, 119, 133, 88, 43, 224, 75, 163, 90, 163, 197, 93, 15, 260, 18, 167, 42, 130, 66, 121, 135, 74, 168, 96, 223, 112, 142, 166, 114, 214, 126, 157, 104, 304, 191, 55, 59, 50, 216, 472, 89, 229, 268, 145, 177, 175, 131, 57, 391, 217, 452, 61, 79, 234, 253, 123, 145, 152, 94, 119, 487, 121, 147, 85, 39, 43, 108, 209, 131, 316, 159, 267, 478, 305, 214, 82, 138, 69, 253, 304, 634, 111, 77, 120, 417, 59, 218, 359, 101, 85, 64, 263, 162, 85, 110, 165, 64, 44, 147, 242, 244, 73, 232, 63, 239, 158, 152, 105, 36, 181, 219, 158, 155, 74, 368, 81, 154, 140, 98, 358, 85, 62, 130, 376, 130, 65, 77, 107, 184, 123, 60, 217, 117, 105, 124, 90, 110, 273, 134, 291, 42, 302, 64, 154, 65, 148, 161, 124, 349, 148, 45, 133, 233, 173, 426, 129, 108, 136, 222, 112, 122, 184, 36, 171, 447, 220, 122, 119, 177, 44, 211, 222, 100, 98, 74, 97, 21, 125, 225, 135, 350, 177, 106, 148, 76, 52, 220, 131, 112, 93, 83, 125, 98, 158, 152, 202, 80, 288, 222, 194, 167, 101, 118, 95, 78, 127, 137, 54, 167, 129, 134, 253, 46, 232, 92, 49, 175, 226, 157, 69, 46, 217, 55, 93, 265, 82, 32, 42, 116, 178, 226, 100, 366, 309, 85, 48, 174, 373, 224, 94, 273, 66, 459, 68, 488, 146, 168, 152, 139, 245, 84, 70, 216, 170, 181, 226, 408, 180, 181, 192, 79, 128, 49, 75, 270, 29, 81, 88, 116, 129, 151, 198, 66, 167, 127, 109, 174, 91, 151, 94, 148, 141, 114, 79, 33, 83, 71, 62, 175, 322, 112, 216, 44, 213, 298, 119, 92, 58, 73, 28, 19, 287, 233, 86, 126, 50, 52, 260, 231, 99, 159, 119, 120, 317, 44, 22, 143, 72, 70, 264, 20, 190, 142, 27, 355, 31, 87, 126, 60, 23, 229, 143, 97, 28, 124, 49, 51, 252, 106, 285, 123, 52, 129, 60, 123, 125, 106, 156, 271, 45, 133, 84, 70, 51, 73, 169, 365, 113, 10, 16, 196, 212, 445, 108, 223, 43, 211, 214, 92, 140, 28, 36, 53, 80, 45, 47, 90, 30, 165, 155, 118, 314, 77, 171, 64, 92, 112, 69, 75, 180, 53, 129, 61, 226, 116, 98, 168, 97, 88, 95, 423, 93, 203, 38, 183, 75, 18, 22, 41, 148, 231, 115, 176, 98, 149, 138, 78, 288, 299, 27, 155, 275, 43, 163, 60, 85, 539, 84, 171, 140, 85, 111, 466, 16, 11, 234, 171, 148, 50, 121, 185, 61, 156, 75, 100, 75, 148, 72, 62, 549, 106, 123, 64, 111, 151, 99, 80, 364, 140, 184, 89, 61, 112, 474, 165, 131, 29, 43, 111, 333, 37, 122, 156, 293, 233, 282, 57, 153, 324, 122, 156, 161, 69, 258, 174, 141, 31, 222, 273, 91, 190, 427, 93, 292, 180, 94, 112, 20, 120, 59, 290, 80, 98, 13, 60, 154, 110, 173, 201, 77, 81, 81, 27, 111, 107, 34, 151, 289, 76, 150, 67, 36, 149, 156, 64, 210, 113, 390, 5, 248, 137, 214, 104, 81, 175, 20, 69, 160, 32, 72, 53, 76, 31, 65, 45, 129, 58, 103, 45, 116, 148, 79, 167, 350, 99, 231, 119, 174, 69, 26, 168, 27, 28, 146, 67, 93, 131, 105, 21, 9, 138, 42, 92, 143, 160, 286, 43, 69, 149, 147, 181, 97, 167, 47, 308, 246, 29, 252, 102, 134, 136, 31, 220, 351, 57, 99, 343, 163, 110, 233, 91, 169, 142, 50, 195, 129, 156, 103, 217, 134, 146, 159, 111, 187, 415, 279, 97, 27, 110, 190, 77, 151, 111, 64, 134, 128, 68, 97, 54, 99, 192, 25, 104, 146, 11, 93, 38, 60, 184, 148, 217, 160, 40, 263, 128, 186, 70, 79, 112, 256, 97, 142, 187, 193, 40, 239, 82, 140, 129, 285, 91, 52, 56, 186, 178, 140, 63, 148, 265, 75, 113, 223, 50, 81, 44, 197, 543, 112, 153, 94, 157, 21, 236, 50, 106, 173, 145, 31, 105, 150, 72, 158, 96, 84, 103, 67, 576, 178, 196, 24, 56, 51, 41, 138, 78, 40, 285, 124, 275, 67, 103, 300, 84, 64, 158, 46, 15, 68, 111, 65, 109, 42, 112, 146, 36, 230, 64, 75, 67, 216, 54, 32, 40, 40, 251, 94, 21, 94, 173, 27, 60, 70, 454, 25, 111, 393, 55, 157, 280, 109, 27, 462, 152, 69, 130, 66, 238, 198, 131, 97, 355, 102, 419, 37, 78, 181, 349, 241, 103, 151, 112, 74, 65, 274, 50, 96, 68, 111, 128, 160, 93, 278, 81, 58, 25, 46, 161, 108, 69, 78, 129, 135, 96, 417, 172, 88, 45, 414, 291, 97, 37, 90, 81, 221, 119, 97, 119, 42, 24, 208, 42, 44, 46, 197, 71, 190, 50, 63, 104, 49, 300, 43, 132, 97, 242, 218, 49, 223, 59, 223, 328, 150, 21, 260, 141, 52, 205, 109, 177, 62, 19, 50, 147, 222, 106, 136, 131, 140, 94, 32, 39, 264, 86, 112, 101, 10, 43, 331, 38, 12, 40, 125, 56, 160, 71, 62, 73, 205, 61, 77, 251, 63, 47, 108, 64, 20, 2, 262, 69, 57, 116, 88, 181, 107, 132, 401, 192, 157, 62, 4, 84, 101, 102, 63, 106, 50, 275, 90, 133, 49, 186, 185, 42, 37, 45, 57, 25, 59, 58, 489, 40, 112, 84, 251, 113, 421, 32, 81, 39, 63, 47, 111, 168, 165, 104, 150, 61, 226, 21, 364, 19, 129, 71, 93, 399, 110, 285, 242, 121, 83, 122, 120, 225, 167, 226, 185, 177, 28, 48, 116, 391, 117, 24, 86, 41, 304, 385, 145, 99, 29, 77, 91, 148, 61, 84, 83, 216, 107, 63, 140, 153, 414, 111, 229, 207, 198, 45, 34, 75, 128, 68, 326, 128, 164, 354, 125, 66, 191, 433, 66, 37, 325, 170, 24, 96, 53, 274, 248, 288, 177, 81, 29, 58, 144, 114, 132, 60, 138, 190, 61, 131, 146, 280, 121, 38, 123, 72, 78, 69, 42, 149, 74, 98, 183, 158, 89, 128, 410, 54, 141, 57, 216, 80, 101, 156, 109, 62, 52, 351, 37, 58, 75, 203, 188, 66, 80, 25, 169, 70, 15, 535, 92, 14, 78, 160, 75, 20, 105, 120, 108, 215, 81, 161, 210, 52, 139, 165, 96, 190, 173, 59, 22, 203, 77, 190, 81, 56, 264, 44, 117, 159, 273, 26, 242, 55, 48, 166, 92, 78, 83, 8, 86, 85, 76, 189, 82, 120, 183, 211, 14, 221, 158, 73, 65, 63, 132, 191, 91, 368, 89, 83, 33, 386, 191, 16, 47, 63, 144, 77, 325, 100, 52, 163, 137, 100, 265, 162, 147, 94, 38, 91, 46, 182, 181, 23, 30, 287, 96, 27, 44, 49, 185, 2, 270, 94, 49, 80, 221, 376, 144, 82, 129, 73, 43, 200, 79, 17, 29, 23, 43, 20, 71, 152, 55, 130, 66, 61, 56, 439, 50, 277, 259, 66, 129, 29, 32, 142, 263, 285, 150, 136, 132, 186, 117, 136, 15, 65, 100, 129, 67, 31, 76, 81, 26, 24, 80, 35, 133, 66, 273, 32, 52, 175, 132, 66, 222, 210, 46, 147, 215, 534, 66, 119, 43, 270, 58, 53, 37, 327, 135, 164, 143, 59, 40, 121, 288, 107, 91, 231, 262, 196, 83, 11, 72, 248, 128, 45, 49, 163, 163, 90, 23, 118, 283, 74, 41, 66, 140, 32, 68, 79, 26, 100, 56, 150, 85, 21, 61, 34, 62, 239, 278, 9, 127, 9, 35, 192, 133, 222, 242, 224, 387, 120, 51, 331, 83, 140, 136, 79, 52, 271, 112, 118, 35, 342, 137, 50, 180, 28, 341, 160, 31, 281, 114, 72, 119, 74, 25, 39, 27, 158, 223, 97, 117, 389, 34, 161, 6, 16, 12, 134, 39, 133, 104, 49, 38, 74, 224, 226, 36, 142, 271, 33, 64, 18, 14, 137, 111, 97, 73, 149, 200, 84, 217, 183, 153, 124, 288, 130, 145, 120, 71, 52, 18, 88, 96, 32, 119, 34, 88, 25, 252, 137, 67, 216, 133, 149, 261, 76, 35, 108, 17, 129, 84, 147, 16, 63, 56, 36, 47, 162, 88, 111, 112, 161, 68, 25, 222, 119, 90, 71, 364, 122, 100, 112, 67, 91, 27, 205, 72, 48, 65, 284, 47, 250, 411, 106, 159, 251, 183, 131, 41, 248, 42, 91, 185, 220, 471, 152, 274, 336, 151, 276, 95, 179, 196, 9, 31, 309, 129, 168, 444, 123, 246, 74, 68, 144, 96, 42, 29, 228, 195, 203, 45, 29, 121, 135, 56, 59, 60, 81, 120, 195, 109, 12, 155, 81, 204, 19, 163, 248, 39, 322, 37, 27, 31, 13, 99, 122, 359, 130, 159, 87, 121, 45, 84, 35, 283, 54, 92, 98, 149, 111, 149, 232, 63, 75, 154, 44, 153, 256, 123, 149, 323, 161, 177, 27, 22, 157, 125, 300, 69, 143, 51, 163, 50, 45, 121, 114, 116, 15, 41, 31, 232, 43, 68, 33, 26, 34, 141, 64, 215, 12, 70, 36, 157, 31, 53, 21, 78, 41, 61, 112, 122, 134, 20, 28, 95, 425, 127, 262, 39, 337, 50, 50, 9, 169, 290, 535, 214, 47, 349, 60, 155, 261, 94, 164, 264, 94, 215, 138, 55, 361, 411, 24, 35, 158, 122, 16, 112, 114, 49, 37, 29, 81, 75, 82, 33, 22, 30, 79, 49, 42, 152, 23, 19, 272, 156, 82, 40, 63, 20, 174, 71, 35, 251, 159, 110, 213, 61, 166, 29, 173, 129, 30, 75, 162, 26, 63, 74, 252, 72, 220, 14, 22, 62, 47, 238, 25, 172, 8, 235, 160, 18, 97, 67, 4, 167, 49, 533, 177, 77, 123, 218, 215, 34, 56, 126, 365, 151, 158, 118, 39, 65, 160, 168, 107, 123, 46, 74, 34, 78, 30, 94, 45, 60, 363, 10, 311, 85, 663, 39, 181, 114, 179, 225, 77, 124, 195, 76, 22, 173, 61, 110, 53, 106, 94, 75, 97, 37, 84, 127, 32, 31, 14, 178, 46, 78, 60, 98, 43, 15, 14, 35, 242, 16, 100, 137, 122, 99, 10, 173, 111, 38, 9, 91, 57, 97, 481, 141, 270, 161, 184, 270, 203, 29, 137, 107, 377, 169, 225, 101, 337, 38, 181, 149, 54, 18, 87, 51, 16, 12, 59, 88, 28, 44, 117, 29, 84, 40, 31, 2, 238, 112, 33, 29, 36, 8, 9, 134, 18, 233, 65, 62, 35, 115, 16, 74, 11, 59, 29, 224, 82, 271, 255, 292, 31, 114, 53, 64, 208, 66, 360, 53, 15, 18, 105, 50, 5, 235, 95, 154, 20, 70, 46, 54, 126, 17, 25, 11, 81, 35, 230, 9, 17, 344, 29, 8, 92, 365, 88, 65, 71, 220, 279, 409, 69, 4, 203, 148, 36, 279, 40, 64, 56, 29, 131, 88, 189, 13, 286, 71, 51, 23, 59, 99, 43, 206, 162, 67, 77, 37, 46, 143, 242, 38, 91, 232, 40, 31, 159, 21, 88, 193, 66, 65, 113, 75, 21, 3, 80, 81], \"type\": \"box\", \"uid\": \"b315f3e2-8afa-4c1c-8225-bb53f91925ee\"}], {}, {\"showLink\": true, \"linkText\": \"Export to plot.ly\", \"plotlyServerURL\": \"https://plot.ly\"})});</script><script type=\"text/javascript\">window.addEventListener(\"resize\", function(){window._Plotly.Plots.resize(document.getElementById(\"1583c95f-29dc-4b93-9f28-748f3f09cb03\"));});</script>"
      ]
     },
     "metadata": {},
     "output_type": "execute_result"
    }
   ],
   "source": [
    "### BEGIN SOLUTION\n",
    "duration = [i[0] for i in c.execute('''SELECT duration FROM movies''').fetchall()]\n",
    "imdb = [i[0] for i in c.execute('''SELECT imdb_score FROM movies''').fetchall()]\n",
    "num_critic = [i[0] for i in c.execute('''SELECT num_critic_for_reviews FROM movies''').fetchall()]\n",
    "\n",
    "trace1 = go.Box(x = duration,name = 'duration')\n",
    "trace2 = go.Box(x = imdb,name = 'imdb_score')\n",
    "trace3 = go.Box(x = num_critic, name = 'num_critic_for_reviews')\n",
    "\n",
    "py.iplot([trace1])\n",
    "py.iplot([trace2])\n",
    "py.iplot([trace3])\n",
    "## END SOLUTION"
   ]
  },
  {
   "cell_type": "markdown",
   "metadata": {},
   "source": [
    "**Task 5.2**: Create a pie chart of movie counts per country of countries that have more than 10 movies"
   ]
  },
  {
   "cell_type": "code",
   "execution_count": 19,
   "metadata": {
    "scrolled": false
   },
   "outputs": [
    {
     "data": {
      "text/html": [
       "<div id=\"6468ab61-72de-4f66-8519-cfc55285fd10\" style=\"height: 525px; width: 100%;\" class=\"plotly-graph-div\"></div><script type=\"text/javascript\">require([\"plotly\"], function(Plotly) { window.PLOTLYENV=window.PLOTLYENV || {};window.PLOTLYENV.BASE_URL=\"https://plot.ly\";Plotly.newPlot(\"6468ab61-72de-4f66-8519-cfc55285fd10\", [{\"labels\": [\"australia\", \"canada\", \"china\", \"france\", \"germany\", \"japan\", \"spain\", \"uk\", \"usa\"], \"values\": [32, 55, 12, 75, 66, 12, 20, 253, 2403], \"type\": \"pie\", \"uid\": \"a853605f-cfe8-4e3d-bc93-38a25a661087\"}], {\"title\": \"Movie Counts per Country\"}, {\"showLink\": true, \"linkText\": \"Export to plot.ly\", \"plotlyServerURL\": \"https://plot.ly\"})});</script><script type=\"text/javascript\">window.addEventListener(\"resize\", function(){window._Plotly.Plots.resize(document.getElementById(\"6468ab61-72de-4f66-8519-cfc55285fd10\"));});</script>"
      ]
     },
     "metadata": {},
     "output_type": "execute_result"
    }
   ],
   "source": [
    "### BEGIN SOLUTION\n",
    "import warnings\n",
    "warnings.filterwarnings('ignore')\n",
    "sql_selcountry_values = '''SELECT COUNT(*)  FROM movies GROUP BY country HAVING COUNT(*) > 10'''\n",
    "sql_selcountry_keys = '''SELECT country  FROM movies GROUP BY country HAVING COUNT(*) > 10'''\n",
    "counts = [i[0] for i in c.execute(sql_selcountry_values).fetchall()]\n",
    "countries = [i[0] for i in c.execute(sql_selcountry_keys).fetchall()]\n",
    "trace = go.Pie(labels = countries, values = counts)\n",
    "data = go.Data([trace])\n",
    "layout = go.Layout(title = 'Movie Counts per Country')\n",
    "figure = go.Figure(data=data,layout=layout)\n",
    "py.iplot(figure)\n",
    "### END SOLUTION"
   ]
  },
  {
   "cell_type": "markdown",
   "metadata": {},
   "source": [
    "**Task 5.3**: Plot a curve of cumulative number of movies released over time.\n",
    "\n",
    "** hint **: use [cumsum](https://pandas.pydata.org/pandas-docs/stable/generated/pandas.DataFrame.cumsum.html) function."
   ]
  },
  {
   "cell_type": "code",
   "execution_count": 20,
   "metadata": {
    "scrolled": true
   },
   "outputs": [
    {
     "data": {
      "text/html": [
       "<div id=\"83c9cf9a-e4c6-4de0-8b1d-4d680b66166e\" style=\"height: 525px; width: 100%;\" class=\"plotly-graph-div\"></div><script type=\"text/javascript\">require([\"plotly\"], function(Plotly) { window.PLOTLYENV=window.PLOTLYENV || {};window.PLOTLYENV.BASE_URL=\"https://plot.ly\";Plotly.newPlot(\"83c9cf9a-e4c6-4de0-8b1d-4d680b66166e\", [{\"x\": [1927, 1929, 1933, 1935, 1939, 1940, 1946, 1948, 1950, 1952, 1953, 1954, 1957, 1960, 1961, 1962, 1963, 1964, 1965, 1967, 1968, 1969, 1970, 1971, 1973, 1974, 1975, 1976, 1977, 1978, 1979, 1980, 1981, 1982, 1983, 1984, 1985, 1986, 1987, 1988, 1989, 1990, 1991, 1992, 1993, 1994, 1995, 1996, 1997, 1998, 1999, 2000, 2001, 2002, 2003, 2004, 2005, 2006, 2007, 2008, 2009, 2010, 2011, 2012, 2013, 2014, 2015, 2016], \"y\": [1, 2, 3, 4, 6, 7, 9, 10, 11, 12, 14, 15, 16, 17, 18, 20, 23, 27, 32, 33, 34, 36, 40, 43, 47, 50, 52, 54, 59, 64, 68, 78, 93, 104, 114, 129, 142, 160, 184, 210, 233, 253, 275, 296, 334, 373, 424, 497, 580, 670, 795, 918, 1065, 1227, 1343, 1489, 1637, 1792, 1912, 2063, 2205, 2347, 2494, 2627, 2757, 2875, 2974, 3023], \"type\": \"scatter\", \"uid\": \"220d6b84-8de0-4017-b97f-0bc6e20dd7fe\"}], {\"title\": \" Cumulative Number of Movies Released Over Time\", \"xaxis\": {\"title\": \"year\"}, \"yaxis\": {\"title\": \"cum_# of movies\"}}, {\"showLink\": true, \"linkText\": \"Export to plot.ly\", \"plotlyServerURL\": \"https://plot.ly\"})});</script><script type=\"text/javascript\">window.addEventListener(\"resize\", function(){window._Plotly.Plots.resize(document.getElementById(\"83c9cf9a-e4c6-4de0-8b1d-4d680b66166e\"));});</script>"
      ]
     },
     "metadata": {},
     "output_type": "execute_result"
    }
   ],
   "source": [
    "### BEGIN SOLUTION\n",
    "sql_year = '''SELECT title_year,count(*) FROM movies GROUP BY title_year'''\n",
    "df = pd.read_sql(sql_year,conn)\n",
    "years = df['title_year'].tolist()\n",
    "cum_counts = df['count(*)'].cumsum().tolist()\n",
    "trace = go.Scatter(x = years, y = cum_counts)\n",
    "data = go.Data([trace])\n",
    "layout = go.Layout(title = ' Cumulative Number of Movies Released Over Time', xaxis={'title':'year'}, yaxis={'title':'cum_# of movies'})\n",
    "figure = go.Figure(data=data,layout=layout)\n",
    "py.iplot(figure)\n",
    "### END SOLUTION"
   ]
  },
  {
   "cell_type": "markdown",
   "metadata": {},
   "source": [
    "***\n",
    "## Part 6: Performance Improvement\n",
    "In this part, we will see how to speedup database access by using temporary tables and indexing."
   ]
  },
  {
   "cell_type": "markdown",
   "metadata": {},
   "source": [
    "### Temporary Tables\n",
    "Looking at the source code you have developed for the company you notice the following type of query turns out to be a bottle neck, "
   ]
  },
  {
   "cell_type": "code",
   "execution_count": 21,
   "metadata": {},
   "outputs": [],
   "source": [
    "sql_query = '''\n",
    "SELECT *\n",
    "FROM actors a, directors d, movies m, facts f \n",
    "WHERE a.actor_id = f.actor_1_id AND d.director_id = f.director_id AND m.movie_id = f.movie_id \n",
    "ORDER BY m.movie_facebook_likes DESC LIMIT 10\n",
    "'''"
   ]
  },
  {
   "cell_type": "markdown",
   "metadata": {},
   "source": [
    "Below is some code to benchmark its performance.  \n",
    "\n",
    "**Task 6.1:** If necessary, fix the code cells below so they run on your movie.db database. "
   ]
  },
  {
   "cell_type": "code",
   "execution_count": 22,
   "metadata": {},
   "outputs": [],
   "source": [
    "# make a new version of the database to play with\n",
    "conn = sqlite3.connect('movie1.db')\n",
    "create_movie_database(conn)\n",
    "update_database('all_data.csv', conn)                   "
   ]
  },
  {
   "cell_type": "code",
   "execution_count": 23,
   "metadata": {},
   "outputs": [],
   "source": [
    "def test_query(conn, sql_query, num):\n",
    "    '''Execute sql_query num times'''\n",
    "    c = conn.cursor()\n",
    "    for i in range(num):\n",
    "        c.execute(sql_query)"
   ]
  },
  {
   "cell_type": "code",
   "execution_count": 24,
   "metadata": {},
   "outputs": [
    {
     "name": "stdout",
     "output_type": "stream",
     "text": [
      "1min 9s ± 1.6 s per loop (mean ± std. dev. of 7 runs, 1 loop each)\n"
     ]
    }
   ],
   "source": [
    "conn = sqlite3.connect('movie1.db')\n",
    "%timeit test_query(conn, sql_query, 50000)"
   ]
  },
  {
   "cell_type": "markdown",
   "metadata": {},
   "source": [
    "One way to speed this query up is to store it's results and refer to them as needed, as opposed to rerunning the query.  This is often done *inside* the database by using SQL to create a temporary table, and then querying it."
   ]
  },
  {
   "cell_type": "code",
   "execution_count": 25,
   "metadata": {},
   "outputs": [
    {
     "name": "stdout",
     "output_type": "stream",
     "text": [
      "1.25 s ± 3.46 ms per loop (mean ± std. dev. of 7 runs, 1 loop each)\n"
     ]
    }
   ],
   "source": [
    "def test_cached_query(conn, num):\n",
    "    ''' Create a temporary table for the sql_query's results,\n",
    "    then select from the temporary table num times.'''\n",
    "    c = conn.cursor()\n",
    "    c.execute('''DROP TABLE IF EXISTS mytmp''')\n",
    "    c.execute(f'''CREATE TABLE IF NOT EXISTS mytmp AS {sql_query}''')\n",
    "    conn.commit()\n",
    "    for i in range(num):\n",
    "        c.execute('''SELECT * FROM mytmp''')\n",
    "\n",
    "        \n",
    "%timeit test_cached_query(conn, 50000)"
   ]
  },
  {
   "cell_type": "markdown",
   "metadata": {},
   "source": [
    "### Analysis\n",
    "\n",
    "In this example, the run time of each test depends on the parameter `num`. The code below runs both `test` and  `test_mytmp` for various numbers of queries and plots their run time.  Note: This function uses `timeit` to find average execution times using repeated trials, the number of trails used depends on each trails run time (shorter times use more trials)."
   ]
  },
  {
   "cell_type": "code",
   "execution_count": 26,
   "metadata": {},
   "outputs": [
    {
     "name": "stdout",
     "output_type": "stream",
     "text": [
      "1.38 ms ± 7.92 µs per loop (mean ± std. dev. of 7 runs, 1000 loops each)\n",
      "3.81 ms ± 137 µs per loop (mean ± std. dev. of 7 runs, 100 loops each)\n",
      "13.7 ms ± 27 µs per loop (mean ± std. dev. of 7 runs, 100 loops each)\n",
      "3.97 ms ± 83.8 µs per loop (mean ± std. dev. of 7 runs, 100 loops each)\n",
      "138 ms ± 279 µs per loop (mean ± std. dev. of 7 runs, 10 loops each)\n",
      "6.62 ms ± 118 µs per loop (mean ± std. dev. of 7 runs, 100 loops each)\n",
      "1.38 s ± 5.3 ms per loop (mean ± std. dev. of 7 runs, 1 loop each)\n",
      "32.6 ms ± 799 µs per loop (mean ± std. dev. of 7 runs, 10 loops each)\n",
      "2.78 s ± 28.2 ms per loop (mean ± std. dev. of 7 runs, 1 loop each)\n",
      "57.7 ms ± 738 µs per loop (mean ± std. dev. of 7 runs, 10 loops each)\n",
      "4.13 s ± 7.73 ms per loop (mean ± std. dev. of 7 runs, 1 loop each)\n",
      "83.4 ms ± 591 µs per loop (mean ± std. dev. of 7 runs, 10 loops each)\n"
     ]
    },
    {
     "data": {
      "text/plain": [
       "<matplotlib.legend.Legend at 0x121826390>"
      ]
     },
     "execution_count": 26,
     "metadata": {},
     "output_type": "execute_result"
    },
    {
     "data": {
      "image/png": "[encoded data removed]",
      "text/plain": [
       "<Figure size 432x288 with 1 Axes>"
      ]
     },
     "metadata": {
      "needs_background": "light"
     },
     "output_type": "display_data"
    }
   ],
   "source": [
    "import timeit as timeit\n",
    "import matplotlib.pyplot as plt\n",
    "%matplotlib inline\n",
    "X = [1, 10, 100, 1000, 2000, 3000]\n",
    "a = []\n",
    "b = []\n",
    "for i in X:\n",
    "    result = %timeit -o test_query(conn, sql_query, i)\n",
    "    a.append(result.average)\n",
    "    result = %timeit -o test_cached_query(conn, i)\n",
    "    b.append(result.average)     \n",
    "    \n",
    "plt.plot(X, a, label = 'test_query')\n",
    "plt.plot(X, b, label = 'test_cached_query')\n",
    "plt.xlabel('number of queries')\n",
    "plt.ylabel('seconds')\n",
    "plt.legend()"
   ]
  },
  {
   "cell_type": "markdown",
   "metadata": {},
   "source": [
    "**Task 6.1** What do the performance curves tell you about the use of temporary tables in this example? Are there any trade-offs? (you may need adjust the range of values of `X` and this code a few times to get a good feel for the situation)"
   ]
  },
  {
   "cell_type": "markdown",
   "metadata": {},
   "source": [
    "```\n",
    "### BEGIN SOLUTION\n",
    "When number is extremely small, the speed of temporary tables is even slow than the speed of common query. But when number is increaing, the speed of temporary tables will be much faster than common query.\n",
    "\n",
    "Trade-offs:\n",
    "Although using temporary tables is quicker than using permanent tables, we cannot update in functions. To be specific, we can not use INSERT, UPDATE or DELETE statements against temporary tables in user-defined functions. Beseide, temporary tables cannot be rolled back, which need to drop and create. What's more, temporary tables are considered as regular database object, in terms of transaction handling and performance, therefore using many temporary tables in your stored procedures can lead to very poor database performance.\n",
    "\n",
    "### END SOLUTION\n",
    "```"
   ]
  },
  {
   "cell_type": "markdown",
   "metadata": {},
   "source": [
    "### Indexing\n",
    "\n",
    "\n",
    "The next three functions create and exercise a toy database called test.db.\n",
    "* `setup_test_db` creates a table  \n",
    "* `insert_test` performs `num` SQL `INSERT`s into the table\n",
    "* `select_test` does `num` SQL `SELECT`s.  "
   ]
  },
  {
   "cell_type": "code",
   "execution_count": 27,
   "metadata": {},
   "outputs": [],
   "source": [
    "import numpy as np\n",
    "def setup_test_db(conn):\n",
    "    conn.execute('DROP TABLE IF EXISTS scripts')\n",
    "    conn.execute('''\n",
    "            CREATE TABLE scripts (\n",
    "                script_id INTEGER,\n",
    "                author_name text,\n",
    "                script_name text,\n",
    "                author_facebook_likes int,\n",
    "                PRIMARY KEY(script_id))\n",
    "                ''')\n",
    "    conn.commit()\n",
    "    return conn\n",
    "\n",
    "\n",
    "def insert_test(conn, setup_db, num):\n",
    "    '''create a test base with setup_db, do num inserts to it'''\n",
    "    setup_db(conn)\n",
    "    c = conn.cursor()\n",
    "    for i in range(num):\n",
    "        c.execute('''INSERT INTO scripts (script_name, author_facebook_likes) VALUES (?,?)''', (f\"Dr. Who #{i*2}\", np.random.randint(1e6)))\n",
    "    conn.commit()\n",
    "\n",
    "def select_test(conn, num):\n",
    "    '''do num selects from the test database'''\n",
    "    c = conn.cursor()\n",
    "    for i in range(num):\n",
    "        c.execute('''SELECT author_facebook_likes \n",
    "                     FROM scripts\n",
    "                     WHERE script_name = ?''', (f\"Dr. Who #{i}\",))"
   ]
  },
  {
   "cell_type": "markdown",
   "metadata": {},
   "source": [
    "Below is some code for benchmarking this database.  Run it to see how well the database currently performs."
   ]
  },
  {
   "cell_type": "code",
   "execution_count": 28,
   "metadata": {},
   "outputs": [],
   "source": [
    "conn = sqlite3.connect('test.db')"
   ]
  },
  {
   "cell_type": "code",
   "execution_count": 29,
   "metadata": {},
   "outputs": [
    {
     "name": "stdout",
     "output_type": "stream",
     "text": [
      "62.8 ms ± 1.5 ms per loop (mean ± std. dev. of 3 runs, 3 loops each)\n"
     ]
    }
   ],
   "source": [
    "%timeit -n 3 -r 3 insert_test(conn, setup_test_db, 15000)"
   ]
  },
  {
   "cell_type": "code",
   "execution_count": 30,
   "metadata": {},
   "outputs": [
    {
     "name": "stdout",
     "output_type": "stream",
     "text": [
      "685 ms ± 2.92 ms per loop (mean ± std. dev. of 3 runs, 3 loops each)\n"
     ]
    }
   ],
   "source": [
    "%timeit -n 3 -r 3 select_test(conn, 1500) "
   ]
  },
  {
   "cell_type": "markdown",
   "metadata": {},
   "source": [
    "### Adding an Index\n",
    "We can optimize the database so that `test_select` test performs more quickly by adding an index to the field that is being used for matching.\n",
    "\n",
    "See [here](http://www.sqlitetutorial.net/sqlite-index/) for some information on  `INDEX` and `CREATE INDEX`."
   ]
  },
  {
   "cell_type": "code",
   "execution_count": 31,
   "metadata": {},
   "outputs": [],
   "source": [
    "def setup_test_db_with_index(conn):\n",
    "    conn.execute('DROP TABLE IF EXISTS scripts')\n",
    "    conn.execute('''\n",
    "            CREATE TABLE scripts (\n",
    "                script_id INTEGER,\n",
    "                author_name text,\n",
    "                script_name text,\n",
    "                author_facebook_likes int,\n",
    "                PRIMARY KEY(script_id))\n",
    "                ''')\n",
    "    conn.execute('''CREATE INDEX IF NOT EXISTS script_name_index ON scripts(script_name)''')\n",
    "    conn.commit()\n",
    "    return conn"
   ]
  },
  {
   "cell_type": "markdown",
   "metadata": {},
   "source": [
    "Run the following code to see how your optimization performs."
   ]
  },
  {
   "cell_type": "code",
   "execution_count": 32,
   "metadata": {},
   "outputs": [
    {
     "name": "stdout",
     "output_type": "stream",
     "text": [
      "65 ms ± 1.5 ms per loop (mean ± std. dev. of 3 runs, 3 loops each)\n",
      "86.3 ms ± 3.5 ms per loop (mean ± std. dev. of 3 runs, 3 loops each)\n"
     ]
    }
   ],
   "source": [
    "conn = sqlite3.connect('test.db')\n",
    "conn_with_index = sqlite3.connect('test_with_index.db')\n",
    "\n",
    "N = 15000 # number of inserts to do\n",
    "%timeit -n 3 -r 3 insert_test(conn, setup_test_db, N)\n",
    "%timeit -n 3 -r 3 insert_test(conn_with_index, setup_test_db_with_index, N)"
   ]
  },
  {
   "cell_type": "code",
   "execution_count": 33,
   "metadata": {},
   "outputs": [
    {
     "name": "stdout",
     "output_type": "stream",
     "text": [
      "683 ms ± 5.22 ms per loop (mean ± std. dev. of 3 runs, 3 loops each)\n",
      "23.1 ms ± 270 µs per loop (mean ± std. dev. of 3 runs, 3 loops each)\n"
     ]
    }
   ],
   "source": [
    "N = 1500 # number selects to do\n",
    "%timeit -n 3 -r 3 select_test(conn, N) \n",
    "%timeit -n 3 -r 3 select_test(conn_with_index, N) "
   ]
  },
  {
   "cell_type": "markdown",
   "metadata": {},
   "source": [
    "**Task 6.2**: Explain the performance changes you see.  Have any trade-offs been made in speed?  How about in the file size of test.db and test_with_index.db? \n",
    "\n",
    "Hint: https://use-the-index-luke.com/This is an amusing website where you can learn about the technology when indexing."
   ]
  },
  {
   "cell_type": "markdown",
   "metadata": {},
   "source": [
    "`### BEGIN SOLUTION`\n",
    "The performance changes: Adding index will lead to more time creating tables, but when we do some querys, such as SELECT, the time will be much shorter compared with do such things in database without index.\n",
    "\n",
    "Trade-offs:\n",
    "Although using index can make searching in the database much faster, the index itself occupies space on disk and memory, so, if space or memory are issues then too many indexes could be a problem. Besides, when data is inserted/updated/deleted, then the index needs to be maintained as well as the original data, which slows down updates. It means that if there are too many indexes, then data modifications would slow down(However, if data is static, this won't be an issue).\n",
    "\n",
    "The size of test_with_index.db is about 774kb which is larger than test.db(410kb)\n",
    "\n",
    "\n",
    "`### END SOLUTION`"
   ]
  }
 ],
 "metadata": {
  "kernelspec": {
   "display_name": "Python 3",
   "language": "python",
   "name": "python3"
  },
  "language_info": {
   "codemirror_mode": {
    "name": "ipython",
    "version": 3
   },
   "file_extension": ".py",
   "mimetype": "text/x-python",
   "name": "python",
   "nbconvert_exporter": "python",
   "pygments_lexer": "ipython3",
   "version": "3.6.6"
  }
 },
 "nbformat": 4,
 "nbformat_minor": 2
}
